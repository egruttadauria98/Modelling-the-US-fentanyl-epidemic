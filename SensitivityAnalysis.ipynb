{
 "cells": [
  {
   "cell_type": "code",
   "execution_count": 129,
   "id": "1298cb08",
   "metadata": {
    "executionInfo": {
     "elapsed": 731,
     "status": "ok",
     "timestamp": 1622119469673,
     "user": {
      "displayName": "Elio Gruttadauria",
      "photoUrl": "https://lh3.googleusercontent.com/a-/AOh14Ghd29dFmwRrOMapQt64cEJbRKsM7h1QtIfd0OLG5g=s64",
      "userId": "16216760321278748076"
     },
     "user_tz": -120
    },
    "id": "KnSHSOoX0Lzw"
   },
   "outputs": [],
   "source": [
    "import numpy as np\n",
    "import pandas as pd\n",
    "import matplotlib.pyplot as plt\n",
    "%matplotlib inline\n",
    "import uncertainpy as un\n",
    "from scipy.integrate import odeint\n",
    "import chaospy as cp\n",
    "import seaborn as sns"
   ]
  },
  {
   "cell_type": "markdown",
   "id": "cdd2172a",
   "metadata": {
    "id": "Duq2Lij70Lzz"
   },
   "source": [
    "# USA data"
   ]
  },
  {
   "cell_type": "code",
   "execution_count": 130,
   "id": "f1b6ded8",
   "metadata": {
    "executionInfo": {
     "elapsed": 492,
     "status": "ok",
     "timestamp": 1622121036348,
     "user": {
      "displayName": "Elio Gruttadauria",
      "photoUrl": "https://lh3.googleusercontent.com/a-/AOh14Ghd29dFmwRrOMapQt64cEJbRKsM7h1QtIfd0OLG5g=s64",
      "userId": "16216760321278748076"
     },
     "user_tz": -120
    },
    "id": "irGw16OX0Lzz"
   },
   "outputs": [],
   "source": [
    "# Upload data\n",
    "\n",
    "df_prescription_opioids = pd.read_csv( 'od_data_prescription_opioids.csv', sep=';', decimal=',')\n",
    "df_heroin = pd.read_csv('od_data_heroin.csv', sep=';', decimal=',')\n",
    "df_fentanyl = pd.read_csv( 'od_data_fentanyl.csv', sep=';', decimal=',')"
   ]
  },
  {
   "cell_type": "code",
   "execution_count": 131,
   "id": "cbe1b390",
   "metadata": {
    "executionInfo": {
     "elapsed": 3,
     "status": "ok",
     "timestamp": 1622121037398,
     "user": {
      "displayName": "Elio Gruttadauria",
      "photoUrl": "https://lh3.googleusercontent.com/a-/AOh14Ghd29dFmwRrOMapQt64cEJbRKsM7h1QtIfd0OLG5g=s64",
      "userId": "16216760321278748076"
     },
     "user_tz": -120
    },
    "id": "6sT9Himw0Lz0"
   },
   "outputs": [],
   "source": [
    "df_prescription_opioids.set_index('Year', inplace=True)\n",
    "df_heroin.set_index('Year', inplace=True)\n",
    "df_fentanyl.set_index('Year', inplace=True)"
   ]
  },
  {
   "cell_type": "code",
   "execution_count": 132,
   "id": "9f08d412",
   "metadata": {
    "colab": {
     "base_uri": "https://localhost:8080/",
     "height": 252
    },
    "executionInfo": {
     "elapsed": 483,
     "status": "ok",
     "timestamp": 1622121040397,
     "user": {
      "displayName": "Elio Gruttadauria",
      "photoUrl": "https://lh3.googleusercontent.com/a-/AOh14Ghd29dFmwRrOMapQt64cEJbRKsM7h1QtIfd0OLG5g=s64",
      "userId": "16216760321278748076"
     },
     "user_tz": -120
    },
    "id": "EqlVvR8w0Lz0",
    "outputId": "c972de5b-8a33-4142-91e8-260422fc08c2"
   },
   "outputs": [
    {
     "data": {
      "text/html": [
       "<div>\n",
       "<style scoped>\n",
       "    .dataframe tbody tr th:only-of-type {\n",
       "        vertical-align: middle;\n",
       "    }\n",
       "\n",
       "    .dataframe tbody tr th {\n",
       "        vertical-align: top;\n",
       "    }\n",
       "\n",
       "    .dataframe thead th {\n",
       "        text-align: right;\n",
       "    }\n",
       "</style>\n",
       "<table border=\"1\" class=\"dataframe\">\n",
       "  <thead>\n",
       "    <tr style=\"text-align: right;\">\n",
       "      <th></th>\n",
       "      <th>Average</th>\n",
       "      <th>Female</th>\n",
       "      <th>Male</th>\n",
       "      <th>White (Non-Hispanic)</th>\n",
       "      <th>Black (Non-Hispanic)</th>\n",
       "      <th>Asian or Pacific Islander (Non-Hispanic)</th>\n",
       "      <th>Hispanic</th>\n",
       "      <th>American Indian or Alaska Native (Non-Hispanic)</th>\n",
       "    </tr>\n",
       "    <tr>\n",
       "      <th>Year</th>\n",
       "      <th></th>\n",
       "      <th></th>\n",
       "      <th></th>\n",
       "      <th></th>\n",
       "      <th></th>\n",
       "      <th></th>\n",
       "      <th></th>\n",
       "      <th></th>\n",
       "    </tr>\n",
       "  </thead>\n",
       "  <tbody>\n",
       "    <tr>\n",
       "      <th>1999</th>\n",
       "      <td>0.7</td>\n",
       "      <td>0.2</td>\n",
       "      <td>1.2</td>\n",
       "      <td>0.7</td>\n",
       "      <td>0.8</td>\n",
       "      <td>0.0</td>\n",
       "      <td>1.1</td>\n",
       "      <td>0.0</td>\n",
       "    </tr>\n",
       "    <tr>\n",
       "      <th>2000</th>\n",
       "      <td>0.7</td>\n",
       "      <td>0.2</td>\n",
       "      <td>1.1</td>\n",
       "      <td>0.6</td>\n",
       "      <td>0.9</td>\n",
       "      <td>0.0</td>\n",
       "      <td>0.9</td>\n",
       "      <td>0.0</td>\n",
       "    </tr>\n",
       "    <tr>\n",
       "      <th>2001</th>\n",
       "      <td>0.6</td>\n",
       "      <td>0.2</td>\n",
       "      <td>1.0</td>\n",
       "      <td>0.6</td>\n",
       "      <td>0.8</td>\n",
       "      <td>0.0</td>\n",
       "      <td>0.9</td>\n",
       "      <td>0.0</td>\n",
       "    </tr>\n",
       "    <tr>\n",
       "      <th>2002</th>\n",
       "      <td>0.7</td>\n",
       "      <td>0.2</td>\n",
       "      <td>1.2</td>\n",
       "      <td>0.7</td>\n",
       "      <td>0.9</td>\n",
       "      <td>0.0</td>\n",
       "      <td>1.0</td>\n",
       "      <td>0.0</td>\n",
       "    </tr>\n",
       "    <tr>\n",
       "      <th>2003</th>\n",
       "      <td>0.7</td>\n",
       "      <td>0.2</td>\n",
       "      <td>1.2</td>\n",
       "      <td>0.7</td>\n",
       "      <td>0.8</td>\n",
       "      <td>0.0</td>\n",
       "      <td>1.0</td>\n",
       "      <td>0.0</td>\n",
       "    </tr>\n",
       "  </tbody>\n",
       "</table>\n",
       "</div>"
      ],
      "text/plain": [
       "      Average    Female    Male    White (Non-Hispanic)  \\\n",
       "Year                                                      \n",
       "1999      0.7       0.2     1.2                     0.7   \n",
       "2000      0.7       0.2     1.1                     0.6   \n",
       "2001      0.6       0.2     1.0                     0.6   \n",
       "2002      0.7       0.2     1.2                     0.7   \n",
       "2003      0.7       0.2     1.2                     0.7   \n",
       "\n",
       "        Black (Non-Hispanic)    Asian or Pacific Islander (Non-Hispanic)  \\\n",
       "Year                                                                       \n",
       "1999                     0.8                                         0.0   \n",
       "2000                     0.9                                         0.0   \n",
       "2001                     0.8                                         0.0   \n",
       "2002                     0.9                                         0.0   \n",
       "2003                     0.8                                         0.0   \n",
       "\n",
       "        Hispanic    American Indian or Alaska Native (Non-Hispanic)  \n",
       "Year                                                                 \n",
       "1999         1.1                                                0.0  \n",
       "2000         0.9                                                0.0  \n",
       "2001         0.9                                                0.0  \n",
       "2002         1.0                                                0.0  \n",
       "2003         1.0                                                0.0  "
      ]
     },
     "execution_count": 132,
     "metadata": {},
     "output_type": "execute_result"
    }
   ],
   "source": [
    "df_heroin.head()"
   ]
  },
  {
   "cell_type": "code",
   "execution_count": 133,
   "id": "82de9d1f",
   "metadata": {
    "colab": {
     "base_uri": "https://localhost:8080/",
     "height": 731
    },
    "executionInfo": {
     "elapsed": 201,
     "status": "ok",
     "timestamp": 1622121042671,
     "user": {
      "displayName": "Elio Gruttadauria",
      "photoUrl": "https://lh3.googleusercontent.com/a-/AOh14Ghd29dFmwRrOMapQt64cEJbRKsM7h1QtIfd0OLG5g=s64",
      "userId": "16216760321278748076"
     },
     "user_tz": -120
    },
    "id": "tnVZSIqN0Lz0",
    "outputId": "ef0dcd70-281e-4bd3-b254-3b40dab705ae"
   },
   "outputs": [
    {
     "data": {
      "text/html": [
       "<div>\n",
       "<style scoped>\n",
       "    .dataframe tbody tr th:only-of-type {\n",
       "        vertical-align: middle;\n",
       "    }\n",
       "\n",
       "    .dataframe tbody tr th {\n",
       "        vertical-align: top;\n",
       "    }\n",
       "\n",
       "    .dataframe thead th {\n",
       "        text-align: right;\n",
       "    }\n",
       "</style>\n",
       "<table border=\"1\" class=\"dataframe\">\n",
       "  <thead>\n",
       "    <tr style=\"text-align: right;\">\n",
       "      <th></th>\n",
       "      <th>prescription_opioids</th>\n",
       "      <th>heroin</th>\n",
       "      <th>fentanyl</th>\n",
       "    </tr>\n",
       "    <tr>\n",
       "      <th>Year</th>\n",
       "      <th></th>\n",
       "      <th></th>\n",
       "      <th></th>\n",
       "    </tr>\n",
       "  </thead>\n",
       "  <tbody>\n",
       "    <tr>\n",
       "      <th>1999</th>\n",
       "      <td>1.2</td>\n",
       "      <td>0.7</td>\n",
       "      <td>0.3</td>\n",
       "    </tr>\n",
       "    <tr>\n",
       "      <th>2000</th>\n",
       "      <td>1.3</td>\n",
       "      <td>0.7</td>\n",
       "      <td>0.3</td>\n",
       "    </tr>\n",
       "    <tr>\n",
       "      <th>2001</th>\n",
       "      <td>1.7</td>\n",
       "      <td>0.6</td>\n",
       "      <td>0.3</td>\n",
       "    </tr>\n",
       "    <tr>\n",
       "      <th>2002</th>\n",
       "      <td>2.3</td>\n",
       "      <td>0.7</td>\n",
       "      <td>0.4</td>\n",
       "    </tr>\n",
       "    <tr>\n",
       "      <th>2003</th>\n",
       "      <td>2.6</td>\n",
       "      <td>0.7</td>\n",
       "      <td>0.5</td>\n",
       "    </tr>\n",
       "  </tbody>\n",
       "</table>\n",
       "</div>"
      ],
      "text/plain": [
       "      prescription_opioids  heroin  fentanyl\n",
       "Year                                        \n",
       "1999                   1.2     0.7       0.3\n",
       "2000                   1.3     0.7       0.3\n",
       "2001                   1.7     0.6       0.3\n",
       "2002                   2.3     0.7       0.4\n",
       "2003                   2.6     0.7       0.5"
      ]
     },
     "execution_count": 133,
     "metadata": {},
     "output_type": "execute_result"
    }
   ],
   "source": [
    "# Consider only Average deaths (over 10'000) and merge the datasets\n",
    "\n",
    "df_deaths = df_prescription_opioids[['Average']].merge(df_heroin[['Average']], left_index=True, right_index=True).merge(df_fentanyl[['Average']], left_index=True, right_index=True)\n",
    "df_deaths.columns = ['prescription_opioids', 'heroin', 'fentanyl']\n",
    "df_deaths.head()"
   ]
  },
  {
   "cell_type": "code",
   "execution_count": 404,
   "id": "e6489e54",
   "metadata": {},
   "outputs": [],
   "source": [
    "import matplotlib.font_manager  as font_manager"
   ]
  },
  {
   "cell_type": "code",
   "execution_count": 135,
   "id": "6378e101",
   "metadata": {
    "colab": {
     "base_uri": "https://localhost:8080/",
     "height": 296
    },
    "executionInfo": {
     "elapsed": 349,
     "status": "ok",
     "timestamp": 1622121044919,
     "user": {
      "displayName": "Elio Gruttadauria",
      "photoUrl": "https://lh3.googleusercontent.com/a-/AOh14Ghd29dFmwRrOMapQt64cEJbRKsM7h1QtIfd0OLG5g=s64",
      "userId": "16216760321278748076"
     },
     "user_tz": -120
    },
    "id": "3yf_Wmwg0Lz1",
    "outputId": "e8fe57b2-5c87-484e-ff1e-d8ae9d591543",
    "scrolled": true
   },
   "outputs": [
    {
     "data": {
      "image/png": "[encoded data removed]",
      "text/plain": [
       "<Figure size 576x396 with 1 Axes>"
      ]
     },
     "metadata": {},
     "output_type": "display_data"
    }
   ],
   "source": [
    "font = font_manager.FontProperties(family='Times New Roman')\n",
    "#ax.legend(prop=font)\n",
    "plt.style.use('seaborn')\n",
    "\n",
    "#sns.color_palette(\"YlOrRd\", as_cmap=True)\n",
    "csfont = {'fontname':'Times New Roman'}\n",
    "plt.plot(df_deaths.index, df_deaths['prescription_opioids'], color=\"mediumturquoise\",label =\"Prescription opioids\")\n",
    "plt.plot(df_deaths.index, df_deaths['heroin'], color=\"dodgerblue\",label =\"Heroin\")\n",
    "plt.plot(df_deaths.index, df_deaths['fentanyl'],color=\"navy\"  ,label =\"Fentanyl\")\n",
    "\n",
    "plt.title(\"Deaths by overdose over 100,000 individuals\",fontsize=15, **csfont)\n",
    "plt.ylabel(\"Number of deaths\",fontsize=11, **csfont)\n",
    "plt.xlabel(\"Year\",**csfont)\n",
    "plt.xticks(df_deaths.index, rotation=45,fontsize=10, **csfont)\n",
    "plt.legend(frameon=True,prop=font )\n",
    "plt.show();\n",
    "\n",
    "#labels \n",
    "#plt.savefig(\"deaths.png\")"
   ]
  },
  {
   "cell_type": "code",
   "execution_count": 136,
   "id": "770250c9",
   "metadata": {},
   "outputs": [],
   "source": [
    "%matplotlib inline"
   ]
  },
  {
   "cell_type": "markdown",
   "id": "40fbe290",
   "metadata": {
    "id": "ItCJ6yZcKuQp"
   },
   "source": [
    "### Opioids death rate"
   ]
  },
  {
   "cell_type": "markdown",
   "id": "49542651",
   "metadata": {
    "id": "8ErYVN7mPqdw"
   },
   "source": [
    "#### Heroin"
   ]
  },
  {
   "cell_type": "code",
   "execution_count": 137,
   "id": "5f385a8f",
   "metadata": {
    "colab": {
     "base_uri": "https://localhost:8080/"
    },
    "executionInfo": {
     "elapsed": 218,
     "status": "ok",
     "timestamp": 1623316162231,
     "user": {
      "displayName": "Elio Gruttadauria",
      "photoUrl": "https://lh3.googleusercontent.com/a-/AOh14Ghd29dFmwRrOMapQt64cEJbRKsM7h1QtIfd0OLG5g=s64",
      "userId": "16216760321278748076"
     },
     "user_tz": -120
    },
    "id": "AMa2Y4XFKoNT",
    "outputId": "693ca261-c7fb-4d06-92d6-e78d7c36f731"
   },
   "outputs": [
    {
     "data": {
      "text/plain": [
       "4.4"
      ]
     },
     "execution_count": 137,
     "metadata": {},
     "output_type": "execute_result"
    }
   ],
   "source": [
    "# How many people died in the US of heroin OD, in a sample of 100'000?\n",
    "\n",
    "h_2019_death_sample = df_deaths.loc[2019, 'heroin']\n",
    "h_2019_death_sample"
   ]
  },
  {
   "cell_type": "code",
   "execution_count": 138,
   "id": "122d9f04",
   "metadata": {
    "colab": {
     "base_uri": "https://localhost:8080/"
    },
    "executionInfo": {
     "elapsed": 395,
     "status": "ok",
     "timestamp": 1623316530759,
     "user": {
      "displayName": "Elio Gruttadauria",
      "photoUrl": "https://lh3.googleusercontent.com/a-/AOh14Ghd29dFmwRrOMapQt64cEJbRKsM7h1QtIfd0OLG5g=s64",
      "userId": "16216760321278748076"
     },
     "user_tz": -120
    },
    "id": "c9owg0ESLJDr",
    "outputId": "516808a9-959e-4422-afb7-91b091fcc9b5"
   },
   "outputs": [
    {
     "data": {
      "text/plain": [
       "14344.0"
      ]
     },
     "execution_count": 138,
     "metadata": {},
     "output_type": "execute_result"
    }
   ],
   "source": [
    "# How many people died in the US of heroin OD, assuming tot population=326M?\n",
    "\n",
    "h_2019_usa = h_2019_death_sample*(326*10**6)/(10**5)\n",
    "h_2019_usa"
   ]
  },
  {
   "cell_type": "code",
   "execution_count": 139,
   "id": "da34cb8f",
   "metadata": {
    "colab": {
     "base_uri": "https://localhost:8080/"
    },
    "executionInfo": {
     "elapsed": 472,
     "status": "ok",
     "timestamp": 1623316533488,
     "user": {
      "displayName": "Elio Gruttadauria",
      "photoUrl": "https://lh3.googleusercontent.com/a-/AOh14Ghd29dFmwRrOMapQt64cEJbRKsM7h1QtIfd0OLG5g=s64",
      "userId": "16216760321278748076"
     },
     "user_tz": -120
    },
    "id": "1L-QneKbLxUI",
    "outputId": "b6f18296-0959-4e3f-b621-77961c25e552"
   },
   "outputs": [
    {
     "data": {
      "text/plain": [
       "745000"
      ]
     },
     "execution_count": 139,
     "metadata": {},
     "output_type": "execute_result"
    }
   ],
   "source": [
    "# How many people used heroin in 2019 in the us? \n",
    "'''\n",
    "source: https://www.statista.com/statistics/611152/illicit-drug-users-number-past-year-in-the-us-by-drug/\n",
    "other data: https://www.statista.com/topics/3088/drug-use-in-the-us/\n",
    "'''\n",
    "\n",
    "h_2019_users = 745 * 1000 \n",
    "h_2019_users"
   ]
  },
  {
   "cell_type": "code",
   "execution_count": 140,
   "id": "c4e98024",
   "metadata": {
    "colab": {
     "base_uri": "https://localhost:8080/"
    },
    "executionInfo": {
     "elapsed": 317,
     "status": "ok",
     "timestamp": 1623316535275,
     "user": {
      "displayName": "Elio Gruttadauria",
      "photoUrl": "https://lh3.googleusercontent.com/a-/AOh14Ghd29dFmwRrOMapQt64cEJbRKsM7h1QtIfd0OLG5g=s64",
      "userId": "16216760321278748076"
     },
     "user_tz": -120
    },
    "id": "tQkKGfdgMcAl",
    "outputId": "2b211c21-a8e0-4e77-bdf7-9c226c9ce731"
   },
   "outputs": [
    {
     "data": {
      "text/plain": [
       "0.019253691275167784"
      ]
     },
     "execution_count": 140,
     "metadata": {},
     "output_type": "execute_result"
    }
   ],
   "source": [
    "h_death_rate = h_2019_usa/h_2019_users\n",
    "h_death_rate"
   ]
  },
  {
   "cell_type": "markdown",
   "id": "11dcab1b",
   "metadata": {
    "id": "Kb3n--50PtFq"
   },
   "source": [
    "#### Fentanyl\n",
    "\n",
    "We have data of fentanyl overdoses, but there is currently no estimate of fentanyl current users, so we cannot compute the death rate directly.\n",
    "\n",
    "Another way is to compare the drug seiuzures and use them as a proxy."
   ]
  },
  {
   "cell_type": "code",
   "execution_count": 141,
   "id": "7a84654f",
   "metadata": {
    "id": "3hvCKa1KTs27"
   },
   "outputs": [],
   "source": [
    "def estimate_death_rate(seizure_h, seizure_f, year):\n",
    "\n",
    "    user_h = df_deaths.loc[year, 'heroin']/h_death_rate\n",
    "    \n",
    "    # Using the proportion seizure_h : seizure_f = users_h : users_f\n",
    "    proxy_users_f = (seizure_f * user_h)/seizure_h\n",
    "    \n",
    "    death_f = df_deaths.loc[year, 'fentanyl']\n",
    "    \n",
    "    f_death_rate = death_f/proxy_users_f\n",
    "    return f_death_rate"
   ]
  },
  {
   "cell_type": "code",
   "execution_count": 142,
   "id": "32f22c0d",
   "metadata": {
    "colab": {
     "base_uri": "https://localhost:8080/"
    },
    "executionInfo": {
     "elapsed": 302,
     "status": "ok",
     "timestamp": 1623320056076,
     "user": {
      "displayName": "Elio Gruttadauria",
      "photoUrl": "https://lh3.googleusercontent.com/a-/AOh14Ghd29dFmwRrOMapQt64cEJbRKsM7h1QtIfd0OLG5g=s64",
      "userId": "16216760321278748076"
     },
     "user_tz": -120
    },
    "id": "DyMKgs81ab5k",
    "outputId": "1b8be040-df09-4caf-dfe8-207bbf6669ce"
   },
   "outputs": [
    {
     "data": {
      "text/plain": [
       "0.4787596928174598"
      ]
     },
     "execution_count": 142,
     "metadata": {},
     "output_type": "execute_result"
    }
   ],
   "source": [
    "'''\n",
    "Using data from 2016\n",
    "source: https://dataunodc.un.org/drugs/seizures\n",
    "\n",
    "Most likely, the death rate comes up so high because because the seizures are probably under-reported as the substance is relatively new compared to heroin.\n",
    "'''\n",
    "\n",
    "estimate_death_rate(seizure_h=7173, seizure_f=365, year=2016)"
   ]
  },
  {
   "cell_type": "code",
   "execution_count": 143,
   "id": "c59c074d",
   "metadata": {
    "colab": {
     "base_uri": "https://localhost:8080/"
    },
    "executionInfo": {
     "elapsed": 302,
     "status": "ok",
     "timestamp": 1623320111367,
     "user": {
      "displayName": "Elio Gruttadauria",
      "photoUrl": "https://lh3.googleusercontent.com/a-/AOh14Ghd29dFmwRrOMapQt64cEJbRKsM7h1QtIfd0OLG5g=s64",
      "userId": "16216760321278748076"
     },
     "user_tz": -120
    },
    "id": "_1s33jZCPOSe",
    "outputId": "135ec623-2141-4858-dd82-495191cffba2"
   },
   "outputs": [
    {
     "data": {
      "text/plain": [
       "0.10264149439990332"
      ]
     },
     "execution_count": 143,
     "metadata": {},
     "output_type": "execute_result"
    }
   ],
   "source": [
    "'''\n",
    "Using data from 2018 and 2019\n",
    "source: https://www.cbp.gov/newsroom/stats/drug-seizure-statistics\n",
    "\n",
    "More reasonable estimate.\n",
    "\n",
    "IMPORTANT: in 2021 heroin down and fentanyl up, but maybe outlier\n",
    "'''\n",
    "\n",
    "estimate_death_rate(seizure_h=5778, seizure_f=2283, year=2018)"
   ]
  },
  {
   "cell_type": "code",
   "execution_count": 144,
   "id": "ef6f66f1",
   "metadata": {
    "colab": {
     "base_uri": "https://localhost:8080/"
    },
    "executionInfo": {
     "elapsed": 223,
     "status": "ok",
     "timestamp": 1623320191116,
     "user": {
      "displayName": "Elio Gruttadauria",
      "photoUrl": "https://lh3.googleusercontent.com/a-/AOh14Ghd29dFmwRrOMapQt64cEJbRKsM7h1QtIfd0OLG5g=s64",
      "userId": "16216760321278748076"
     },
     "user_tz": -120
    },
    "id": "tZTlWKXNa9RX",
    "outputId": "2a552d57-ecb2-4fcb-d963-a0c48a8c2bf1"
   },
   "outputs": [
    {
     "data": {
      "text/plain": [
       "0.11086448032701648"
      ]
     },
     "execution_count": 144,
     "metadata": {},
     "output_type": "execute_result"
    }
   ],
   "source": [
    "estimate_death_rate(seizure_h=6225, seizure_f=2801, year=2019)"
   ]
  },
  {
   "cell_type": "code",
   "execution_count": 145,
   "id": "ea56a657",
   "metadata": {
    "id": "SjJ34yt0dEZJ"
   },
   "outputs": [],
   "source": [
    "# Let us use a more conservative measure of 0.1\n",
    "\n",
    "f_death_rate = 0.1"
   ]
  },
  {
   "cell_type": "code",
   "execution_count": 146,
   "id": "19476879",
   "metadata": {
    "colab": {
     "base_uri": "https://localhost:8080/"
    },
    "executionInfo": {
     "elapsed": 247,
     "status": "ok",
     "timestamp": 1623320879781,
     "user": {
      "displayName": "Elio Gruttadauria",
      "photoUrl": "https://lh3.googleusercontent.com/a-/AOh14Ghd29dFmwRrOMapQt64cEJbRKsM7h1QtIfd0OLG5g=s64",
      "userId": "16216760321278748076"
     },
     "user_tz": -120
    },
    "id": "l8feKcKgdLZd",
    "outputId": "46da39b3-974c-4edc-bb2a-b3ac18d7fb7e"
   },
   "outputs": [
    {
     "name": "stdout",
     "output_type": "stream",
     "text": [
      "Fentanyl is more deadly than heroin by a factor of 5.193809258226437\n"
     ]
    }
   ],
   "source": [
    "print(f\"Fentanyl is more deadly than heroin by a factor of {f_death_rate/h_death_rate}\")"
   ]
  },
  {
   "cell_type": "markdown",
   "id": "3cd14947",
   "metadata": {
    "id": "hD4WVzyVd73Z"
   },
   "source": [
    "### Users from OD cases"
   ]
  },
  {
   "cell_type": "code",
   "execution_count": 147,
   "id": "73d1ac44",
   "metadata": {
    "executionInfo": {
     "elapsed": 310,
     "status": "ok",
     "timestamp": 1622121049130,
     "user": {
      "displayName": "Elio Gruttadauria",
      "photoUrl": "https://lh3.googleusercontent.com/a-/AOh14Ghd29dFmwRrOMapQt64cEJbRKsM7h1QtIfd0OLG5g=s64",
      "userId": "16216760321278748076"
     },
     "user_tz": -120
    },
    "id": "JJc677W80Lz1"
   },
   "outputs": [],
   "source": [
    "# Death rates\n",
    "\n",
    "death_rate_prescription_opioids = 0.007288 # natural death rate\n",
    "death_rate_heroin = h_death_rate\n",
    "death_rate_fentanyl = f_death_rate # to change"
   ]
  },
  {
   "cell_type": "code",
   "execution_count": 148,
   "id": "b9f6902f",
   "metadata": {
    "executionInfo": {
     "elapsed": 2,
     "status": "ok",
     "timestamp": 1622121050667,
     "user": {
      "displayName": "Elio Gruttadauria",
      "photoUrl": "https://lh3.googleusercontent.com/a-/AOh14Ghd29dFmwRrOMapQt64cEJbRKsM7h1QtIfd0OLG5g=s64",
      "userId": "16216760321278748076"
     },
     "user_tz": -120
    },
    "id": "KVGsEfPI0Lz1"
   },
   "outputs": [],
   "source": [
    "def inverse_death_rate(x, death_rate):\n",
    "    return x/death_rate"
   ]
  },
  {
   "cell_type": "code",
   "execution_count": 149,
   "id": "17022c14",
   "metadata": {
    "executionInfo": {
     "elapsed": 371,
     "status": "ok",
     "timestamp": 1622121056373,
     "user": {
      "displayName": "Elio Gruttadauria",
      "photoUrl": "https://lh3.googleusercontent.com/a-/AOh14Ghd29dFmwRrOMapQt64cEJbRKsM7h1QtIfd0OLG5g=s64",
      "userId": "16216760321278748076"
     },
     "user_tz": -120
    },
    "id": "xalBfbMc0Lz2"
   },
   "outputs": [],
   "source": [
    "# Compute number of users from deaths and death rate\n",
    "\n",
    "df_current_users = df_deaths.copy()\n",
    "\n",
    "df_current_users['prescription_opioids'] = df_current_users['prescription_opioids'].apply(lambda x: inverse_death_rate(x, death_rate_prescription_opioids))\n",
    "df_current_users['heroin'] = df_current_users['heroin'].apply(lambda x: inverse_death_rate(x, death_rate_heroin))\n",
    "df_current_users['fentanyl'] = df_current_users['fentanyl'].apply(lambda x: inverse_death_rate(x, death_rate_fentanyl))"
   ]
  },
  {
   "cell_type": "code",
   "execution_count": 150,
   "id": "7eb4e5c2",
   "metadata": {
    "colab": {
     "base_uri": "https://localhost:8080/",
     "height": 731
    },
    "executionInfo": {
     "elapsed": 230,
     "status": "ok",
     "timestamp": 1622121058890,
     "user": {
      "displayName": "Elio Gruttadauria",
      "photoUrl": "https://lh3.googleusercontent.com/a-/AOh14Ghd29dFmwRrOMapQt64cEJbRKsM7h1QtIfd0OLG5g=s64",
      "userId": "16216760321278748076"
     },
     "user_tz": -120
    },
    "id": "7F-FjLwA0Lz2",
    "outputId": "4c779982-1240-4629-d828-1a70737fa6ad"
   },
   "outputs": [],
   "source": [
    "df_current_users = df_current_users[['heroin', 'fentanyl']]"
   ]
  },
  {
   "cell_type": "code",
   "execution_count": 151,
   "id": "0f5d48bd",
   "metadata": {},
   "outputs": [
    {
     "data": {
      "text/html": [
       "<div>\n",
       "<style scoped>\n",
       "    .dataframe tbody tr th:only-of-type {\n",
       "        vertical-align: middle;\n",
       "    }\n",
       "\n",
       "    .dataframe tbody tr th {\n",
       "        vertical-align: top;\n",
       "    }\n",
       "\n",
       "    .dataframe thead th {\n",
       "        text-align: right;\n",
       "    }\n",
       "</style>\n",
       "<table border=\"1\" class=\"dataframe\">\n",
       "  <thead>\n",
       "    <tr style=\"text-align: right;\">\n",
       "      <th></th>\n",
       "      <th>heroin</th>\n",
       "      <th>fentanyl</th>\n",
       "    </tr>\n",
       "    <tr>\n",
       "      <th>Year</th>\n",
       "      <th></th>\n",
       "      <th></th>\n",
       "    </tr>\n",
       "  </thead>\n",
       "  <tbody>\n",
       "    <tr>\n",
       "      <th>1999</th>\n",
       "      <td>36.356665</td>\n",
       "      <td>3.0</td>\n",
       "    </tr>\n",
       "    <tr>\n",
       "      <th>2000</th>\n",
       "      <td>36.356665</td>\n",
       "      <td>3.0</td>\n",
       "    </tr>\n",
       "    <tr>\n",
       "      <th>2001</th>\n",
       "      <td>31.162856</td>\n",
       "      <td>3.0</td>\n",
       "    </tr>\n",
       "    <tr>\n",
       "      <th>2002</th>\n",
       "      <td>36.356665</td>\n",
       "      <td>4.0</td>\n",
       "    </tr>\n",
       "    <tr>\n",
       "      <th>2003</th>\n",
       "      <td>36.356665</td>\n",
       "      <td>5.0</td>\n",
       "    </tr>\n",
       "    <tr>\n",
       "      <th>2004</th>\n",
       "      <td>31.162856</td>\n",
       "      <td>6.0</td>\n",
       "    </tr>\n",
       "    <tr>\n",
       "      <th>2005</th>\n",
       "      <td>36.356665</td>\n",
       "      <td>6.0</td>\n",
       "    </tr>\n",
       "    <tr>\n",
       "      <th>2006</th>\n",
       "      <td>36.356665</td>\n",
       "      <td>9.0</td>\n",
       "    </tr>\n",
       "    <tr>\n",
       "      <th>2007</th>\n",
       "      <td>41.550474</td>\n",
       "      <td>7.0</td>\n",
       "    </tr>\n",
       "    <tr>\n",
       "      <th>2008</th>\n",
       "      <td>51.938093</td>\n",
       "      <td>8.0</td>\n",
       "    </tr>\n",
       "    <tr>\n",
       "      <th>2009</th>\n",
       "      <td>57.131902</td>\n",
       "      <td>10.0</td>\n",
       "    </tr>\n",
       "    <tr>\n",
       "      <th>2010</th>\n",
       "      <td>51.938093</td>\n",
       "      <td>10.0</td>\n",
       "    </tr>\n",
       "    <tr>\n",
       "      <th>2011</th>\n",
       "      <td>72.713330</td>\n",
       "      <td>8.0</td>\n",
       "    </tr>\n",
       "    <tr>\n",
       "      <th>2012</th>\n",
       "      <td>98.682376</td>\n",
       "      <td>8.0</td>\n",
       "    </tr>\n",
       "    <tr>\n",
       "      <th>2013</th>\n",
       "      <td>140.232850</td>\n",
       "      <td>10.0</td>\n",
       "    </tr>\n",
       "    <tr>\n",
       "      <th>2014</th>\n",
       "      <td>176.589515</td>\n",
       "      <td>18.0</td>\n",
       "    </tr>\n",
       "    <tr>\n",
       "      <th>2015</th>\n",
       "      <td>212.946180</td>\n",
       "      <td>31.0</td>\n",
       "    </tr>\n",
       "    <tr>\n",
       "      <th>2016</th>\n",
       "      <td>254.496654</td>\n",
       "      <td>62.0</td>\n",
       "    </tr>\n",
       "    <tr>\n",
       "      <th>2017</th>\n",
       "      <td>254.496654</td>\n",
       "      <td>90.0</td>\n",
       "    </tr>\n",
       "    <tr>\n",
       "      <th>2018</th>\n",
       "      <td>244.109035</td>\n",
       "      <td>99.0</td>\n",
       "    </tr>\n",
       "    <tr>\n",
       "      <th>2019</th>\n",
       "      <td>228.527607</td>\n",
       "      <td>114.0</td>\n",
       "    </tr>\n",
       "  </tbody>\n",
       "</table>\n",
       "</div>"
      ],
      "text/plain": [
       "          heroin  fentanyl\n",
       "Year                      \n",
       "1999   36.356665       3.0\n",
       "2000   36.356665       3.0\n",
       "2001   31.162856       3.0\n",
       "2002   36.356665       4.0\n",
       "2003   36.356665       5.0\n",
       "2004   31.162856       6.0\n",
       "2005   36.356665       6.0\n",
       "2006   36.356665       9.0\n",
       "2007   41.550474       7.0\n",
       "2008   51.938093       8.0\n",
       "2009   57.131902      10.0\n",
       "2010   51.938093      10.0\n",
       "2011   72.713330       8.0\n",
       "2012   98.682376       8.0\n",
       "2013  140.232850      10.0\n",
       "2014  176.589515      18.0\n",
       "2015  212.946180      31.0\n",
       "2016  254.496654      62.0\n",
       "2017  254.496654      90.0\n",
       "2018  244.109035      99.0\n",
       "2019  228.527607     114.0"
      ]
     },
     "execution_count": 151,
     "metadata": {},
     "output_type": "execute_result"
    }
   ],
   "source": [
    "df_current_users"
   ]
  },
  {
   "cell_type": "code",
   "execution_count": 152,
   "id": "177d6bd6",
   "metadata": {
    "executionInfo": {
     "elapsed": 709,
     "status": "ok",
     "timestamp": 1622121060687,
     "user": {
      "displayName": "Elio Gruttadauria",
      "photoUrl": "https://lh3.googleusercontent.com/a-/AOh14Ghd29dFmwRrOMapQt64cEJbRKsM7h1QtIfd0OLG5g=s64",
      "userId": "16216760321278748076"
     },
     "user_tz": -120
    },
    "id": "WFk-zRf90Lz2"
   },
   "outputs": [],
   "source": [
    "# All numbers in the data is relative to a population of 10'000 individuals\n",
    "# Divide by N to obtain the fraction\n",
    "\n",
    "N = 100000\n",
    "\n",
    "df_current_users_fractions = df_current_users[['heroin', 'fentanyl']].copy()\n",
    "df_current_users_fractions /= N"
   ]
  },
  {
   "cell_type": "code",
   "execution_count": 153,
   "id": "837856e5",
   "metadata": {
    "colab": {
     "base_uri": "https://localhost:8080/",
     "height": 731
    },
    "executionInfo": {
     "elapsed": 5,
     "status": "ok",
     "timestamp": 1622121061727,
     "user": {
      "displayName": "Elio Gruttadauria",
      "photoUrl": "https://lh3.googleusercontent.com/a-/AOh14Ghd29dFmwRrOMapQt64cEJbRKsM7h1QtIfd0OLG5g=s64",
      "userId": "16216760321278748076"
     },
     "user_tz": -120
    },
    "id": "0PbcB3_c0Lz2",
    "outputId": "70f53c82-cd10-4a7b-e4e6-161aa665b85c"
   },
   "outputs": [
    {
     "data": {
      "text/html": [
       "<div>\n",
       "<style scoped>\n",
       "    .dataframe tbody tr th:only-of-type {\n",
       "        vertical-align: middle;\n",
       "    }\n",
       "\n",
       "    .dataframe tbody tr th {\n",
       "        vertical-align: top;\n",
       "    }\n",
       "\n",
       "    .dataframe thead th {\n",
       "        text-align: right;\n",
       "    }\n",
       "</style>\n",
       "<table border=\"1\" class=\"dataframe\">\n",
       "  <thead>\n",
       "    <tr style=\"text-align: right;\">\n",
       "      <th></th>\n",
       "      <th>heroin</th>\n",
       "      <th>fentanyl</th>\n",
       "    </tr>\n",
       "    <tr>\n",
       "      <th>Year</th>\n",
       "      <th></th>\n",
       "      <th></th>\n",
       "    </tr>\n",
       "  </thead>\n",
       "  <tbody>\n",
       "    <tr>\n",
       "      <th>1999</th>\n",
       "      <td>0.000364</td>\n",
       "      <td>0.00003</td>\n",
       "    </tr>\n",
       "    <tr>\n",
       "      <th>2000</th>\n",
       "      <td>0.000364</td>\n",
       "      <td>0.00003</td>\n",
       "    </tr>\n",
       "    <tr>\n",
       "      <th>2001</th>\n",
       "      <td>0.000312</td>\n",
       "      <td>0.00003</td>\n",
       "    </tr>\n",
       "    <tr>\n",
       "      <th>2002</th>\n",
       "      <td>0.000364</td>\n",
       "      <td>0.00004</td>\n",
       "    </tr>\n",
       "    <tr>\n",
       "      <th>2003</th>\n",
       "      <td>0.000364</td>\n",
       "      <td>0.00005</td>\n",
       "    </tr>\n",
       "  </tbody>\n",
       "</table>\n",
       "</div>"
      ],
      "text/plain": [
       "        heroin  fentanyl\n",
       "Year                    \n",
       "1999  0.000364   0.00003\n",
       "2000  0.000364   0.00003\n",
       "2001  0.000312   0.00003\n",
       "2002  0.000364   0.00004\n",
       "2003  0.000364   0.00005"
      ]
     },
     "execution_count": 153,
     "metadata": {},
     "output_type": "execute_result"
    }
   ],
   "source": [
    "df_current_users_fractions.head()"
   ]
  },
  {
   "cell_type": "markdown",
   "id": "d2778322",
   "metadata": {
    "id": "TfGYYppLtNvS"
   },
   "source": [
    "### Opioids supply"
   ]
  },
  {
   "cell_type": "code",
   "execution_count": 154,
   "id": "67c8cab6",
   "metadata": {
    "id": "3trOD0YjtQWn"
   },
   "outputs": [],
   "source": [
    "'''\n",
    "The average seizure from Mexico around the year 2000 averages around 300 lbs/year\n",
    "\n",
    "source: https://www.ojp.gov/pdffiles1/nij/218561.pdf\n",
    "'''\n",
    "\n",
    "seizure_mexico_2000 = 300"
   ]
  },
  {
   "cell_type": "code",
   "execution_count": 155,
   "id": "135720d6",
   "metadata": {
    "id": "xl6G2flhtQct"
   },
   "outputs": [],
   "source": [
    "'''\n",
    "Around the same time period, we know that heroin seizures from Mexico account for roughly 20% of the total\n",
    "\n",
    "source: https://www.dea.gov/sites/default/files/2018-11/DIR-032-18%202018%20NDTA%20final%20low%20resolution.pdf\n",
    "'''\n",
    "\n",
    "ratio_mexico_2000 = 0.2"
   ]
  },
  {
   "cell_type": "code",
   "execution_count": 156,
   "id": "3c102309",
   "metadata": {
    "colab": {
     "base_uri": "https://localhost:8080/"
    },
    "executionInfo": {
     "elapsed": 9,
     "status": "ok",
     "timestamp": 1623325215698,
     "user": {
      "displayName": "Elio Gruttadauria",
      "photoUrl": "https://lh3.googleusercontent.com/a-/AOh14Ghd29dFmwRrOMapQt64cEJbRKsM7h1QtIfd0OLG5g=s64",
      "userId": "16216760321278748076"
     },
     "user_tz": -120
    },
    "id": "zVb0BpIZtQjR",
    "outputId": "a29387f8-fe02-476a-f935-2f939ecd0a38"
   },
   "outputs": [
    {
     "data": {
      "text/plain": [
       "1500.0"
      ]
     },
     "execution_count": 156,
     "metadata": {},
     "output_type": "execute_result"
    }
   ],
   "source": [
    "# Total heroin seizures 2000\n",
    "\n",
    "total_heroin_2000 = seizure_mexico_2000/ratio_mexico_2000\n",
    "total_heroin_2000"
   ]
  },
  {
   "cell_type": "code",
   "execution_count": 157,
   "id": "fd48d45d",
   "metadata": {
    "colab": {
     "base_uri": "https://localhost:8080/"
    },
    "executionInfo": {
     "elapsed": 598,
     "status": "ok",
     "timestamp": 1623325524228,
     "user": {
      "displayName": "Elio Gruttadauria",
      "photoUrl": "https://lh3.googleusercontent.com/a-/AOh14Ghd29dFmwRrOMapQt64cEJbRKsM7h1QtIfd0OLG5g=s64",
      "userId": "16216760321278748076"
     },
     "user_tz": -120
    },
    "id": "5NIy9w84vN3Q",
    "outputId": "2b3dc94b-b2c6-43b9-801c-b0856b3dfeff"
   },
   "outputs": [
    {
     "data": {
      "text/plain": [
       "1500.0"
      ]
     },
     "execution_count": 157,
     "metadata": {},
     "output_type": "execute_result"
    }
   ],
   "source": [
    "# Fentanyl seizures are 0 at the beginning of the century\n",
    "\n",
    "total_fentanyl_2000 = 0\n",
    "\n",
    "total_opioids_2000 = total_heroin_2000 + total_fentanyl_2000\n",
    "total_opioids_2000"
   ]
  },
  {
   "cell_type": "code",
   "execution_count": 158,
   "id": "df588540",
   "metadata": {
    "colab": {
     "base_uri": "https://localhost:8080/"
    },
    "executionInfo": {
     "elapsed": 234,
     "status": "ok",
     "timestamp": 1623336686109,
     "user": {
      "displayName": "Elio Gruttadauria",
      "photoUrl": "https://lh3.googleusercontent.com/a-/AOh14Ghd29dFmwRrOMapQt64cEJbRKsM7h1QtIfd0OLG5g=s64",
      "userId": "16216760321278748076"
     },
     "user_tz": -120
    },
    "id": "pSCQGV6cuWQM",
    "outputId": "eb78b477-0fe6-4296-c3f5-1b715112eba0"
   },
   "outputs": [
    {
     "data": {
      "text/plain": [
       "131000"
      ]
     },
     "execution_count": 158,
     "metadata": {},
     "output_type": "execute_result"
    }
   ],
   "source": [
    "'''\n",
    "In the second part of the 10s, heroin seizures averages around 6000 lbs per year.\n",
    "Furthermore, fentanyl seizures averages around 2500 lbs per year.\n",
    "\n",
    "We need to multiply fentanyl by 50 as this is the ratio of potency between heroin and fentanyl.\n",
    "\n",
    "source: https://www.cbp.gov/newsroom/stats/drug-seizure-statistics\n",
    "'''\n",
    "# change numbers\n",
    "total_opioids_2018 = 6000 + (2500*50)\n",
    "total_opioids_2018"
   ]
  },
  {
   "cell_type": "code",
   "execution_count": 159,
   "id": "a34baa76",
   "metadata": {
    "colab": {
     "base_uri": "https://localhost:8080/"
    },
    "executionInfo": {
     "elapsed": 241,
     "status": "ok",
     "timestamp": 1623336688513,
     "user": {
      "displayName": "Elio Gruttadauria",
      "photoUrl": "https://lh3.googleusercontent.com/a-/AOh14Ghd29dFmwRrOMapQt64cEJbRKsM7h1QtIfd0OLG5g=s64",
      "userId": "16216760321278748076"
     },
     "user_tz": -120
    },
    "id": "3aZpbOH-uWYk",
    "outputId": "c227b3fc-995d-4f0d-fd3f-462f47b30697"
   },
   "outputs": [
    {
     "data": {
      "text/plain": [
       "87.33333333333333"
      ]
     },
     "execution_count": 159,
     "metadata": {},
     "output_type": "execute_result"
    }
   ],
   "source": [
    "# Therefore, the supply of opioids is 87 times higher after 2015 compared to early 2000s\n",
    "\n",
    "ratio_supply_opioids = total_opioids_2018/total_opioids_2000\n",
    "ratio_supply_opioids"
   ]
  },
  {
   "cell_type": "code",
   "execution_count": 160,
   "id": "3cd28d9c",
   "metadata": {
    "colab": {
     "base_uri": "https://localhost:8080/"
    },
    "executionInfo": {
     "elapsed": 422,
     "status": "ok",
     "timestamp": 1623336944182,
     "user": {
      "displayName": "Elio Gruttadauria",
      "photoUrl": "https://lh3.googleusercontent.com/a-/AOh14Ghd29dFmwRrOMapQt64cEJbRKsM7h1QtIfd0OLG5g=s64",
      "userId": "16216760321278748076"
     },
     "user_tz": -120
    },
    "id": "XODMC7mYuWfZ",
    "outputId": "27b42d1e-5282-4631-b6c4-8edee1e760dd"
   },
   "outputs": [
    {
     "data": {
      "text/plain": [
       "44.166666666666664"
      ]
     },
     "execution_count": 160,
     "metadata": {},
     "output_type": "execute_result"
    }
   ],
   "source": [
    "# To extrapolate the multiplicative constant for the entire model, we average the 2 values\n",
    "\n",
    "global_availability_ratio = (ratio_supply_opioids+1)/2\n",
    "global_availability_ratio"
   ]
  },
  {
   "cell_type": "code",
   "execution_count": null,
   "id": "6558afce",
   "metadata": {},
   "outputs": [],
   "source": []
  },
  {
   "cell_type": "markdown",
   "id": "7ca77993",
   "metadata": {
    "id": "62hnEBh80Lz3"
   },
   "source": [
    "### Odeint"
   ]
  },
  {
   "cell_type": "code",
   "execution_count": 161,
   "id": "4478f03a",
   "metadata": {},
   "outputs": [],
   "source": [
    "# Total population\n",
    "\n",
    "N = 100000"
   ]
  },
  {
   "cell_type": "code",
   "execution_count": 162,
   "id": "c73c3a17",
   "metadata": {
    "executionInfo": {
     "elapsed": 635,
     "status": "ok",
     "timestamp": 1622121064815,
     "user": {
      "displayName": "Elio Gruttadauria",
      "photoUrl": "https://lh3.googleusercontent.com/a-/AOh14Ghd29dFmwRrOMapQt64cEJbRKsM7h1QtIfd0OLG5g=s64",
      "userId": "16216760321278748076"
     },
     "user_tz": -120
    },
    "id": "SR6IXgQ30Lz3"
   },
   "outputs": [],
   "source": [
    "\n",
    "def return_standard_params(quarterly=False):\n",
    "\n",
    "    params = dict()\n",
    "    \n",
    "    params['prescription_addiction'] = 0.001116 * 0.1 # prescription addiction -> heroin, include in sensitivity analysis [0.05-0.2]\n",
    "    params['illegal_addiction_rate'] = 0.0036 \n",
    "    params['f_laced_rate'] = 0.5 # upper_bound\n",
    "    params['availability'] = global_availability_ratio\n",
    "    params['lower_bound_f_laced_rate'] = False\n",
    "    params['recovery_rate'] = 1.1 * 0.1 #[0.05-0.2]\n",
    "    params['relapse_rate'] = 0.7 #[0.6-0.8]\n",
    "    params['death_rate_heroin'] = death_rate_heroin\n",
    "    params['death_rate_fentanyl'] = death_rate_fentanyl # +/- 0.01\n",
    "    params['death_rate_natural'] = death_rate_prescription_opioids\n",
    "    \n",
    "    if quarterly:\n",
    "        for k in params.keys():\n",
    "            if k not in ['f_laced_rate', 'lower_bound_f_laced_rate']:\n",
    "                params[k] /= 4\n",
    "    \n",
    "    return params"
   ]
  },
  {
   "cell_type": "code",
   "execution_count": 163,
   "id": "223c20c5",
   "metadata": {},
   "outputs": [],
   "source": [
    "params = return_standard_params()"
   ]
  },
  {
   "cell_type": "code",
   "execution_count": 164,
   "id": "f40a8559",
   "metadata": {},
   "outputs": [
    {
     "data": {
      "text/plain": [
       "{'prescription_addiction': 0.0001116,\n",
       " 'illegal_addiction_rate': 0.0036,\n",
       " 'f_laced_rate': 0.5,\n",
       " 'availability': 44.166666666666664,\n",
       " 'lower_bound_f_laced_rate': False,\n",
       " 'recovery_rate': 0.11000000000000001,\n",
       " 'relapse_rate': 0.7,\n",
       " 'death_rate_heroin': 0.019253691275167784,\n",
       " 'death_rate_fentanyl': 0.1,\n",
       " 'death_rate_natural': 0.007288}"
      ]
     },
     "execution_count": 164,
     "metadata": {},
     "output_type": "execute_result"
    }
   ],
   "source": [
    "params"
   ]
  },
  {
   "cell_type": "code",
   "execution_count": 165,
   "id": "edb3c748",
   "metadata": {
    "executionInfo": {
     "elapsed": 207,
     "status": "ok",
     "timestamp": 1622123490789,
     "user": {
      "displayName": "Elio Gruttadauria",
      "photoUrl": "https://lh3.googleusercontent.com/a-/AOh14Ghd29dFmwRrOMapQt64cEJbRKsM7h1QtIfd0OLG5g=s64",
      "userId": "16216760321278748076"
     },
     "user_tz": -120
    },
    "id": "Dgf5qvNX0Lz3"
   },
   "outputs": [],
   "source": [
    "def opioids_model(INPUT, t, params, net_conversion):\n",
    "    \n",
    "    S, H, F, R = INPUT[0], INPUT[1], INPUT[2], INPUT[3]\n",
    "    N = S + H + F + R\n",
    "    \n",
    "    prescription_addiction = params['prescription_addiction']\n",
    "    illegal_addiction_rate = params['illegal_addiction_rate']\n",
    "\n",
    "    laced_exponent = -24.52*(F/H - 0.3)\n",
    "    f_laced_rate = params['f_laced_rate'] / (1 + np.exp(laced_exponent))\n",
    "\n",
    "    if params['lower_bound_f_laced_rate']:\n",
    "        if not f_laced_rate > 0.01:\n",
    "            f_laced_rate = 0.01\n",
    "\n",
    "    availability = params['availability']\n",
    "\n",
    "    recovery_rate = params['recovery_rate']\n",
    "    relapse_rate = params['relapse_rate']\n",
    "\n",
    "    death_rate_heroin = params['death_rate_heroin'] - params['death_rate_natural']\n",
    "    death_rate_fentanyl = params['death_rate_fentanyl'] - params['death_rate_natural']\n",
    "    \n",
    "    S_d_t = -(prescription_addiction + illegal_addiction_rate*availability*(H+F)/N)*S + death_rate_heroin*H + death_rate_fentanyl*F\n",
    "    H_d_t = (prescription_addiction + illegal_addiction_rate*availability*(H+F)/N)*S*(1-f_laced_rate) - f_laced_rate*H - net_conversion*H*F/N - recovery_rate*H + relapse_rate*H*R/N - death_rate_heroin*H\n",
    "    F_d_t = (prescription_addiction + illegal_addiction_rate*availability*(H+F)/N)*S*f_laced_rate + f_laced_rate*H + net_conversion*H*F/N - recovery_rate*F + relapse_rate*F*R/N - death_rate_fentanyl*F\n",
    "    R_d_t = recovery_rate*(H+F) - relapse_rate*R\n",
    "    \n",
    "    return S_d_t, H_d_t, F_d_t, R_d_t"
   ]
  },
  {
   "cell_type": "code",
   "execution_count": 79,
   "id": "234ac68e",
   "metadata": {
    "executionInfo": {
     "elapsed": 3,
     "status": "ok",
     "timestamp": 1622122639887,
     "user": {
      "displayName": "Elio Gruttadauria",
      "photoUrl": "https://lh3.googleusercontent.com/a-/AOh14Ghd29dFmwRrOMapQt64cEJbRKsM7h1QtIfd0OLG5g=s64",
      "userId": "16216760321278748076"
     },
     "user_tz": -120
    },
    "id": "pfKMagFo0Lz4"
   },
   "outputs": [],
   "source": [
    "# Compute y0, i.e. starting condition\n",
    "\n",
    "def compute_y0(data, N, fraction=False):\n",
    "    '''\n",
    "    Return the starting settings as ratios with sum=1.\n",
    "    We start with recovered = 0\n",
    "    '''\n",
    "    \n",
    "    first_row = data.iloc[0, :]\n",
    "    \n",
    "    h = first_row['heroin']\n",
    "    f = first_row['fentanyl']\n",
    "    r = 0\n",
    "\n",
    "    if fraction:\n",
    "        N = 1\n",
    "\n",
    "    s = N - h - f - r\n",
    "    \n",
    "    return s, h, f, r"
   ]
  },
  {
   "cell_type": "code",
   "execution_count": 80,
   "id": "dcb96f7f",
   "metadata": {},
   "outputs": [],
   "source": [
    "def compute_starting_variables(data, N=N):\n",
    "\n",
    "    ndays = data.shape[0]\n",
    "    t = np.arange(1, ndays+1, 1) \n",
    "\n",
    "    y0 = compute_y0(data, N)\n",
    "\n",
    "    return t, y0"
   ]
  },
  {
   "cell_type": "code",
   "execution_count": 81,
   "id": "2aca926a",
   "metadata": {
    "executionInfo": {
     "elapsed": 225,
     "status": "ok",
     "timestamp": 1622121332297,
     "user": {
      "displayName": "Elio Gruttadauria",
      "photoUrl": "https://lh3.googleusercontent.com/a-/AOh14Ghd29dFmwRrOMapQt64cEJbRKsM7h1QtIfd0OLG5g=s64",
      "userId": "16216760321278748076"
     },
     "user_tz": -120
    },
    "id": "kfEuMtBZ0Lz4"
   },
   "outputs": [],
   "source": [
    "def run_model(net_conversion, data, y0, t, model, error=False, df=False):\n",
    "    \n",
    "    RES = odeint(model, y0, t, args=(params, net_conversion))\n",
    "    df_RES = pd.DataFrame(RES, columns=['s', 'h', 'f', 'r'])\n",
    "    \n",
    "    if error:\n",
    "        RSS_heroin = ((df_RES['h'].to_numpy() - data['heroin'].to_numpy())**2).sum()\n",
    "        RSS_fentanyl = ((df_RES['f'].to_numpy() - data['fentanyl'].to_numpy())**2).sum()\n",
    "        RSS_total = RSS_heroin + RSS_fentanyl\n",
    "\n",
    "        return RSS_heroin, RSS_fentanyl, RSS_total\n",
    "    \n",
    "    if df:\n",
    "        return df_RES"
   ]
  },
  {
   "cell_type": "code",
   "execution_count": 82,
   "id": "22739cb9",
   "metadata": {
    "executionInfo": {
     "elapsed": 240,
     "status": "ok",
     "timestamp": 1623164234581,
     "user": {
      "displayName": "Elio Gruttadauria",
      "photoUrl": "https://lh3.googleusercontent.com/a-/AOh14Ghd29dFmwRrOMapQt64cEJbRKsM7h1QtIfd0OLG5g=s64",
      "userId": "16216760321278748076"
     },
     "user_tz": -120
    },
    "id": "oIEhzrFQvvqz"
   },
   "outputs": [],
   "source": [
    "# Because we have data for both heroin and fentanyl, to each net_conversion value we can actually associate 2 RSS:\n",
    "# one for heroin, one for fentanyl.\n",
    "# We should pick the global minimum (minimum of the sum), but it is better if the solution somewhat coincide for coherence.\n",
    "\n",
    "def model_tuning(data, y0, t, net_conversion_values, model=opioids_model):\n",
    "\n",
    "    RSS_heroin_list = []\n",
    "    RSS_fentanyl_list = []\n",
    "    RSS_list = []\n",
    "\n",
    "    for net_conversion in net_conversion_values:\n",
    "        \n",
    "        RSS_heroin, RSS_fentanyl, RSS_total = run_model(net_conversion, data, y0, t, model, error=True)\n",
    "        \n",
    "        RSS_heroin_list.append(RSS_heroin)\n",
    "        RSS_fentanyl_list.append(RSS_fentanyl)\n",
    "        RSS_list.append(RSS_total)\n",
    "\n",
    "    best_idx = RSS_list.index(min(RSS_list))\n",
    "    best_net_conversion = net_conversion_values[best_idx]\n",
    "\n",
    "    print(f\"Fitting the model {len(net_conversion_values)} times\")\n",
    "    print(f\"The best value to minimize heroin RSS is at index {RSS_heroin_list.index(min(RSS_heroin_list))}: {min(RSS_heroin_list)}\")\n",
    "    print(f\"The best value to minimize fentanyl RSS is at index {RSS_fentanyl_list.index(min(RSS_fentanyl_list))}: {min(RSS_fentanyl_list)}\")\n",
    "    print(f\"The best value to minimize both RSS (i.e. global solution) is at index {best_idx}: {RSS_list[best_idx]}\")\n",
    "    print(f\"The best net conversion rate is {best_net_conversion}\")\n",
    "\n",
    "    return best_net_conversion"
   ]
  },
  {
   "cell_type": "code",
   "execution_count": 83,
   "id": "81c78917",
   "metadata": {},
   "outputs": [],
   "source": [
    "def best_model(best_net_conversion, data, y0, t, df=False, model=opioids_model):\n",
    "\n",
    "  # Run the model with best net_conversion\n",
    "\n",
    "    df_model = run_model(best_net_conversion, data, y0, t, model, df=True)\n",
    "\n",
    "    if df:\n",
    "        return df_model\n",
    "\n",
    "    df_model[['h', 'f']].plot()\n",
    "    data.plot()"
   ]
  },
  {
   "cell_type": "markdown",
   "id": "840834d6",
   "metadata": {
    "id": "Gy1q7VlO3iCd"
   },
   "source": [
    "### All data"
   ]
  },
  {
   "cell_type": "code",
   "execution_count": 84,
   "id": "8448f8e2",
   "metadata": {},
   "outputs": [],
   "source": [
    "# TODO: use to copy and paste below\n",
    "\n",
    "data = df_current_users"
   ]
  },
  {
   "cell_type": "code",
   "execution_count": 85,
   "id": "83667038",
   "metadata": {},
   "outputs": [],
   "source": [
    "\n",
    "'''\n",
    "1. Create time and starting variables\n",
    "'''\n",
    "\n",
    "t, y0 = compute_starting_variables(data)"
   ]
  },
  {
   "cell_type": "code",
   "execution_count": 86,
   "id": "fb13f425",
   "metadata": {},
   "outputs": [
    {
     "data": {
      "text/plain": [
       "(99960.64333519242, 36.356664807585055, 2.9999999999999996, 0)"
      ]
     },
     "execution_count": 86,
     "metadata": {},
     "output_type": "execute_result"
    }
   ],
   "source": [
    "y0"
   ]
  },
  {
   "cell_type": "code",
   "execution_count": 87,
   "id": "8de020dc",
   "metadata": {},
   "outputs": [],
   "source": [
    "\n",
    "'''\n",
    "2. List of possibile values to try for the conversion rate.\n",
    "   Compute RSS for each value and pick the best one.\n",
    "'''\n",
    "\n",
    "net_conversion_values = list(np.arange(0, 200, 0.5))"
   ]
  },
  {
   "cell_type": "code",
   "execution_count": 88,
   "id": "b1830cbd",
   "metadata": {},
   "outputs": [
    {
     "name": "stdout",
     "output_type": "stream",
     "text": [
      "Fitting the model 400 times\n",
      "The best value to minimize heroin RSS is at index 362: 172898.3555390082\n",
      "The best value to minimize fentanyl RSS is at index 353: 7629.6059577114775\n",
      "The best value to minimize both RSS (i.e. global solution) is at index 357: 182544.70453862642\n",
      "The best net conversion rate is 178.5\n"
     ]
    }
   ],
   "source": [
    "'''\n",
    "3. Run model and find best net conversion value\n",
    "'''\n",
    "\n",
    "best_net_conversion = model_tuning(data, y0, t, net_conversion_values)"
   ]
  },
  {
   "cell_type": "code",
   "execution_count": 89,
   "id": "281d00f5",
   "metadata": {},
   "outputs": [
    {
     "data": {
      "text/html": [
       "<div>\n",
       "<style scoped>\n",
       "    .dataframe tbody tr th:only-of-type {\n",
       "        vertical-align: middle;\n",
       "    }\n",
       "\n",
       "    .dataframe tbody tr th {\n",
       "        vertical-align: top;\n",
       "    }\n",
       "\n",
       "    .dataframe thead th {\n",
       "        text-align: right;\n",
       "    }\n",
       "</style>\n",
       "<table border=\"1\" class=\"dataframe\">\n",
       "  <thead>\n",
       "    <tr style=\"text-align: right;\">\n",
       "      <th></th>\n",
       "      <th>s</th>\n",
       "      <th>h</th>\n",
       "      <th>f</th>\n",
       "      <th>r</th>\n",
       "    </tr>\n",
       "  </thead>\n",
       "  <tbody>\n",
       "    <tr>\n",
       "      <th>0</th>\n",
       "      <td>99960.643335</td>\n",
       "      <td>36.356665</td>\n",
       "      <td>3.000000</td>\n",
       "      <td>0.000000</td>\n",
       "    </tr>\n",
       "    <tr>\n",
       "      <th>1</th>\n",
       "      <td>99943.015654</td>\n",
       "      <td>49.226464</td>\n",
       "      <td>2.740191</td>\n",
       "      <td>3.666750</td>\n",
       "    </tr>\n",
       "    <tr>\n",
       "      <th>2</th>\n",
       "      <td>99923.484016</td>\n",
       "      <td>62.521980</td>\n",
       "      <td>2.546086</td>\n",
       "      <td>6.506763</td>\n",
       "    </tr>\n",
       "    <tr>\n",
       "      <th>3</th>\n",
       "      <td>99901.981739</td>\n",
       "      <td>76.252184</td>\n",
       "      <td>2.420987</td>\n",
       "      <td>8.975646</td>\n",
       "    </tr>\n",
       "    <tr>\n",
       "      <th>4</th>\n",
       "      <td>99878.440299</td>\n",
       "      <td>90.432931</td>\n",
       "      <td>2.361844</td>\n",
       "      <td>11.300637</td>\n",
       "    </tr>\n",
       "    <tr>\n",
       "      <th>5</th>\n",
       "      <td>99852.789135</td>\n",
       "      <td>105.078957</td>\n",
       "      <td>2.367383</td>\n",
       "      <td>13.595624</td>\n",
       "    </tr>\n",
       "    <tr>\n",
       "      <th>6</th>\n",
       "      <td>99824.955816</td>\n",
       "      <td>120.201563</td>\n",
       "      <td>2.440201</td>\n",
       "      <td>15.918247</td>\n",
       "    </tr>\n",
       "    <tr>\n",
       "      <th>7</th>\n",
       "      <td>99794.866373</td>\n",
       "      <td>135.807029</td>\n",
       "      <td>2.587980</td>\n",
       "      <td>18.298234</td>\n",
       "    </tr>\n",
       "    <tr>\n",
       "      <th>8</th>\n",
       "      <td>99762.445792</td>\n",
       "      <td>151.894584</td>\n",
       "      <td>2.825050</td>\n",
       "      <td>20.751438</td>\n",
       "    </tr>\n",
       "    <tr>\n",
       "      <th>9</th>\n",
       "      <td>99727.618758</td>\n",
       "      <td>168.453238</td>\n",
       "      <td>3.174884</td>\n",
       "      <td>23.286763</td>\n",
       "    </tr>\n",
       "    <tr>\n",
       "      <th>10</th>\n",
       "      <td>99690.310776</td>\n",
       "      <td>185.456738</td>\n",
       "      <td>3.674201</td>\n",
       "      <td>25.909534</td>\n",
       "    </tr>\n",
       "    <tr>\n",
       "      <th>11</th>\n",
       "      <td>99650.449881</td>\n",
       "      <td>202.855425</td>\n",
       "      <td>4.379680</td>\n",
       "      <td>28.623086</td>\n",
       "    </tr>\n",
       "    <tr>\n",
       "      <th>12</th>\n",
       "      <td>99607.969325</td>\n",
       "      <td>220.562997</td>\n",
       "      <td>5.379020</td>\n",
       "      <td>31.429396</td>\n",
       "    </tr>\n",
       "    <tr>\n",
       "      <th>13</th>\n",
       "      <td>99562.811815</td>\n",
       "      <td>238.434725</td>\n",
       "      <td>6.809266</td>\n",
       "      <td>34.329187</td>\n",
       "    </tr>\n",
       "    <tr>\n",
       "      <th>14</th>\n",
       "      <td>99514.936330</td>\n",
       "      <td>256.231214</td>\n",
       "      <td>8.887514</td>\n",
       "      <td>37.321610</td>\n",
       "    </tr>\n",
       "    <tr>\n",
       "      <th>15</th>\n",
       "      <td>99464.329239</td>\n",
       "      <td>273.557343</td>\n",
       "      <td>11.962912</td>\n",
       "      <td>40.403510</td>\n",
       "    </tr>\n",
       "    <tr>\n",
       "      <th>16</th>\n",
       "      <td>99411.022706</td>\n",
       "      <td>289.757348</td>\n",
       "      <td>16.606508</td>\n",
       "      <td>43.568099</td>\n",
       "    </tr>\n",
       "    <tr>\n",
       "      <th>17</th>\n",
       "      <td>99355.125865</td>\n",
       "      <td>303.724185</td>\n",
       "      <td>23.776237</td>\n",
       "      <td>46.802684</td>\n",
       "    </tr>\n",
       "    <tr>\n",
       "      <th>18</th>\n",
       "      <td>99296.881235</td>\n",
       "      <td>313.470707</td>\n",
       "      <td>35.198637</td>\n",
       "      <td>50.084674</td>\n",
       "    </tr>\n",
       "    <tr>\n",
       "      <th>19</th>\n",
       "      <td>99236.800565</td>\n",
       "      <td>314.139336</td>\n",
       "      <td>55.240705</td>\n",
       "      <td>53.373461</td>\n",
       "    </tr>\n",
       "    <tr>\n",
       "      <th>20</th>\n",
       "      <td>99177.322023</td>\n",
       "      <td>231.921355</td>\n",
       "      <td>155.400799</td>\n",
       "      <td>56.564576</td>\n",
       "    </tr>\n",
       "  </tbody>\n",
       "</table>\n",
       "</div>"
      ],
      "text/plain": [
       "               s           h           f          r\n",
       "0   99960.643335   36.356665    3.000000   0.000000\n",
       "1   99943.015654   49.226464    2.740191   3.666750\n",
       "2   99923.484016   62.521980    2.546086   6.506763\n",
       "3   99901.981739   76.252184    2.420987   8.975646\n",
       "4   99878.440299   90.432931    2.361844  11.300637\n",
       "5   99852.789135  105.078957    2.367383  13.595624\n",
       "6   99824.955816  120.201563    2.440201  15.918247\n",
       "7   99794.866373  135.807029    2.587980  18.298234\n",
       "8   99762.445792  151.894584    2.825050  20.751438\n",
       "9   99727.618758  168.453238    3.174884  23.286763\n",
       "10  99690.310776  185.456738    3.674201  25.909534\n",
       "11  99650.449881  202.855425    4.379680  28.623086\n",
       "12  99607.969325  220.562997    5.379020  31.429396\n",
       "13  99562.811815  238.434725    6.809266  34.329187\n",
       "14  99514.936330  256.231214    8.887514  37.321610\n",
       "15  99464.329239  273.557343   11.962912  40.403510\n",
       "16  99411.022706  289.757348   16.606508  43.568099\n",
       "17  99355.125865  303.724185   23.776237  46.802684\n",
       "18  99296.881235  313.470707   35.198637  50.084674\n",
       "19  99236.800565  314.139336   55.240705  53.373461\n",
       "20  99177.322023  231.921355  155.400799  56.564576"
      ]
     },
     "execution_count": 89,
     "metadata": {},
     "output_type": "execute_result"
    }
   ],
   "source": [
    "best_model(best_net_conversion, data, y0, t, df=True)"
   ]
  },
  {
   "cell_type": "code",
   "execution_count": 90,
   "id": "e2e173d3",
   "metadata": {
    "id": "l3PFRuU1KSYB"
   },
   "outputs": [
    {
     "data": {
      "image/png": "[encoded data removed]",
      "text/plain": [
       "<Figure size 432x288 with 1 Axes>"
      ]
     },
     "metadata": {
      "needs_background": "light"
     },
     "output_type": "display_data"
    },
    {
     "data": {
      "image/png": "[encoded data removed]",
      "text/plain": [
       "<Figure size 432x288 with 1 Axes>"
      ]
     },
     "metadata": {
      "needs_background": "light"
     },
     "output_type": "display_data"
    }
   ],
   "source": [
    "'''\n",
    "4. Compute the best model using the best net conversion value.\n",
    "   Plot the simulated values and the real values.\n",
    "'''\n",
    "\n",
    "best_model(best_net_conversion, data, y0, t)"
   ]
  },
  {
   "cell_type": "markdown",
   "id": "cdcd3ed5",
   "metadata": {},
   "source": [
    "## Parameters"
   ]
  },
  {
   "cell_type": "code",
   "execution_count": 91,
   "id": "a1508325",
   "metadata": {},
   "outputs": [
    {
     "data": {
      "text/plain": [
       "178.5"
      ]
     },
     "execution_count": 91,
     "metadata": {},
     "output_type": "execute_result"
    }
   ],
   "source": [
    "best_net_conversion"
   ]
  },
  {
   "cell_type": "code",
   "execution_count": 92,
   "id": "0af08b7f",
   "metadata": {},
   "outputs": [],
   "source": [
    "# Normale --> calcolato\n",
    "# Uniforme --> assunto\n",
    "prescription_addiction = cp.Uniform(0.05*0.001116,0.2*0.001116)#moltiplicazione\n",
    "illegal_addiction_rate = 0.0036\n",
    "f_laced_rate = 0.5\n",
    "recovery_rate =cp.Normal(0.1,0.04) #[0.09,0.11] 0.04\n",
    "relapse_rate = cp.Normal(0.7,0.05) #[0.6,0.8] 0.05\n",
    "net_conversion = best_net_conversion\n",
    "availability = global_availability_ratio\n",
    "death_rate_heroin = 0.015 \n",
    "death_rate_fentanyl = cp.Normal(0.1,0.005) #[0.09,0.11]\n",
    "death_rate_natural = death_rate_prescription_opioids"
   ]
  },
  {
   "cell_type": "code",
   "execution_count": 93,
   "id": "57a63ff2",
   "metadata": {},
   "outputs": [],
   "source": [
    "parameters = {'prescription_addiction':prescription_addiction,\n",
    " 'illegal_addiction_rate':illegal_addiction_rate,\n",
    " 'f_laced_rate':f_laced_rate,\n",
    " 'recovery_rate':recovery_rate,\n",
    " 'relapse_rate':relapse_rate,\n",
    " 'death_rate_heroin':death_rate_heroin,\n",
    " 'death_rate_fentanyl':death_rate_fentanyl,\n",
    "    'net_conversion':net_conversion,\n",
    "    'availability': availability,\n",
    "    \"death_rate_natural\":death_rate_natural }"
   ]
  },
  {
   "cell_type": "markdown",
   "id": "d9d25f31",
   "metadata": {},
   "source": [
    "* The first order Sobol sensitivity index S measures the direct effect each parameter has on the variance of the model\n",
    "\n",
    "(Si=V[E[Y|Qi]/V[Y])\n",
    "\n",
    "* Here, E[Y|Qi] denotes the expected value of the output Y when parameter Qi is fixed. The first order Sobol sensitivity index tells us the expected reduction in the variance of the model when we fix parameter Qi. The sum of the first order Sobol sensitivity indices can not exceed one\n",
    "\n",
    "https://uncertainpy.readthedocs.io/en/latest/theory/sa.html#:~:text=The%20first%20order%20Sobol%20sensitivity%20index%20tells%20us%20the%20expected,Glen%20and%20Isaacs%2C%202012)."
   ]
  },
  {
   "cell_type": "code",
   "execution_count": 278,
   "id": "951fe32b",
   "metadata": {},
   "outputs": [],
   "source": [
    "def activation(variable,category):\n",
    "    # Normale --> calcolato\n",
    "# Uniforme --> assunto\n",
    "    prescription_addiction = 0.1*0.001116#moltiplicazione\n",
    "    illegal_addiction_rate = 0.0036\n",
    "    f_laced_rate = 0.5\n",
    "    recovery_rate = 0.1 #[0.09,0.11] 0.04\n",
    "    relapse_rate = 0.7#[0.6,0.8] 0.05\n",
    "    net_conversion = best_net_conversion\n",
    "    availability = global_availability_ratio\n",
    "    death_rate_heroin = 0.015 \n",
    "    death_rate_fentanyl = 0.1 #[0.09,0.11]\n",
    "    death_rate_natural = death_rate_prescription_opioids\n",
    "    \n",
    "    change  = {'prescription_addiction':cp.Uniform(0.05*0.001116,0.2*0.001116),\n",
    "              'recovery_rate':cp.Normal(0.1,0.04),\n",
    "                 'relapse_rate':cp.Normal(0.7,0.05),\n",
    "              'death_rate_fentanyl':cp.Normal(0.1,0.005)}\n",
    "    if variable == \"prescription_addiction\":\n",
    "        prescription_addiction = change[\"prescription_addiction\"]\n",
    "    elif variable == \"recovery_rate\":\n",
    "        recovery_rate = change[\"recovery_rate\"]\n",
    "    elif variable == \"relapse_rate\":\n",
    "        relapse_rate = change[\"relapse_rate\"]\n",
    "    elif variable == \"death_rate_fentanyl\":\n",
    "        death_rate_fentanyl = change[\"death_rate_fentanyl\"]\n",
    "    \n",
    "    \n",
    "    parameters = {'prescription_addiction':prescription_addiction,\n",
    "     'illegal_addiction_rate':illegal_addiction_rate,\n",
    "     'f_laced_rate':f_laced_rate,\n",
    "     'recovery_rate':recovery_rate,\n",
    "     'relapse_rate':relapse_rate,\n",
    "     'death_rate_heroin':death_rate_heroin,\n",
    "     'death_rate_fentanyl':death_rate_fentanyl,\n",
    "        'net_conversion':net_conversion,\n",
    "        'availability': availability,\n",
    "        \"death_rate_natural\":death_rate_natural }\n",
    "        \n",
    "    if category == \"S\":\n",
    "        model = un.Model(run = sensitivity_analysis_S,labels=[\"Time\",\"S\"])\n",
    "    \n",
    "        parameters = un.Parameters(parameters)\n",
    "    \n",
    "        UQ_S=un.UncertaintyQuantification(model=model,parameters=parameters)\n",
    "    \n",
    "        data_S = UQ_S.quantify()\n",
    "    \n",
    "        UQ_S.plot(folder=f'S {variable}')\n",
    "        \n",
    "    elif category == \"H\":\n",
    "        model = un.Model(run = sensitivity_analysis_H,labels=[\"Time\",\"H\"])\n",
    "    \n",
    "        parameters = un.Parameters(parameters)\n",
    "    \n",
    "        UQ_S=un.UncertaintyQuantification(model=model,parameters=parameters)\n",
    "    \n",
    "        data_S = UQ_S.quantify()\n",
    "    \n",
    "        UQ_S.plot(folder=f'H {variable}')\n",
    "        \n",
    "    elif category == \"F\":\n",
    "        model = un.Model(run = sensitivity_analysis_F,labels=[\"Time\",\"F\"])\n",
    "    \n",
    "        parameters = un.Parameters(parameters)\n",
    "    \n",
    "        UQ_S=un.UncertaintyQuantification(model=model,parameters=parameters)\n",
    "    \n",
    "        data_S = UQ_S.quantify()\n",
    "    \n",
    "        UQ_S.plot(folder=f'F {variable}')\n",
    "        \n",
    "    elif category == \"R\":\n",
    "        model = un.Model(run = sensitivity_analysis_R,labels=[\"Time\",\"R\"])\n",
    "    \n",
    "        parameters = un.Parameters(parameters)\n",
    "    \n",
    "        UQ_S=un.UncertaintyQuantification(model=model,parameters=parameters)\n",
    "    \n",
    "        data_S = UQ_S.quantify()\n",
    "    \n",
    "        UQ_S.plot(folder=f'R {variable}')\n",
    "       \n",
    "    "
   ]
  },
  {
   "cell_type": "code",
   "execution_count": 279,
   "id": "aa1937e9",
   "metadata": {
    "scrolled": false
   },
   "outputs": [
    {
     "name": "stdout",
     "output_type": "stream",
     "text": [
      "On Windows machines everything in your script must be inside of an if __name__ == '__main__': block in order for multiprocess to work.\n"
     ]
    },
    {
     "name": "stderr",
     "output_type": "stream",
     "text": [
      "chaospy.orth_ttr name is to be deprecated; Use chaospy.expansion.stieltjes instead\n",
      "Running model: 100%|███████████████████████████████████████████████████████████████████| 12/12 [00:10<00:00,  1.20it/s]\n",
      "Calculating PC for each feature: 100%|███████████████████████████████████████████████████| 1/1 [00:00<00:00,  6.72it/s]\n",
      "Calculating statistics from PCE:   0%|                                                           | 0/1 [00:00<?, ?it/s]"
     ]
    },
    {
     "name": "stdout",
     "output_type": "stream",
     "text": [
      "Only 1 uncertain parameter. Sensitivities are not calculated\n"
     ]
    },
    {
     "name": "stderr",
     "output_type": "stream",
     "text": [
      "Calculating statistics from PCE: 100%|███████████████████████████████████████████████████| 1/1 [00:00<00:00,  2.84it/s]\n"
     ]
    },
    {
     "name": "stdout",
     "output_type": "stream",
     "text": [
      "Saving data as: data\\sensitivity_analysis_R.h5\n",
      "WARNING - All sobol_first_averages are missing. Unable to plot sobol_first_average_grid\n",
      "WARNING - All sobol_first_averages are missing. Unable to plot sobol_first_average_grid\n"
     ]
    }
   ],
   "source": [
    "activation(\"death_rate_fentanyl\", \"R\")"
   ]
  },
  {
   "cell_type": "code",
   "execution_count": 281,
   "id": "bda43f05",
   "metadata": {},
   "outputs": [],
   "source": [
    "param = [\"prescription_addiction\",\"recovery_rate\", \"relapse_rate\", \"death_rate_fentanyl\"]\n",
    "categ = [\"S\",\"H\",\"F\",\"R\"]"
   ]
  },
  {
   "cell_type": "code",
   "execution_count": 283,
   "id": "75bd416a",
   "metadata": {},
   "outputs": [],
   "source": [
    "for par in param:\n",
    "    activation(\"recovery_rate\",par)"
   ]
  },
  {
   "cell_type": "markdown",
   "id": "b847aa29",
   "metadata": {},
   "source": [
    "## S"
   ]
  },
  {
   "cell_type": "code",
   "execution_count": 2,
   "id": "f9c7dc37",
   "metadata": {},
   "outputs": [],
   "source": [
    "def sensitivity_analysis_S(prescription_addiction,illegal_addiction_rate,f_laced_rate,recovery_rate,\n",
    "           relapse_rate,death_rate_heroin,death_rate_fentanyl,net_conversion, availability, death_rate_natural):\n",
    "    import uncertainpy as un\n",
    "    import chaospy as cp # To create distributions\n",
    "    import numpy as np # For the time array\n",
    "    from scipy.integrate import odeint\n",
    "    ndays = 21\n",
    "    \n",
    "    S, H, F, R = (99960.64333519242, 36.356664807585055, 2.9999999999999996, 0)\n",
    "    N = S+H+F+R\n",
    "    t = range(1, ndays+1, 1)\n",
    "    \n",
    "    \n",
    "    laced_exponent = -24.52*(F/H - 0.3)\n",
    "    f_laced_rate = f_laced_rate/ (1 + np.exp(laced_exponent))\n",
    "    \n",
    "    #_______________\n",
    "    death_rate_heroin = death_rate_heroin - death_rate_natural\n",
    "    death_rate_fentanyl = death_rate_fentanyl - death_rate_natural\n",
    "    \n",
    "    def opioids_model(INPUT, t, prescription_addiction,illegal_addiction_rate,f_laced_rate,recovery_rate,\n",
    "           relapse_rate,death_rate_heroin,death_rate_fentanyl,net_conversion, availability, death_rate_natural):\n",
    "\n",
    "        S, H, F, R = INPUT[0], INPUT[1], INPUT[2], INPUT[3]\n",
    "\n",
    "\n",
    "        S_d_t = -(prescription_addiction + illegal_addiction_rate*availability*(H+F)/N)*S + death_rate_heroin*H + death_rate_fentanyl*F\n",
    "        H_d_t = (prescription_addiction + illegal_addiction_rate*availability*(H+F)/N)*S*(1-f_laced_rate) - f_laced_rate*H - net_conversion*H*F/N - recovery_rate*H + relapse_rate*H*R/N - death_rate_heroin*H\n",
    "        F_d_t = (prescription_addiction + illegal_addiction_rate*availability*(H+F)/N)*S*f_laced_rate + f_laced_rate*H + net_conversion*H*F/N - recovery_rate*F + relapse_rate*F*R/N - death_rate_fentanyl*F\n",
    "        R_d_t = recovery_rate*(H+F) - relapse_rate*R\n",
    "\n",
    "        return S_d_t, H_d_t, F_d_t, R_d_t\n",
    "    cases = odeint(opioids_model, (S, H, F, R) , t, args=(prescription_addiction,illegal_addiction_rate,f_laced_rate,recovery_rate,\n",
    "           relapse_rate,death_rate_heroin,death_rate_fentanyl, net_conversion,availability, death_rate_natural) )\n",
    "    return t,cases[:,0]\n",
    "    \n",
    "    \n",
    "    "
   ]
  },
  {
   "cell_type": "code",
   "execution_count": 159,
   "id": "838caf18",
   "metadata": {},
   "outputs": [],
   "source": [
    "model = un.Model(run = sensitivity_analysis,labels=[\"Time\",\"S\"])"
   ]
  },
  {
   "cell_type": "code",
   "execution_count": 160,
   "id": "ea8ba463",
   "metadata": {},
   "outputs": [],
   "source": [
    "parameters = un.Parameters(parameters)"
   ]
  },
  {
   "cell_type": "code",
   "execution_count": 161,
   "id": "a831e827",
   "metadata": {},
   "outputs": [
    {
     "name": "stdout",
     "output_type": "stream",
     "text": [
      "On Windows machines everything in your script must be inside of an if __name__ == '__main__': block in order for multiprocess to work.\n"
     ]
    }
   ],
   "source": [
    "UQ_S=un.UncertaintyQuantification(model=model,parameters=parameters)"
   ]
  },
  {
   "cell_type": "code",
   "execution_count": 162,
   "id": "917553e2",
   "metadata": {
    "scrolled": true
   },
   "outputs": [
    {
     "name": "stderr",
     "output_type": "stream",
     "text": [
      "chaospy.orth_ttr name is to be deprecated; Use chaospy.expansion.stieltjes instead\n",
      "Running model: 100%|█████████████████████████████████████████████████████████████████| 142/142 [00:06<00:00, 21.25it/s]\n",
      "Calculating PC for each feature: 100%|███████████████████████████████████████████████████| 1/1 [00:00<00:00, 13.93it/s]\n",
      "Calculating statistics from PCE: 100%|███████████████████████████████████████████████████| 1/1 [00:44<00:00, 44.09s/it]\n"
     ]
    },
    {
     "name": "stdout",
     "output_type": "stream",
     "text": [
      "Saving data as: data\\sensitivity_analysis.h5\n"
     ]
    }
   ],
   "source": [
    "data_S = UQ_S.quantify()"
   ]
  },
  {
   "cell_type": "code",
   "execution_count": 163,
   "id": "8c12cb7a",
   "metadata": {},
   "outputs": [
    {
     "data": {
      "text/plain": [
       "'In summary, first‐order sensitivity indices as the main effect are used to measure the fractional contribution of\\na single parameter to the output variance. \\nSecond‐order sensitivity indices are used to measure the fractional contribution of parameter interactions \\nto the output variance.'"
      ]
     },
     "execution_count": 163,
     "metadata": {},
     "output_type": "execute_result"
    }
   ],
   "source": [
    "UQ_S.plot(folder='S')\n",
    "\"\"\"In summary, first‐order sensitivity indices as the main effect are used to measure the fractional contribution of\n",
    "a single parameter to the output variance. \n",
    "Second‐order sensitivity indices are used to measure the fractional contribution of parameter interactions \n",
    "to the output variance.\"\"\"\n",
    "\n",
    "#https://www.ncbi.nlm.nih.gov/pmc/articles/PMC5006244/#:~:text=In%20summary%2C%20first%E2%80%90order%20sensitivity,interactions%20to%20the%20output%20variance."
   ]
  },
  {
   "cell_type": "markdown",
   "id": "2b121a01",
   "metadata": {},
   "source": [
    "UQ.plotting.sensitivity_1d(feature=\"sensitivity_analysis\")"
   ]
  },
  {
   "cell_type": "markdown",
   "id": "3645fb3c",
   "metadata": {},
   "source": [
    "UQ.plotting.average_sensitivity_all()"
   ]
  },
  {
   "cell_type": "markdown",
   "id": "106d8767",
   "metadata": {},
   "source": [
    "UQ.plotting.plot_all_sensitivities()"
   ]
  },
  {
   "cell_type": "markdown",
   "id": "1de12f27",
   "metadata": {},
   "source": [
    "UQ.plotting.plot_condensed()"
   ]
  },
  {
   "cell_type": "markdown",
   "id": "739e0eaa",
   "metadata": {},
   "source": [
    "## H"
   ]
  },
  {
   "cell_type": "code",
   "execution_count": 3,
   "id": "9eca57a0",
   "metadata": {},
   "outputs": [],
   "source": [
    "def sensitivity_analysis_H(prescription_addiction,illegal_addiction_rate,f_laced_rate,recovery_rate,\n",
    "           relapse_rate,death_rate_heroin,death_rate_fentanyl,net_conversion, availability, death_rate_natural):\n",
    "    import uncertainpy as un\n",
    "    import chaospy as cp # To create distributions\n",
    "    import numpy as np # For the time array\n",
    "    from scipy.integrate import odeint\n",
    "    ndays = 21\n",
    "    \n",
    "    S, H, F, R = (99960.64333519242, 36.356664807585055, 2.9999999999999996, 0)\n",
    "    N = S+H+F+R\n",
    "    t = range(1, ndays+1, 1)\n",
    "    \n",
    "    \n",
    "    laced_exponent = -24.52*(F/H - 0.3)\n",
    "    f_laced_rate = f_laced_rate/ (1 + np.exp(laced_exponent))\n",
    "    \n",
    "    #_______________\n",
    "    death_rate_heroin = death_rate_heroin - death_rate_natural\n",
    "    death_rate_fentanyl = death_rate_fentanyl - death_rate_natural\n",
    "    \n",
    "    def opioids_model(INPUT, t, prescription_addiction,illegal_addiction_rate,f_laced_rate,recovery_rate,\n",
    "           relapse_rate,death_rate_heroin,death_rate_fentanyl,net_conversion, availability, death_rate_natural):\n",
    "\n",
    "        S, H, F, R = INPUT[0], INPUT[1], INPUT[2], INPUT[3]\n",
    "\n",
    "\n",
    "        S_d_t = -(prescription_addiction + illegal_addiction_rate*availability*(H+F)/N)*S + death_rate_heroin*H + death_rate_fentanyl*F\n",
    "        H_d_t = (prescription_addiction + illegal_addiction_rate*availability*(H+F)/N)*S*(1-f_laced_rate) - f_laced_rate*H - net_conversion*H*F/N - recovery_rate*H + relapse_rate*H*R/N - death_rate_heroin*H\n",
    "        F_d_t = (prescription_addiction + illegal_addiction_rate*availability*(H+F)/N)*S*f_laced_rate + f_laced_rate*H + net_conversion*H*F/N - recovery_rate*F + relapse_rate*F*R/N - death_rate_fentanyl*F\n",
    "        R_d_t = recovery_rate*(H+F) - relapse_rate*R\n",
    "\n",
    "        return S_d_t, H_d_t, F_d_t, R_d_t\n",
    "    cases = odeint(opioids_model, (S, H, F, R) , t, args=(prescription_addiction,illegal_addiction_rate,f_laced_rate,recovery_rate,\n",
    "           relapse_rate,death_rate_heroin,death_rate_fentanyl, net_conversion,availability, death_rate_natural) )\n",
    "    return t,cases[:,1]\n",
    "    \n",
    "    "
   ]
  },
  {
   "cell_type": "code",
   "execution_count": 165,
   "id": "e01c3f13",
   "metadata": {},
   "outputs": [],
   "source": [
    "model = un.Model(run = sensitivity_analysis,labels=[\"Time\",\"H\"])"
   ]
  },
  {
   "cell_type": "code",
   "execution_count": 166,
   "id": "78a777d3",
   "metadata": {},
   "outputs": [],
   "source": [
    "parameters = un.Parameters(parameters)"
   ]
  },
  {
   "cell_type": "code",
   "execution_count": 167,
   "id": "50b0e3f1",
   "metadata": {},
   "outputs": [
    {
     "name": "stdout",
     "output_type": "stream",
     "text": [
      "On Windows machines everything in your script must be inside of an if __name__ == '__main__': block in order for multiprocess to work.\n"
     ]
    }
   ],
   "source": [
    "UQ_H=un.UncertaintyQuantification(model=model,parameters=parameters)"
   ]
  },
  {
   "cell_type": "code",
   "execution_count": 168,
   "id": "410ca2fa",
   "metadata": {},
   "outputs": [
    {
     "name": "stderr",
     "output_type": "stream",
     "text": [
      "chaospy.orth_ttr name is to be deprecated; Use chaospy.expansion.stieltjes instead\n",
      "Running model: 100%|█████████████████████████████████████████████████████████████████| 142/142 [00:07<00:00, 17.92it/s]\n",
      "Calculating PC for each feature: 100%|███████████████████████████████████████████████████| 1/1 [00:00<00:00, 10.54it/s]\n",
      "Calculating statistics from PCE: 100%|███████████████████████████████████████████████████| 1/1 [00:38<00:00, 38.49s/it]\n"
     ]
    },
    {
     "name": "stdout",
     "output_type": "stream",
     "text": [
      "Saving data as: data\\sensitivity_analysis.h5\n"
     ]
    }
   ],
   "source": [
    "data_H = UQ_H.quantify()"
   ]
  },
  {
   "cell_type": "code",
   "execution_count": 169,
   "id": "cc085202",
   "metadata": {},
   "outputs": [
    {
     "data": {
      "text/plain": [
       "'In summary, first‐order sensitivity indices as the main effect are used to measure the fractional contribution of\\na single parameter to the output variance. \\nSecond‐order sensitivity indices are used to measure the fractional contribution of parameter interactions \\nto the output variance.'"
      ]
     },
     "execution_count": 169,
     "metadata": {},
     "output_type": "execute_result"
    }
   ],
   "source": [
    "UQ_H.plot(folder='H')\n",
    "\"\"\"In summary, first‐order sensitivity indices as the main effect are used to measure the fractional contribution of\n",
    "a single parameter to the output variance. \n",
    "Second‐order sensitivity indices are used to measure the fractional contribution of parameter interactions \n",
    "to the output variance.\"\"\"\n",
    "\n",
    "#https://www.ncbi.nlm.nih.gov/pmc/articles/PMC5006244/#:~:text=In%20summary%2C%20first%E2%80%90order%20sensitivity,interactions%20to%20the%20output%20variance."
   ]
  },
  {
   "cell_type": "markdown",
   "id": "8c99d5df",
   "metadata": {},
   "source": [
    "UQ.plotting.sensitivity_1d(feature=\"sensitivity_analysis\")"
   ]
  },
  {
   "cell_type": "markdown",
   "id": "da8183c2",
   "metadata": {},
   "source": [
    "UQ.plotting.average_sensitivity_all()"
   ]
  },
  {
   "cell_type": "markdown",
   "id": "683400d1",
   "metadata": {},
   "source": [
    "UQ.plotting.plot_all_sensitivities()"
   ]
  },
  {
   "cell_type": "markdown",
   "id": "5695d8d8",
   "metadata": {},
   "source": [
    "UQ.plotting.plot_condensed()"
   ]
  },
  {
   "cell_type": "markdown",
   "id": "26f06f0f",
   "metadata": {},
   "source": [
    "## F"
   ]
  },
  {
   "cell_type": "code",
   "execution_count": 4,
   "id": "7dc3d2b9",
   "metadata": {},
   "outputs": [],
   "source": [
    "def sensitivity_analysis_F(prescription_addiction,illegal_addiction_rate,f_laced_rate,recovery_rate,\n",
    "           relapse_rate,death_rate_heroin,death_rate_fentanyl,net_conversion, availability, death_rate_natural):\n",
    "    import uncertainpy as un\n",
    "    import chaospy as cp # To create distributions\n",
    "    import numpy as np # For the time array\n",
    "    from scipy.integrate import odeint\n",
    "    ndays = 21\n",
    "    \n",
    "    S, H, F, R = (99960.64333519242, 36.356664807585055, 2.9999999999999996, 0)\n",
    "    N = S+H+F+R\n",
    "    t = range(1, ndays+1, 1)\n",
    "    \n",
    "    \n",
    "    laced_exponent = -24.52*(F/H - 0.3)\n",
    "    f_laced_rate = f_laced_rate/ (1 + np.exp(laced_exponent))\n",
    "    \n",
    "    #_______________\n",
    "    death_rate_heroin = death_rate_heroin - death_rate_natural\n",
    "    death_rate_fentanyl = death_rate_fentanyl - death_rate_natural\n",
    "    \n",
    "    def opioids_model(INPUT, t, prescription_addiction,illegal_addiction_rate,f_laced_rate,recovery_rate,\n",
    "           relapse_rate,death_rate_heroin,death_rate_fentanyl,net_conversion, availability, death_rate_natural):\n",
    "\n",
    "        S, H, F, R = INPUT[0], INPUT[1], INPUT[2], INPUT[3]\n",
    "\n",
    "\n",
    "        S_d_t = -(prescription_addiction + illegal_addiction_rate*availability*(H+F)/N)*S + death_rate_heroin*H + death_rate_fentanyl*F\n",
    "        H_d_t = (prescription_addiction + illegal_addiction_rate*availability*(H+F)/N)*S*(1-f_laced_rate) - f_laced_rate*H - net_conversion*H*F/N - recovery_rate*H + relapse_rate*H*R/N - death_rate_heroin*H\n",
    "        F_d_t = (prescription_addiction + illegal_addiction_rate*availability*(H+F)/N)*S*f_laced_rate + f_laced_rate*H + net_conversion*H*F/N - recovery_rate*F + relapse_rate*F*R/N - death_rate_fentanyl*F\n",
    "        R_d_t = recovery_rate*(H+F) - relapse_rate*R\n",
    "\n",
    "        return S_d_t, H_d_t, F_d_t, R_d_t\n",
    "    cases = odeint(opioids_model, (S, H, F, R) , t, args=(prescription_addiction,illegal_addiction_rate,f_laced_rate,recovery_rate,\n",
    "           relapse_rate,death_rate_heroin,death_rate_fentanyl, net_conversion,availability, death_rate_natural) )\n",
    "    return t,cases[:,2]\n",
    "    \n",
    "    \n",
    "    "
   ]
  },
  {
   "cell_type": "code",
   "execution_count": 171,
   "id": "c110e3fc",
   "metadata": {},
   "outputs": [],
   "source": [
    "model = un.Model(run = sensitivity_analysis,labels=[\"Time\",\"F\"])"
   ]
  },
  {
   "cell_type": "code",
   "execution_count": 172,
   "id": "3aad1495",
   "metadata": {},
   "outputs": [],
   "source": [
    "parameters = un.Parameters(parameters)"
   ]
  },
  {
   "cell_type": "code",
   "execution_count": 173,
   "id": "2c0cd667",
   "metadata": {},
   "outputs": [
    {
     "name": "stdout",
     "output_type": "stream",
     "text": [
      "On Windows machines everything in your script must be inside of an if __name__ == '__main__': block in order for multiprocess to work.\n"
     ]
    }
   ],
   "source": [
    "UQ_F=un.UncertaintyQuantification(model=model,parameters=parameters)"
   ]
  },
  {
   "cell_type": "code",
   "execution_count": 174,
   "id": "ca58a9ef",
   "metadata": {},
   "outputs": [
    {
     "name": "stderr",
     "output_type": "stream",
     "text": [
      "chaospy.orth_ttr name is to be deprecated; Use chaospy.expansion.stieltjes instead\n",
      "Running model: 100%|█████████████████████████████████████████████████████████████████| 142/142 [00:07<00:00, 18.02it/s]\n",
      "Calculating PC for each feature: 100%|███████████████████████████████████████████████████| 1/1 [00:00<00:00,  8.13it/s]\n",
      "Calculating statistics from PCE: 100%|███████████████████████████████████████████████████| 1/1 [00:45<00:00, 45.56s/it]\n"
     ]
    },
    {
     "name": "stdout",
     "output_type": "stream",
     "text": [
      "Saving data as: data\\sensitivity_analysis.h5\n"
     ]
    }
   ],
   "source": [
    "data_F = UQ_F.quantify()"
   ]
  },
  {
   "cell_type": "code",
   "execution_count": 175,
   "id": "e7b1cc17",
   "metadata": {},
   "outputs": [
    {
     "data": {
      "text/plain": [
       "'In summary, first‐order sensitivity indices as the main effect are used to measure the fractional contribution of\\na single parameter to the output variance. \\nSecond‐order sensitivity indices are used to measure the fractional contribution of parameter interactions \\nto the output variance.'"
      ]
     },
     "execution_count": 175,
     "metadata": {},
     "output_type": "execute_result"
    }
   ],
   "source": [
    "UQ_F.plot(folder='F')\n",
    "\"\"\"In summary, first‐order sensitivity indices as the main effect are used to measure the fractional contribution of\n",
    "a single parameter to the output variance. \n",
    "Second‐order sensitivity indices are used to measure the fractional contribution of parameter interactions \n",
    "to the output variance.\"\"\"\n",
    "\n",
    "#https://www.ncbi.nlm.nih.gov/pmc/articles/PMC5006244/#:~:text=In%20summary%2C%20first%E2%80%90order%20sensitivity,interactions%20to%20the%20output%20variance."
   ]
  },
  {
   "cell_type": "markdown",
   "id": "afe9f0c0",
   "metadata": {},
   "source": [
    "UQ.plotting.sensitivity_1d(feature=\"sensitivity_analysis\")"
   ]
  },
  {
   "cell_type": "markdown",
   "id": "616f9da2",
   "metadata": {},
   "source": [
    "UQ.plotting.average_sensitivity_all()"
   ]
  },
  {
   "cell_type": "markdown",
   "id": "2df78fd8",
   "metadata": {},
   "source": [
    "UQ.plotting.plot_all_sensitivities()"
   ]
  },
  {
   "cell_type": "markdown",
   "id": "68c76a0a",
   "metadata": {},
   "source": [
    "UQ.plotting.plot_condensed()"
   ]
  },
  {
   "cell_type": "markdown",
   "id": "5206ca54",
   "metadata": {},
   "source": [
    "## R"
   ]
  },
  {
   "cell_type": "code",
   "execution_count": 276,
   "id": "3f78fde3",
   "metadata": {},
   "outputs": [],
   "source": [
    "def sensitivity_analysis_R(prescription_addiction,illegal_addiction_rate,f_laced_rate,recovery_rate,\n",
    "           relapse_rate,death_rate_heroin,death_rate_fentanyl,net_conversion, availability, death_rate_natural):\n",
    "    import uncertainpy as un\n",
    "    import chaospy as cp # To create distributions\n",
    "    import numpy as np # For the time array\n",
    "    from scipy.integrate import odeint\n",
    "    ndays = 21\n",
    "    \n",
    "    S, H, F, R = (99960.64333519242, 36.356664807585055, 2.9999999999999996, 0)\n",
    "    N = S+H+F+R\n",
    "    t = range(1, ndays+1, 1)\n",
    "    \n",
    "    \n",
    "    laced_exponent = -24.52*(F/H - 0.3)\n",
    "    f_laced_rate = f_laced_rate/ (1 + np.exp(laced_exponent))\n",
    "    \n",
    "    #_______________\n",
    "    death_rate_heroin = death_rate_heroin - death_rate_natural\n",
    "    death_rate_fentanyl = death_rate_fentanyl - death_rate_natural\n",
    "    \n",
    "    def opioids_model(INPUT, t, prescription_addiction,illegal_addiction_rate,f_laced_rate,recovery_rate,\n",
    "           relapse_rate,death_rate_heroin,death_rate_fentanyl,net_conversion, availability, death_rate_natural):\n",
    "\n",
    "        S, H, F, R = INPUT[0], INPUT[1], INPUT[2], INPUT[3]\n",
    "\n",
    "\n",
    "        S_d_t = -(prescription_addiction + illegal_addiction_rate*availability*(H+F)/N)*S + death_rate_heroin*H + death_rate_fentanyl*F\n",
    "        H_d_t = (prescription_addiction + illegal_addiction_rate*availability*(H+F)/N)*S*(1-f_laced_rate) - f_laced_rate*H - net_conversion*H*F/N - recovery_rate*H + relapse_rate*H*R/N - death_rate_heroin*H\n",
    "        F_d_t = (prescription_addiction + illegal_addiction_rate*availability*(H+F)/N)*S*f_laced_rate + f_laced_rate*H + net_conversion*H*F/N - recovery_rate*F + relapse_rate*F*R/N - death_rate_fentanyl*F\n",
    "        R_d_t = recovery_rate*(H+F) - relapse_rate*R\n",
    "\n",
    "        return S_d_t, H_d_t, F_d_t, R_d_t\n",
    "    cases = odeint(opioids_model, (S, H, F, R) , t, args=(prescription_addiction,illegal_addiction_rate,f_laced_rate,recovery_rate,\n",
    "           relapse_rate,death_rate_heroin,death_rate_fentanyl, net_conversion,availability, death_rate_natural) )\n",
    "    return t,cases[:,3]\n",
    "    \n",
    "    "
   ]
  },
  {
   "cell_type": "code",
   "execution_count": 177,
   "id": "3faac340",
   "metadata": {},
   "outputs": [],
   "source": [
    "model = un.Model(run = sensitivity_analysis,labels=[\"Time\",\"R\"])"
   ]
  },
  {
   "cell_type": "code",
   "execution_count": 178,
   "id": "c18c8068",
   "metadata": {},
   "outputs": [],
   "source": [
    "parameters = un.Parameters(parameters)"
   ]
  },
  {
   "cell_type": "code",
   "execution_count": 179,
   "id": "08cd618e",
   "metadata": {},
   "outputs": [
    {
     "name": "stdout",
     "output_type": "stream",
     "text": [
      "On Windows machines everything in your script must be inside of an if __name__ == '__main__': block in order for multiprocess to work.\n"
     ]
    }
   ],
   "source": [
    "UQ_R=un.UncertaintyQuantification(model=model,parameters=parameters)"
   ]
  },
  {
   "cell_type": "code",
   "execution_count": 180,
   "id": "4bb762dc",
   "metadata": {},
   "outputs": [
    {
     "name": "stderr",
     "output_type": "stream",
     "text": [
      "chaospy.orth_ttr name is to be deprecated; Use chaospy.expansion.stieltjes instead\n",
      "Running model: 100%|█████████████████████████████████████████████████████████████████| 142/142 [00:05<00:00, 24.68it/s]\n",
      "Calculating PC for each feature: 100%|███████████████████████████████████████████████████| 1/1 [00:00<00:00, 10.33it/s]\n",
      "Calculating statistics from PCE: 100%|███████████████████████████████████████████████████| 1/1 [00:33<00:00, 33.70s/it]\n"
     ]
    },
    {
     "name": "stdout",
     "output_type": "stream",
     "text": [
      "Saving data as: data\\sensitivity_analysis.h5\n"
     ]
    }
   ],
   "source": [
    "data_R = UQ_R.quantify()"
   ]
  },
  {
   "cell_type": "code",
   "execution_count": 181,
   "id": "3a2c450c",
   "metadata": {},
   "outputs": [
    {
     "data": {
      "text/plain": [
       "'In summary, first‐order sensitivity indices as the main effect are used to measure the fractional contribution of\\na single parameter to the output variance. \\nSecond‐order sensitivity indices are used to measure the fractional contribution of parameter interactions \\nto the output variance.'"
      ]
     },
     "execution_count": 181,
     "metadata": {},
     "output_type": "execute_result"
    }
   ],
   "source": [
    "UQ_R.plot(folder='R')\n",
    "\"\"\"In summary, first‐order sensitivity indices as the main effect are used to measure the fractional contribution of\n",
    "a single parameter to the output variance. \n",
    "Second‐order sensitivity indices are used to measure the fractional contribution of parameter interactions \n",
    "to the output variance.\"\"\"\n",
    "\n",
    "#https://www.ncbi.nlm.nih.gov/pmc/articles/PMC5006244/#:~:text=In%20summary%2C%20first%E2%80%90order%20sensitivity,interactions%20to%20the%20output%20variance."
   ]
  },
  {
   "cell_type": "markdown",
   "id": "18e44404",
   "metadata": {},
   "source": [
    "UQ.plotting.sensitivity_1d(feature=\"sensitivity_analysis\")"
   ]
  },
  {
   "cell_type": "markdown",
   "id": "89a89e8a",
   "metadata": {},
   "source": [
    "UQ.plotting.average_sensitivity_all()"
   ]
  },
  {
   "cell_type": "markdown",
   "id": "769a6b8e",
   "metadata": {},
   "source": [
    "UQ.plotting.plot_all_sensitivities()"
   ]
  },
  {
   "cell_type": "markdown",
   "id": "643ae43c",
   "metadata": {},
   "source": [
    "UQ.plotting.plot_condensed()"
   ]
  },
  {
   "cell_type": "markdown",
   "id": "5f0a5abb",
   "metadata": {},
   "source": [
    "_________________________________________________________"
   ]
  },
  {
   "cell_type": "markdown",
   "id": "b0a2b6ba",
   "metadata": {},
   "source": [
    "___________________________________"
   ]
  },
  {
   "cell_type": "markdown",
   "id": "9f244aea",
   "metadata": {
    "id": "OQc-J0nNu6Xb"
   },
   "source": [
    "### Data split: pre-2012 and post-2012 for aggregated US data"
   ]
  },
  {
   "cell_type": "code",
   "execution_count": 34,
   "id": "ff7019cc",
   "metadata": {
    "executionInfo": {
     "elapsed": 292,
     "status": "ok",
     "timestamp": 1623164363070,
     "user": {
      "displayName": "Elio Gruttadauria",
      "photoUrl": "https://lh3.googleusercontent.com/a-/AOh14Ghd29dFmwRrOMapQt64cEJbRKsM7h1QtIfd0OLG5g=s64",
      "userId": "16216760321278748076"
     },
     "user_tz": -120
    },
    "id": "EHVmgWnJ4iZy"
   },
   "outputs": [],
   "source": [
    "split_year = 2010"
   ]
  },
  {
   "cell_type": "code",
   "execution_count": 35,
   "id": "cd8c3929",
   "metadata": {
    "executionInfo": {
     "elapsed": 2,
     "status": "ok",
     "timestamp": 1623164363420,
     "user": {
      "displayName": "Elio Gruttadauria",
      "photoUrl": "https://lh3.googleusercontent.com/a-/AOh14Ghd29dFmwRrOMapQt64cEJbRKsM7h1QtIfd0OLG5g=s64",
      "userId": "16216760321278748076"
     },
     "user_tz": -120
    },
    "id": "VOIKeXievFYN"
   },
   "outputs": [],
   "source": [
    "# Split dataset based on year\n",
    "\n",
    "pre_split_data = df_current_users[df_current_users.index < split_year]\n",
    "post_split_data = df_current_users[df_current_users.index >= split_year]"
   ]
  },
  {
   "cell_type": "markdown",
   "id": "71d32633",
   "metadata": {
    "id": "QF_3vKDI4txE"
   },
   "source": [
    "#### Post split data: exponential part"
   ]
  },
  {
   "cell_type": "code",
   "execution_count": 36,
   "id": "f32d2f3d",
   "metadata": {
    "executionInfo": {
     "elapsed": 460,
     "status": "ok",
     "timestamp": 1623164366362,
     "user": {
      "displayName": "Elio Gruttadauria",
      "photoUrl": "https://lh3.googleusercontent.com/a-/AOh14Ghd29dFmwRrOMapQt64cEJbRKsM7h1QtIfd0OLG5g=s64",
      "userId": "16216760321278748076"
     },
     "user_tz": -120
    },
    "id": "l7pddZgL42dP"
   },
   "outputs": [],
   "source": [
    "'''\n",
    "1. Create time and starting variables\n",
    "'''\n",
    "\n",
    "t_post, y0_post = compute_starting_variables(post_split_data)"
   ]
  },
  {
   "cell_type": "code",
   "execution_count": 37,
   "id": "f9d13862",
   "metadata": {
    "executionInfo": {
     "elapsed": 1,
     "status": "ok",
     "timestamp": 1623164366710,
     "user": {
      "displayName": "Elio Gruttadauria",
      "photoUrl": "https://lh3.googleusercontent.com/a-/AOh14Ghd29dFmwRrOMapQt64cEJbRKsM7h1QtIfd0OLG5g=s64",
      "userId": "16216760321278748076"
     },
     "user_tz": -120
    },
    "id": "DQbUrSZb5Dfa"
   },
   "outputs": [],
   "source": [
    "'''\n",
    "2. List of possibile values to try for the conversion rate.\n",
    "   Compute RSS for each value and pick the best one.\n",
    "'''\n",
    "\n",
    "net_conversion_values = list(np.arange(0, 20, 0.5))"
   ]
  },
  {
   "cell_type": "code",
   "execution_count": 38,
   "id": "80489a26",
   "metadata": {
    "executionInfo": {
     "elapsed": 309,
     "status": "ok",
     "timestamp": 1623164392650,
     "user": {
      "displayName": "Elio Gruttadauria",
      "photoUrl": "https://lh3.googleusercontent.com/a-/AOh14Ghd29dFmwRrOMapQt64cEJbRKsM7h1QtIfd0OLG5g=s64",
      "userId": "16216760321278748076"
     },
     "user_tz": -120
    },
    "id": "JOURxdhqCU92"
   },
   "outputs": [],
   "source": [
    "av = 80"
   ]
  },
  {
   "cell_type": "code",
   "execution_count": 39,
   "id": "ffdc7457",
   "metadata": {
    "colab": {
     "base_uri": "https://localhost:8080/"
    },
    "executionInfo": {
     "elapsed": 630,
     "status": "ok",
     "timestamp": 1623164394285,
     "user": {
      "displayName": "Elio Gruttadauria",
      "photoUrl": "https://lh3.googleusercontent.com/a-/AOh14Ghd29dFmwRrOMapQt64cEJbRKsM7h1QtIfd0OLG5g=s64",
      "userId": "16216760321278748076"
     },
     "user_tz": -120
    },
    "id": "Oxvl8BHW5HEF",
    "outputId": "3f955a20-ac39-4d2c-b177-34ab80573704"
   },
   "outputs": [
    {
     "name": "stdout",
     "output_type": "stream",
     "text": [
      "Fitting the model 40 times\n",
      "The best value to minimize heroin RSS is at index 14: 30445.328400524788\n",
      "The best value to minimize fentanyl RSS is at index 19: 15415.03044192144\n",
      "The best value to minimize both RSS (i.e. global solution) is at index 16: 59453.76964630792\n",
      "The best net conversion rate is 8.0\n"
     ]
    },
    {
     "name": "stderr",
     "output_type": "stream",
     "text": [
      "C:\\Users\\Sandro\\anaconda3.3\\lib\\site-packages\\scipy\\integrate\\odepack.py:247: ODEintWarning: Excess work done on this call (perhaps wrong Dfun type). Run with full_output = 1 to get quantitative information.\n",
      "  warnings.warn(warning_msg, ODEintWarning)\n"
     ]
    }
   ],
   "source": [
    "'''\n",
    "3. Run model and find best net conversion value\n",
    "'''\n",
    "\n",
    "best_net_conversion_post = model_tuning(post_split_data, y0_post, t_post, net_conversion_values, av)"
   ]
  },
  {
   "cell_type": "code",
   "execution_count": 40,
   "id": "954ca379",
   "metadata": {
    "colab": {
     "base_uri": "https://localhost:8080/",
     "height": 527
    },
    "executionInfo": {
     "elapsed": 648,
     "status": "ok",
     "timestamp": 1623164396658,
     "user": {
      "displayName": "Elio Gruttadauria",
      "photoUrl": "https://lh3.googleusercontent.com/a-/AOh14Ghd29dFmwRrOMapQt64cEJbRKsM7h1QtIfd0OLG5g=s64",
      "userId": "16216760321278748076"
     },
     "user_tz": -120
    },
    "id": "TmRL4_1o6faV",
    "outputId": "e82920c5-b4a5-4ac4-d35f-49b1e37d4289",
    "scrolled": true
   },
   "outputs": [
    {
     "data": {
      "image/png": "[encoded data removed]",
      "text/plain": [
       "<Figure size 432x288 with 1 Axes>"
      ]
     },
     "metadata": {
      "needs_background": "light"
     },
     "output_type": "display_data"
    },
    {
     "data": {
      "image/png": "[encoded data removed]",
      "text/plain": [
       "<Figure size 432x288 with 1 Axes>"
      ]
     },
     "metadata": {
      "needs_background": "light"
     },
     "output_type": "display_data"
    }
   ],
   "source": [
    "'''\n",
    "4. Compute the best model using the best net conversion value.\n",
    "   Plot the simulated values and the real values.\n",
    "'''\n",
    "\n",
    "best_model(best_net_conversion, post_split_data, y0_post, t_post, av)"
   ]
  },
  {
   "cell_type": "markdown",
   "id": "3763b7d1",
   "metadata": {
    "id": "rR-9wruyIdPD"
   },
   "source": [
    "#### Pre split data: flat part"
   ]
  },
  {
   "cell_type": "code",
   "execution_count": 41,
   "id": "5d1305ca",
   "metadata": {
    "executionInfo": {
     "elapsed": 249,
     "status": "ok",
     "timestamp": 1623164409977,
     "user": {
      "displayName": "Elio Gruttadauria",
      "photoUrl": "https://lh3.googleusercontent.com/a-/AOh14Ghd29dFmwRrOMapQt64cEJbRKsM7h1QtIfd0OLG5g=s64",
      "userId": "16216760321278748076"
     },
     "user_tz": -120
    },
    "id": "qK4zIIr6vFlh"
   },
   "outputs": [],
   "source": [
    "'''\n",
    "1. Create time and starting variables\n",
    "'''\n",
    "\n",
    "t_pre, y0_pre = compute_starting_variables(pre_split_data)"
   ]
  },
  {
   "cell_type": "code",
   "execution_count": 42,
   "id": "d565eb98",
   "metadata": {
    "executionInfo": {
     "elapsed": 360,
     "status": "ok",
     "timestamp": 1623164422515,
     "user": {
      "displayName": "Elio Gruttadauria",
      "photoUrl": "https://lh3.googleusercontent.com/a-/AOh14Ghd29dFmwRrOMapQt64cEJbRKsM7h1QtIfd0OLG5g=s64",
      "userId": "16216760321278748076"
     },
     "user_tz": -120
    },
    "id": "mv1ixH0oIogq"
   },
   "outputs": [],
   "source": [
    "'''\n",
    "2. List of possibile values to try for the conversion rate.\n",
    "   Compute RSS for each value and pick the best one.\n",
    "'''\n",
    "\n",
    "net_conversion_values = list(np.arange(0, 20, 0.5))"
   ]
  },
  {
   "cell_type": "code",
   "execution_count": 43,
   "id": "f2286de7",
   "metadata": {
    "executionInfo": {
     "elapsed": 221,
     "status": "ok",
     "timestamp": 1623164513620,
     "user": {
      "displayName": "Elio Gruttadauria",
      "photoUrl": "https://lh3.googleusercontent.com/a-/AOh14Ghd29dFmwRrOMapQt64cEJbRKsM7h1QtIfd0OLG5g=s64",
      "userId": "16216760321278748076"
     },
     "user_tz": -120
    },
    "id": "yQ5U7pJeIol3"
   },
   "outputs": [],
   "source": [
    "av = 1"
   ]
  },
  {
   "cell_type": "code",
   "execution_count": 44,
   "id": "1fe248ee",
   "metadata": {
    "colab": {
     "base_uri": "https://localhost:8080/"
    },
    "executionInfo": {
     "elapsed": 213,
     "status": "ok",
     "timestamp": 1623164515887,
     "user": {
      "displayName": "Elio Gruttadauria",
      "photoUrl": "https://lh3.googleusercontent.com/a-/AOh14Ghd29dFmwRrOMapQt64cEJbRKsM7h1QtIfd0OLG5g=s64",
      "userId": "16216760321278748076"
     },
     "user_tz": -120
    },
    "id": "sXj4ehxYIoqr",
    "outputId": "71129516-cb1d-4e9f-83d3-797582d34a56"
   },
   "outputs": [
    {
     "name": "stdout",
     "output_type": "stream",
     "text": [
      "Fitting the model 40 times\n",
      "The best value to minimize heroin RSS is at index 4: 1537.6248809255253\n",
      "The best value to minimize fentanyl RSS is at index 28: 56.84312724031002\n",
      "The best value to minimize both RSS (i.e. global solution) is at index 16: 1993.658363119085\n",
      "The best net conversion rate is 8.0\n"
     ]
    }
   ],
   "source": [
    "'''\n",
    "3. Run model and find best net conversion value\n",
    "'''\n",
    "\n",
    "best_net_conversion_pre = model_tuning(pre_split_data, y0_pre, t_pre, net_conversion_values, av)"
   ]
  },
  {
   "cell_type": "code",
   "execution_count": 45,
   "id": "2aeae3ed",
   "metadata": {
    "colab": {
     "base_uri": "https://localhost:8080/",
     "height": 527
    },
    "executionInfo": {
     "elapsed": 829,
     "status": "ok",
     "timestamp": 1623164518787,
     "user": {
      "displayName": "Elio Gruttadauria",
      "photoUrl": "https://lh3.googleusercontent.com/a-/AOh14Ghd29dFmwRrOMapQt64cEJbRKsM7h1QtIfd0OLG5g=s64",
      "userId": "16216760321278748076"
     },
     "user_tz": -120
    },
    "id": "eJlxPDm6JEGH",
    "outputId": "1dba3f57-f7b4-48c1-e49b-63f47f3aa3b2"
   },
   "outputs": [
    {
     "data": {
      "image/png": "[encoded data removed]",
      "text/plain": [
       "<Figure size 432x288 with 1 Axes>"
      ]
     },
     "metadata": {
      "needs_background": "light"
     },
     "output_type": "display_data"
    },
    {
     "data": {
      "image/png": "[encoded data removed]",
      "text/plain": [
       "<Figure size 432x288 with 1 Axes>"
      ]
     },
     "metadata": {
      "needs_background": "light"
     },
     "output_type": "display_data"
    }
   ],
   "source": [
    "'''\n",
    "4. Compute the best model using the best net conversion value.\n",
    "   Plot the simulated values and the real values.\n",
    "'''\n",
    "\n",
    "best_model(best_net_conversion, pre_split_data, y0_pre, t_pre, av)"
   ]
  },
  {
   "cell_type": "code",
   "execution_count": 46,
   "id": "643d5c6e",
   "metadata": {},
   "outputs": [
    {
     "data": {
      "text/plain": [
       "1"
      ]
     },
     "execution_count": 46,
     "metadata": {},
     "output_type": "execute_result"
    }
   ],
   "source": [
    "y0_pre\n",
    "best_net_conversion\n",
    "av"
   ]
  },
  {
   "cell_type": "code",
   "execution_count": null,
   "id": "03eb3139",
   "metadata": {},
   "outputs": [],
   "source": []
  },
  {
   "cell_type": "markdown",
   "id": "5f3470bc",
   "metadata": {},
   "source": [
    "____________________________________________"
   ]
  },
  {
   "cell_type": "markdown",
   "id": "5eced3b3",
   "metadata": {},
   "source": [
    "# California"
   ]
  },
  {
   "cell_type": "code",
   "execution_count": 258,
   "id": "8d937af3",
   "metadata": {},
   "outputs": [],
   "source": [
    "death_legal = pd.read_csv(\"CA_Death_Prescription Opioid-Related Overdose_TimeTrend_2021-05-26.csv\", skiprows=[0, 1])[:58]"
   ]
  },
  {
   "cell_type": "code",
   "execution_count": 259,
   "id": "8f5e8ebb",
   "metadata": {
    "colab": {
     "base_uri": "https://localhost:8080/",
     "height": 204
    },
    "executionInfo": {
     "elapsed": 9,
     "status": "ok",
     "timestamp": 1622119593205,
     "user": {
      "displayName": "Elio Gruttadauria",
      "photoUrl": "https://lh3.googleusercontent.com/a-/AOh14Ghd29dFmwRrOMapQt64cEJbRKsM7h1QtIfd0OLG5g=s64",
      "userId": "16216760321278748076"
     },
     "user_tz": -120
    },
    "id": "xBTTZAm-0L0A",
    "outputId": "117ff383-ef9e-40e9-c19a-77f35175dc77"
   },
   "outputs": [
    {
     "data": {
      "text/html": [
       "<div>\n",
       "<style scoped>\n",
       "    .dataframe tbody tr th:only-of-type {\n",
       "        vertical-align: middle;\n",
       "    }\n",
       "\n",
       "    .dataframe tbody tr th {\n",
       "        vertical-align: top;\n",
       "    }\n",
       "\n",
       "    .dataframe thead th {\n",
       "        text-align: right;\n",
       "    }\n",
       "</style>\n",
       "<table border=\"1\" class=\"dataframe\">\n",
       "  <thead>\n",
       "    <tr style=\"text-align: right;\">\n",
       "      <th></th>\n",
       "      <th>Quarter</th>\n",
       "      <th>Annualized Quarterly Rate</th>\n",
       "      <th>Lower 95% CL</th>\n",
       "      <th>Upper 95% CL</th>\n",
       "      <th>Quarterly Count</th>\n",
       "      <th>12-Month Moving Avg.</th>\n",
       "      <th>Lower 95% CL.1</th>\n",
       "      <th>Upper 95% CL.1</th>\n",
       "      <th>12-Month Count</th>\n",
       "    </tr>\n",
       "  </thead>\n",
       "  <tbody>\n",
       "    <tr>\n",
       "      <th>0</th>\n",
       "      <td>2006 Q1</td>\n",
       "      <td>2.85</td>\n",
       "      <td>2.68</td>\n",
       "      <td>3.03</td>\n",
       "      <td>261.0</td>\n",
       "      <td>0.00</td>\n",
       "      <td>0.00</td>\n",
       "      <td>0.00</td>\n",
       "      <td>0.0</td>\n",
       "    </tr>\n",
       "    <tr>\n",
       "      <th>1</th>\n",
       "      <td>2006 Q2</td>\n",
       "      <td>3.00</td>\n",
       "      <td>2.83</td>\n",
       "      <td>3.18</td>\n",
       "      <td>277.0</td>\n",
       "      <td>0.00</td>\n",
       "      <td>0.00</td>\n",
       "      <td>0.00</td>\n",
       "      <td>0.0</td>\n",
       "    </tr>\n",
       "    <tr>\n",
       "      <th>2</th>\n",
       "      <td>2006 Q3</td>\n",
       "      <td>2.99</td>\n",
       "      <td>2.82</td>\n",
       "      <td>3.18</td>\n",
       "      <td>275.0</td>\n",
       "      <td>0.00</td>\n",
       "      <td>0.00</td>\n",
       "      <td>0.00</td>\n",
       "      <td>0.0</td>\n",
       "    </tr>\n",
       "    <tr>\n",
       "      <th>3</th>\n",
       "      <td>2006 Q4</td>\n",
       "      <td>3.32</td>\n",
       "      <td>3.14</td>\n",
       "      <td>3.51</td>\n",
       "      <td>303.0</td>\n",
       "      <td>3.04</td>\n",
       "      <td>2.87</td>\n",
       "      <td>3.22</td>\n",
       "      <td>1116.0</td>\n",
       "    </tr>\n",
       "    <tr>\n",
       "      <th>4</th>\n",
       "      <td>2007 Q1</td>\n",
       "      <td>3.57</td>\n",
       "      <td>3.38</td>\n",
       "      <td>3.78</td>\n",
       "      <td>329.0</td>\n",
       "      <td>3.22</td>\n",
       "      <td>3.04</td>\n",
       "      <td>3.41</td>\n",
       "      <td>1184.0</td>\n",
       "    </tr>\n",
       "  </tbody>\n",
       "</table>\n",
       "</div>"
      ],
      "text/plain": [
       "   Quarter  Annualized Quarterly Rate  Lower 95% CL  Upper 95% CL  \\\n",
       "0  2006 Q1                       2.85          2.68          3.03   \n",
       "1  2006 Q2                       3.00          2.83          3.18   \n",
       "2  2006 Q3                       2.99          2.82          3.18   \n",
       "3  2006 Q4                       3.32          3.14          3.51   \n",
       "4  2007 Q1                       3.57          3.38          3.78   \n",
       "\n",
       "   Quarterly Count  12-Month Moving Avg.  Lower 95% CL.1  Upper 95% CL.1  \\\n",
       "0            261.0                  0.00            0.00            0.00   \n",
       "1            277.0                  0.00            0.00            0.00   \n",
       "2            275.0                  0.00            0.00            0.00   \n",
       "3            303.0                  3.04            2.87            3.22   \n",
       "4            329.0                  3.22            3.04            3.41   \n",
       "\n",
       "   12-Month Count  \n",
       "0             0.0  \n",
       "1             0.0  \n",
       "2             0.0  \n",
       "3          1116.0  \n",
       "4          1184.0  "
      ]
     },
     "execution_count": 259,
     "metadata": {},
     "output_type": "execute_result"
    }
   ],
   "source": [
    "death_legal.head()"
   ]
  },
  {
   "cell_type": "code",
   "execution_count": 260,
   "id": "5c61f88c",
   "metadata": {},
   "outputs": [],
   "source": [
    "death_heroin = pd.read_csv(\"CA_Death_Heroin-Related Overdose_TimeTrend_2021-05-26.csv\", skiprows=[0, 1])[:58]"
   ]
  },
  {
   "cell_type": "code",
   "execution_count": 261,
   "id": "f564094f",
   "metadata": {
    "colab": {
     "base_uri": "https://localhost:8080/",
     "height": 204
    },
    "executionInfo": {
     "elapsed": 6,
     "status": "ok",
     "timestamp": 1622119607523,
     "user": {
      "displayName": "Elio Gruttadauria",
      "photoUrl": "https://lh3.googleusercontent.com/a-/AOh14Ghd29dFmwRrOMapQt64cEJbRKsM7h1QtIfd0OLG5g=s64",
      "userId": "16216760321278748076"
     },
     "user_tz": -120
    },
    "id": "ZevPykEq0L0B",
    "outputId": "9be81bc1-7e80-41f0-b17e-c5371a2cadb0"
   },
   "outputs": [
    {
     "data": {
      "text/html": [
       "<div>\n",
       "<style scoped>\n",
       "    .dataframe tbody tr th:only-of-type {\n",
       "        vertical-align: middle;\n",
       "    }\n",
       "\n",
       "    .dataframe tbody tr th {\n",
       "        vertical-align: top;\n",
       "    }\n",
       "\n",
       "    .dataframe thead th {\n",
       "        text-align: right;\n",
       "    }\n",
       "</style>\n",
       "<table border=\"1\" class=\"dataframe\">\n",
       "  <thead>\n",
       "    <tr style=\"text-align: right;\">\n",
       "      <th></th>\n",
       "      <th>Quarter</th>\n",
       "      <th>Annualized Quarterly Rate</th>\n",
       "      <th>Lower 95% CL</th>\n",
       "      <th>Upper 95% CL</th>\n",
       "      <th>Quarterly Count</th>\n",
       "      <th>12-Month Moving Avg.</th>\n",
       "      <th>Lower 95% CL.1</th>\n",
       "      <th>Upper 95% CL.1</th>\n",
       "      <th>12-Month Count</th>\n",
       "    </tr>\n",
       "  </thead>\n",
       "  <tbody>\n",
       "    <tr>\n",
       "      <th>0</th>\n",
       "      <td>2006 Q1</td>\n",
       "      <td>0.71</td>\n",
       "      <td>0.62</td>\n",
       "      <td>0.80</td>\n",
       "      <td>64.0</td>\n",
       "      <td>0.00</td>\n",
       "      <td>0.00</td>\n",
       "      <td>0.00</td>\n",
       "      <td>0.0</td>\n",
       "    </tr>\n",
       "    <tr>\n",
       "      <th>1</th>\n",
       "      <td>2006 Q2</td>\n",
       "      <td>0.85</td>\n",
       "      <td>0.76</td>\n",
       "      <td>0.95</td>\n",
       "      <td>77.0</td>\n",
       "      <td>0.00</td>\n",
       "      <td>0.00</td>\n",
       "      <td>0.00</td>\n",
       "      <td>0.0</td>\n",
       "    </tr>\n",
       "    <tr>\n",
       "      <th>2</th>\n",
       "      <td>2006 Q3</td>\n",
       "      <td>0.70</td>\n",
       "      <td>0.61</td>\n",
       "      <td>0.79</td>\n",
       "      <td>64.0</td>\n",
       "      <td>0.00</td>\n",
       "      <td>0.00</td>\n",
       "      <td>0.00</td>\n",
       "      <td>0.0</td>\n",
       "    </tr>\n",
       "    <tr>\n",
       "      <th>3</th>\n",
       "      <td>2006 Q4</td>\n",
       "      <td>0.69</td>\n",
       "      <td>0.61</td>\n",
       "      <td>0.78</td>\n",
       "      <td>63.0</td>\n",
       "      <td>0.74</td>\n",
       "      <td>0.65</td>\n",
       "      <td>0.83</td>\n",
       "      <td>268.0</td>\n",
       "    </tr>\n",
       "    <tr>\n",
       "      <th>4</th>\n",
       "      <td>2007 Q1</td>\n",
       "      <td>0.69</td>\n",
       "      <td>0.61</td>\n",
       "      <td>0.78</td>\n",
       "      <td>64.0</td>\n",
       "      <td>0.73</td>\n",
       "      <td>0.65</td>\n",
       "      <td>0.82</td>\n",
       "      <td>268.0</td>\n",
       "    </tr>\n",
       "  </tbody>\n",
       "</table>\n",
       "</div>"
      ],
      "text/plain": [
       "   Quarter  Annualized Quarterly Rate  Lower 95% CL  Upper 95% CL  \\\n",
       "0  2006 Q1                       0.71          0.62          0.80   \n",
       "1  2006 Q2                       0.85          0.76          0.95   \n",
       "2  2006 Q3                       0.70          0.61          0.79   \n",
       "3  2006 Q4                       0.69          0.61          0.78   \n",
       "4  2007 Q1                       0.69          0.61          0.78   \n",
       "\n",
       "   Quarterly Count  12-Month Moving Avg.  Lower 95% CL.1  Upper 95% CL.1  \\\n",
       "0             64.0                  0.00            0.00            0.00   \n",
       "1             77.0                  0.00            0.00            0.00   \n",
       "2             64.0                  0.00            0.00            0.00   \n",
       "3             63.0                  0.74            0.65            0.83   \n",
       "4             64.0                  0.73            0.65            0.82   \n",
       "\n",
       "   12-Month Count  \n",
       "0             0.0  \n",
       "1             0.0  \n",
       "2             0.0  \n",
       "3           268.0  \n",
       "4           268.0  "
      ]
     },
     "execution_count": 261,
     "metadata": {},
     "output_type": "execute_result"
    }
   ],
   "source": [
    "death_heroin.head()"
   ]
  },
  {
   "cell_type": "code",
   "execution_count": 262,
   "id": "563ca5f4",
   "metadata": {},
   "outputs": [],
   "source": [
    "death_fentanyl = pd.read_csv(\"CA_Death_Fentanyl-Related Overdose _TimeTrend_2021-05-26.csv\",skiprows=[0, 1])[:58]"
   ]
  },
  {
   "cell_type": "code",
   "execution_count": 263,
   "id": "86149d4c",
   "metadata": {
    "colab": {
     "base_uri": "https://localhost:8080/",
     "height": 204
    },
    "executionInfo": {
     "elapsed": 6,
     "status": "ok",
     "timestamp": 1622119616400,
     "user": {
      "displayName": "Elio Gruttadauria",
      "photoUrl": "https://lh3.googleusercontent.com/a-/AOh14Ghd29dFmwRrOMapQt64cEJbRKsM7h1QtIfd0OLG5g=s64",
      "userId": "16216760321278748076"
     },
     "user_tz": -120
    },
    "id": "tluj2RHJ0L0C",
    "outputId": "4bc09dd6-126c-4fa2-fbd6-9c0249caa3f6"
   },
   "outputs": [
    {
     "data": {
      "text/html": [
       "<div>\n",
       "<style scoped>\n",
       "    .dataframe tbody tr th:only-of-type {\n",
       "        vertical-align: middle;\n",
       "    }\n",
       "\n",
       "    .dataframe tbody tr th {\n",
       "        vertical-align: top;\n",
       "    }\n",
       "\n",
       "    .dataframe thead th {\n",
       "        text-align: right;\n",
       "    }\n",
       "</style>\n",
       "<table border=\"1\" class=\"dataframe\">\n",
       "  <thead>\n",
       "    <tr style=\"text-align: right;\">\n",
       "      <th></th>\n",
       "      <th>Quarter</th>\n",
       "      <th>Annualized Quarterly Rate</th>\n",
       "      <th>Lower 95% CL</th>\n",
       "      <th>Upper 95% CL</th>\n",
       "      <th>Quarterly Count</th>\n",
       "      <th>12-Month Moving Avg.</th>\n",
       "      <th>Lower 95% CL.1</th>\n",
       "      <th>Upper 95% CL.1</th>\n",
       "      <th>12-Month Count</th>\n",
       "    </tr>\n",
       "  </thead>\n",
       "  <tbody>\n",
       "    <tr>\n",
       "      <th>0</th>\n",
       "      <td>2006 Q1</td>\n",
       "      <td>0.0</td>\n",
       "      <td>0.0</td>\n",
       "      <td>0.0</td>\n",
       "      <td>0.0</td>\n",
       "      <td>0.0</td>\n",
       "      <td>0.0</td>\n",
       "      <td>0.0</td>\n",
       "      <td>0.0</td>\n",
       "    </tr>\n",
       "    <tr>\n",
       "      <th>1</th>\n",
       "      <td>2006 Q2</td>\n",
       "      <td>0.0</td>\n",
       "      <td>0.0</td>\n",
       "      <td>0.0</td>\n",
       "      <td>0.0</td>\n",
       "      <td>0.0</td>\n",
       "      <td>0.0</td>\n",
       "      <td>0.0</td>\n",
       "      <td>0.0</td>\n",
       "    </tr>\n",
       "    <tr>\n",
       "      <th>2</th>\n",
       "      <td>2006 Q3</td>\n",
       "      <td>0.0</td>\n",
       "      <td>0.0</td>\n",
       "      <td>0.0</td>\n",
       "      <td>0.0</td>\n",
       "      <td>0.0</td>\n",
       "      <td>0.0</td>\n",
       "      <td>0.0</td>\n",
       "      <td>0.0</td>\n",
       "    </tr>\n",
       "    <tr>\n",
       "      <th>3</th>\n",
       "      <td>2006 Q4</td>\n",
       "      <td>0.0</td>\n",
       "      <td>0.0</td>\n",
       "      <td>0.0</td>\n",
       "      <td>0.0</td>\n",
       "      <td>0.0</td>\n",
       "      <td>0.0</td>\n",
       "      <td>0.0</td>\n",
       "      <td>0.0</td>\n",
       "    </tr>\n",
       "    <tr>\n",
       "      <th>4</th>\n",
       "      <td>2007 Q1</td>\n",
       "      <td>0.0</td>\n",
       "      <td>0.0</td>\n",
       "      <td>0.0</td>\n",
       "      <td>0.0</td>\n",
       "      <td>0.0</td>\n",
       "      <td>0.0</td>\n",
       "      <td>0.0</td>\n",
       "      <td>0.0</td>\n",
       "    </tr>\n",
       "  </tbody>\n",
       "</table>\n",
       "</div>"
      ],
      "text/plain": [
       "   Quarter  Annualized Quarterly Rate  Lower 95% CL  Upper 95% CL  \\\n",
       "0  2006 Q1                        0.0           0.0           0.0   \n",
       "1  2006 Q2                        0.0           0.0           0.0   \n",
       "2  2006 Q3                        0.0           0.0           0.0   \n",
       "3  2006 Q4                        0.0           0.0           0.0   \n",
       "4  2007 Q1                        0.0           0.0           0.0   \n",
       "\n",
       "   Quarterly Count  12-Month Moving Avg.  Lower 95% CL.1  Upper 95% CL.1  \\\n",
       "0              0.0                   0.0             0.0             0.0   \n",
       "1              0.0                   0.0             0.0             0.0   \n",
       "2              0.0                   0.0             0.0             0.0   \n",
       "3              0.0                   0.0             0.0             0.0   \n",
       "4              0.0                   0.0             0.0             0.0   \n",
       "\n",
       "   12-Month Count  \n",
       "0             0.0  \n",
       "1             0.0  \n",
       "2             0.0  \n",
       "3             0.0  \n",
       "4             0.0  "
      ]
     },
     "execution_count": 263,
     "metadata": {},
     "output_type": "execute_result"
    }
   ],
   "source": [
    "death_fentanyl.head()"
   ]
  },
  {
   "cell_type": "code",
   "execution_count": 264,
   "id": "c69168e7",
   "metadata": {
    "colab": {
     "base_uri": "https://localhost:8080/",
     "height": 309
    },
    "executionInfo": {
     "elapsed": 311,
     "status": "ok",
     "timestamp": 1622120998751,
     "user": {
      "displayName": "Elio Gruttadauria",
      "photoUrl": "https://lh3.googleusercontent.com/a-/AOh14Ghd29dFmwRrOMapQt64cEJbRKsM7h1QtIfd0OLG5g=s64",
      "userId": "16216760321278748076"
     },
     "user_tz": -120
    },
    "id": "3c2Hyg9f0L0C",
    "outputId": "9c5a0c26-7504-4ace-c040-a3ae2a5fc630"
   },
   "outputs": [
    {
     "data": {
      "image/png": "[encoded data removed]",
      "text/plain": [
       "<Figure size 640x480 with 1 Axes>"
      ]
     },
     "metadata": {},
     "output_type": "display_data"
    }
   ],
   "source": [
    "plt.plot(death_legal['Quarter'], death_legal['Annualized Quarterly Rate'], color='blue')\n",
    "plt.plot(death_heroin['Quarter'], death_heroin['Annualized Quarterly Rate'], color='red')\n",
    "plt.plot(death_fentanyl['Quarter'], death_fentanyl['Annualized Quarterly Rate'], color='green')\n",
    "\n",
    "plt.title('Annualized Quarterly Rate')\n",
    "plt.xticks(death_fentanyl['Quarter'][::4], rotation=45)\n",
    "plt.show()"
   ]
  },
  {
   "cell_type": "code",
   "execution_count": 265,
   "id": "4a1c1222",
   "metadata": {
    "colab": {
     "base_uri": "https://localhost:8080/",
     "height": 309
    },
    "executionInfo": {
     "elapsed": 309,
     "status": "ok",
     "timestamp": 1622121001823,
     "user": {
      "displayName": "Elio Gruttadauria",
      "photoUrl": "https://lh3.googleusercontent.com/a-/AOh14Ghd29dFmwRrOMapQt64cEJbRKsM7h1QtIfd0OLG5g=s64",
      "userId": "16216760321278748076"
     },
     "user_tz": -120
    },
    "id": "W5bnFd3-0L0C",
    "outputId": "d149e1db-42b0-4184-fc84-56bf9cbe898d"
   },
   "outputs": [
    {
     "data": {
      "image/png": "[encoded data removed]",
      "text/plain": [
       "<Figure size 640x480 with 1 Axes>"
      ]
     },
     "metadata": {},
     "output_type": "display_data"
    }
   ],
   "source": [
    "plt.plot(death_legal['Quarter'], death_legal['Quarterly Count'], color='blue')\n",
    "plt.plot(death_heroin['Quarter'], death_heroin['Quarterly Count'], color='red')\n",
    "plt.plot(death_fentanyl['Quarter'], death_fentanyl['Quarterly Count'], color='green')\n",
    "\n",
    "plt.title('Quarterly Count')\n",
    "plt.xticks(death_fentanyl['Quarter'][::4], rotation=45)\n",
    "plt.show()"
   ]
  },
  {
   "cell_type": "code",
   "execution_count": 266,
   "id": "7b4be6e6",
   "metadata": {
    "executionInfo": {
     "elapsed": 932,
     "status": "ok",
     "timestamp": 1622121006738,
     "user": {
      "displayName": "Elio Gruttadauria",
      "photoUrl": "https://lh3.googleusercontent.com/a-/AOh14Ghd29dFmwRrOMapQt64cEJbRKsM7h1QtIfd0OLG5g=s64",
      "userId": "16216760321278748076"
     },
     "user_tz": -120
    },
    "id": "gilQLsxt0L0D"
   },
   "outputs": [],
   "source": [
    "death_legal.set_index('Quarter', inplace=True)\n",
    "death_heroin.set_index('Quarter', inplace=True)\n",
    "death_fentanyl.set_index('Quarter', inplace=True)"
   ]
  },
  {
   "cell_type": "code",
   "execution_count": 267,
   "id": "3d546d0f",
   "metadata": {
    "colab": {
     "base_uri": "https://localhost:8080/",
     "height": 235
    },
    "executionInfo": {
     "elapsed": 5,
     "status": "ok",
     "timestamp": 1622121008580,
     "user": {
      "displayName": "Elio Gruttadauria",
      "photoUrl": "https://lh3.googleusercontent.com/a-/AOh14Ghd29dFmwRrOMapQt64cEJbRKsM7h1QtIfd0OLG5g=s64",
      "userId": "16216760321278748076"
     },
     "user_tz": -120
    },
    "id": "GzSeDNRp0L0D",
    "outputId": "0dba6bfe-62ed-440b-dc36-336dff088e31"
   },
   "outputs": [
    {
     "data": {
      "text/html": [
       "<div>\n",
       "<style scoped>\n",
       "    .dataframe tbody tr th:only-of-type {\n",
       "        vertical-align: middle;\n",
       "    }\n",
       "\n",
       "    .dataframe tbody tr th {\n",
       "        vertical-align: top;\n",
       "    }\n",
       "\n",
       "    .dataframe thead th {\n",
       "        text-align: right;\n",
       "    }\n",
       "</style>\n",
       "<table border=\"1\" class=\"dataframe\">\n",
       "  <thead>\n",
       "    <tr style=\"text-align: right;\">\n",
       "      <th></th>\n",
       "      <th>prescription_opioids</th>\n",
       "      <th>heroin</th>\n",
       "      <th>fentanyl</th>\n",
       "    </tr>\n",
       "    <tr>\n",
       "      <th>Quarter</th>\n",
       "      <th></th>\n",
       "      <th></th>\n",
       "      <th></th>\n",
       "    </tr>\n",
       "  </thead>\n",
       "  <tbody>\n",
       "    <tr>\n",
       "      <th>2006 Q1</th>\n",
       "      <td>2.85</td>\n",
       "      <td>0.71</td>\n",
       "      <td>0.0</td>\n",
       "    </tr>\n",
       "    <tr>\n",
       "      <th>2006 Q2</th>\n",
       "      <td>3.00</td>\n",
       "      <td>0.85</td>\n",
       "      <td>0.0</td>\n",
       "    </tr>\n",
       "    <tr>\n",
       "      <th>2006 Q3</th>\n",
       "      <td>2.99</td>\n",
       "      <td>0.70</td>\n",
       "      <td>0.0</td>\n",
       "    </tr>\n",
       "    <tr>\n",
       "      <th>2006 Q4</th>\n",
       "      <td>3.32</td>\n",
       "      <td>0.69</td>\n",
       "      <td>0.0</td>\n",
       "    </tr>\n",
       "    <tr>\n",
       "      <th>2007 Q1</th>\n",
       "      <td>3.57</td>\n",
       "      <td>0.69</td>\n",
       "      <td>0.0</td>\n",
       "    </tr>\n",
       "  </tbody>\n",
       "</table>\n",
       "</div>"
      ],
      "text/plain": [
       "         prescription_opioids  heroin  fentanyl\n",
       "Quarter                                        \n",
       "2006 Q1                  2.85    0.71       0.0\n",
       "2006 Q2                  3.00    0.85       0.0\n",
       "2006 Q3                  2.99    0.70       0.0\n",
       "2006 Q4                  3.32    0.69       0.0\n",
       "2007 Q1                  3.57    0.69       0.0"
      ]
     },
     "execution_count": 267,
     "metadata": {},
     "output_type": "execute_result"
    }
   ],
   "source": [
    "col = 'Annualized Quarterly Rate'\n",
    "\n",
    "deaths_california = death_legal[[col]].merge(death_heroin[[col]], left_index=True, right_index=True).merge(death_fentanyl[[col]], left_index=True, right_index=True)\n",
    "deaths_california.columns = ['prescription_opioids', 'heroin', 'fentanyl']\n",
    "deaths_california.head()"
   ]
  },
  {
   "cell_type": "code",
   "execution_count": 268,
   "id": "9a8718b6",
   "metadata": {
    "executionInfo": {
     "elapsed": 306,
     "status": "ok",
     "timestamp": 1622121076162,
     "user": {
      "displayName": "Elio Gruttadauria",
      "photoUrl": "https://lh3.googleusercontent.com/a-/AOh14Ghd29dFmwRrOMapQt64cEJbRKsM7h1QtIfd0OLG5g=s64",
      "userId": "16216760321278748076"
     },
     "user_tz": -120
    },
    "id": "vzgKgu7D8TA5"
   },
   "outputs": [],
   "source": [
    "# Compute number of users from deaths and death rate\n",
    "\n",
    "current_users_california = deaths_california.copy()\n",
    "\n",
    "current_users_california['prescription_opioids'] = current_users_california['prescription_opioids'].apply(lambda x: inverse_death_rate(x, death_rate_prescription_opioids))\n",
    "current_users_california['heroin'] = current_users_california['heroin'].apply(lambda x: inverse_death_rate(x, death_rate_heroin))\n",
    "current_users_california['fentanyl'] = current_users_california['fentanyl'].apply(lambda x: inverse_death_rate(x, death_rate_fentanyl))"
   ]
  },
  {
   "cell_type": "code",
   "execution_count": 269,
   "id": "31930ca5",
   "metadata": {
    "colab": {
     "base_uri": "https://localhost:8080/",
     "height": 235
    },
    "executionInfo": {
     "elapsed": 8,
     "status": "ok",
     "timestamp": 1622121084675,
     "user": {
      "displayName": "Elio Gruttadauria",
      "photoUrl": "https://lh3.googleusercontent.com/a-/AOh14Ghd29dFmwRrOMapQt64cEJbRKsM7h1QtIfd0OLG5g=s64",
      "userId": "16216760321278748076"
     },
     "user_tz": -120
    },
    "id": "GFrJHfbg8fN8",
    "outputId": "0b834d0a-91d0-42fb-b06b-3c19c73cf86c"
   },
   "outputs": [
    {
     "data": {
      "text/html": [
       "<div>\n",
       "<style scoped>\n",
       "    .dataframe tbody tr th:only-of-type {\n",
       "        vertical-align: middle;\n",
       "    }\n",
       "\n",
       "    .dataframe tbody tr th {\n",
       "        vertical-align: top;\n",
       "    }\n",
       "\n",
       "    .dataframe thead th {\n",
       "        text-align: right;\n",
       "    }\n",
       "</style>\n",
       "<table border=\"1\" class=\"dataframe\">\n",
       "  <thead>\n",
       "    <tr style=\"text-align: right;\">\n",
       "      <th></th>\n",
       "      <th>heroin</th>\n",
       "      <th>fentanyl</th>\n",
       "    </tr>\n",
       "    <tr>\n",
       "      <th>Quarter</th>\n",
       "      <th></th>\n",
       "      <th></th>\n",
       "    </tr>\n",
       "  </thead>\n",
       "  <tbody>\n",
       "    <tr>\n",
       "      <th>2006 Q1</th>\n",
       "      <td>47.333333</td>\n",
       "      <td>0.0</td>\n",
       "    </tr>\n",
       "    <tr>\n",
       "      <th>2006 Q2</th>\n",
       "      <td>56.666667</td>\n",
       "      <td>0.0</td>\n",
       "    </tr>\n",
       "    <tr>\n",
       "      <th>2006 Q3</th>\n",
       "      <td>46.666667</td>\n",
       "      <td>0.0</td>\n",
       "    </tr>\n",
       "    <tr>\n",
       "      <th>2006 Q4</th>\n",
       "      <td>46.000000</td>\n",
       "      <td>0.0</td>\n",
       "    </tr>\n",
       "    <tr>\n",
       "      <th>2007 Q1</th>\n",
       "      <td>46.000000</td>\n",
       "      <td>0.0</td>\n",
       "    </tr>\n",
       "  </tbody>\n",
       "</table>\n",
       "</div>"
      ],
      "text/plain": [
       "            heroin  fentanyl\n",
       "Quarter                     \n",
       "2006 Q1  47.333333       0.0\n",
       "2006 Q2  56.666667       0.0\n",
       "2006 Q3  46.666667       0.0\n",
       "2006 Q4  46.000000       0.0\n",
       "2007 Q1  46.000000       0.0"
      ]
     },
     "execution_count": 269,
     "metadata": {},
     "output_type": "execute_result"
    }
   ],
   "source": [
    "current_users_california = current_users_california[['heroin', 'fentanyl']]\n",
    "current_users_california.head()"
   ]
  },
  {
   "cell_type": "code",
   "execution_count": 270,
   "id": "2345f8ea",
   "metadata": {
    "executionInfo": {
     "elapsed": 310,
     "status": "ok",
     "timestamp": 1622121406404,
     "user": {
      "displayName": "Elio Gruttadauria",
      "photoUrl": "https://lh3.googleusercontent.com/a-/AOh14Ghd29dFmwRrOMapQt64cEJbRKsM7h1QtIfd0OLG5g=s64",
      "userId": "16216760321278748076"
     },
     "user_tz": -120
    },
    "id": "Xf_fIPpP-AFh"
   },
   "outputs": [],
   "source": [
    "# All numbers in the data is relative to a population of 10'000 individuals\n",
    "# Divide by N to obtain the fraction\n",
    "\n",
    "N = 10000\n",
    "\n",
    "current_users_california_fractions = current_users_california.copy()\n",
    "current_users_california_fractions /= N"
   ]
  },
  {
   "cell_type": "code",
   "execution_count": 271,
   "id": "b84cebc7",
   "metadata": {
    "colab": {
     "base_uri": "https://localhost:8080/",
     "height": 235
    },
    "executionInfo": {
     "elapsed": 235,
     "status": "ok",
     "timestamp": 1622121414819,
     "user": {
      "displayName": "Elio Gruttadauria",
      "photoUrl": "https://lh3.googleusercontent.com/a-/AOh14Ghd29dFmwRrOMapQt64cEJbRKsM7h1QtIfd0OLG5g=s64",
      "userId": "16216760321278748076"
     },
     "user_tz": -120
    },
    "id": "c9xDt677-GPV",
    "outputId": "1b420d10-dfe8-444e-dd39-9628a21ec805"
   },
   "outputs": [
    {
     "data": {
      "text/html": [
       "<div>\n",
       "<style scoped>\n",
       "    .dataframe tbody tr th:only-of-type {\n",
       "        vertical-align: middle;\n",
       "    }\n",
       "\n",
       "    .dataframe tbody tr th {\n",
       "        vertical-align: top;\n",
       "    }\n",
       "\n",
       "    .dataframe thead th {\n",
       "        text-align: right;\n",
       "    }\n",
       "</style>\n",
       "<table border=\"1\" class=\"dataframe\">\n",
       "  <thead>\n",
       "    <tr style=\"text-align: right;\">\n",
       "      <th></th>\n",
       "      <th>heroin</th>\n",
       "      <th>fentanyl</th>\n",
       "    </tr>\n",
       "    <tr>\n",
       "      <th>Quarter</th>\n",
       "      <th></th>\n",
       "      <th></th>\n",
       "    </tr>\n",
       "  </thead>\n",
       "  <tbody>\n",
       "    <tr>\n",
       "      <th>2006 Q1</th>\n",
       "      <td>0.004733</td>\n",
       "      <td>0.0</td>\n",
       "    </tr>\n",
       "    <tr>\n",
       "      <th>2006 Q2</th>\n",
       "      <td>0.005667</td>\n",
       "      <td>0.0</td>\n",
       "    </tr>\n",
       "    <tr>\n",
       "      <th>2006 Q3</th>\n",
       "      <td>0.004667</td>\n",
       "      <td>0.0</td>\n",
       "    </tr>\n",
       "    <tr>\n",
       "      <th>2006 Q4</th>\n",
       "      <td>0.004600</td>\n",
       "      <td>0.0</td>\n",
       "    </tr>\n",
       "    <tr>\n",
       "      <th>2007 Q1</th>\n",
       "      <td>0.004600</td>\n",
       "      <td>0.0</td>\n",
       "    </tr>\n",
       "  </tbody>\n",
       "</table>\n",
       "</div>"
      ],
      "text/plain": [
       "           heroin  fentanyl\n",
       "Quarter                    \n",
       "2006 Q1  0.004733       0.0\n",
       "2006 Q2  0.005667       0.0\n",
       "2006 Q3  0.004667       0.0\n",
       "2006 Q4  0.004600       0.0\n",
       "2007 Q1  0.004600       0.0"
      ]
     },
     "execution_count": 271,
     "metadata": {},
     "output_type": "execute_result"
    }
   ],
   "source": [
    "current_users_california_fractions.head()"
   ]
  },
  {
   "cell_type": "code",
   "execution_count": 272,
   "id": "e571b7b5",
   "metadata": {
    "executionInfo": {
     "elapsed": 325,
     "status": "ok",
     "timestamp": 1623165256254,
     "user": {
      "displayName": "Elio Gruttadauria",
      "photoUrl": "https://lh3.googleusercontent.com/a-/AOh14Ghd29dFmwRrOMapQt64cEJbRKsM7h1QtIfd0OLG5g=s64",
      "userId": "16216760321278748076"
     },
     "user_tz": -120
    },
    "id": "tiGAdGs4K-_v"
   },
   "outputs": [],
   "source": [
    "data = current_users_california"
   ]
  },
  {
   "cell_type": "code",
   "execution_count": 273,
   "id": "15a69969",
   "metadata": {},
   "outputs": [
    {
     "data": {
      "text/html": [
       "<div>\n",
       "<style scoped>\n",
       "    .dataframe tbody tr th:only-of-type {\n",
       "        vertical-align: middle;\n",
       "    }\n",
       "\n",
       "    .dataframe tbody tr th {\n",
       "        vertical-align: top;\n",
       "    }\n",
       "\n",
       "    .dataframe thead th {\n",
       "        text-align: right;\n",
       "    }\n",
       "</style>\n",
       "<table border=\"1\" class=\"dataframe\">\n",
       "  <thead>\n",
       "    <tr style=\"text-align: right;\">\n",
       "      <th></th>\n",
       "      <th>heroin</th>\n",
       "      <th>fentanyl</th>\n",
       "    </tr>\n",
       "    <tr>\n",
       "      <th>Quarter</th>\n",
       "      <th></th>\n",
       "      <th></th>\n",
       "    </tr>\n",
       "  </thead>\n",
       "  <tbody>\n",
       "    <tr>\n",
       "      <th>2006 Q1</th>\n",
       "      <td>47.333333</td>\n",
       "      <td>0.000000</td>\n",
       "    </tr>\n",
       "    <tr>\n",
       "      <th>2006 Q2</th>\n",
       "      <td>56.666667</td>\n",
       "      <td>0.000000</td>\n",
       "    </tr>\n",
       "    <tr>\n",
       "      <th>2006 Q3</th>\n",
       "      <td>46.666667</td>\n",
       "      <td>0.000000</td>\n",
       "    </tr>\n",
       "    <tr>\n",
       "      <th>2006 Q4</th>\n",
       "      <td>46.000000</td>\n",
       "      <td>0.000000</td>\n",
       "    </tr>\n",
       "    <tr>\n",
       "      <th>2007 Q1</th>\n",
       "      <td>46.000000</td>\n",
       "      <td>0.000000</td>\n",
       "    </tr>\n",
       "    <tr>\n",
       "      <th>2007 Q2</th>\n",
       "      <td>52.666667</td>\n",
       "      <td>0.000000</td>\n",
       "    </tr>\n",
       "    <tr>\n",
       "      <th>2007 Q3</th>\n",
       "      <td>56.000000</td>\n",
       "      <td>0.000000</td>\n",
       "    </tr>\n",
       "    <tr>\n",
       "      <th>2007 Q4</th>\n",
       "      <td>54.666667</td>\n",
       "      <td>0.000000</td>\n",
       "    </tr>\n",
       "    <tr>\n",
       "      <th>2008 Q1</th>\n",
       "      <td>58.000000</td>\n",
       "      <td>0.000000</td>\n",
       "    </tr>\n",
       "    <tr>\n",
       "      <th>2008 Q2</th>\n",
       "      <td>55.333333</td>\n",
       "      <td>0.000000</td>\n",
       "    </tr>\n",
       "    <tr>\n",
       "      <th>2008 Q3</th>\n",
       "      <td>62.000000</td>\n",
       "      <td>0.000000</td>\n",
       "    </tr>\n",
       "    <tr>\n",
       "      <th>2008 Q4</th>\n",
       "      <td>54.666667</td>\n",
       "      <td>0.000000</td>\n",
       "    </tr>\n",
       "    <tr>\n",
       "      <th>2009 Q1</th>\n",
       "      <td>54.666667</td>\n",
       "      <td>0.000000</td>\n",
       "    </tr>\n",
       "    <tr>\n",
       "      <th>2009 Q2</th>\n",
       "      <td>75.333333</td>\n",
       "      <td>0.000000</td>\n",
       "    </tr>\n",
       "    <tr>\n",
       "      <th>2009 Q3</th>\n",
       "      <td>67.333333</td>\n",
       "      <td>0.000000</td>\n",
       "    </tr>\n",
       "    <tr>\n",
       "      <th>2009 Q4</th>\n",
       "      <td>52.666667</td>\n",
       "      <td>0.000000</td>\n",
       "    </tr>\n",
       "    <tr>\n",
       "      <th>2010 Q1</th>\n",
       "      <td>51.333333</td>\n",
       "      <td>0.000000</td>\n",
       "    </tr>\n",
       "    <tr>\n",
       "      <th>2010 Q2</th>\n",
       "      <td>61.333333</td>\n",
       "      <td>0.000000</td>\n",
       "    </tr>\n",
       "    <tr>\n",
       "      <th>2010 Q3</th>\n",
       "      <td>54.666667</td>\n",
       "      <td>0.000000</td>\n",
       "    </tr>\n",
       "    <tr>\n",
       "      <th>2010 Q4</th>\n",
       "      <td>56.000000</td>\n",
       "      <td>0.000000</td>\n",
       "    </tr>\n",
       "    <tr>\n",
       "      <th>2011 Q1</th>\n",
       "      <td>60.000000</td>\n",
       "      <td>19.333333</td>\n",
       "    </tr>\n",
       "    <tr>\n",
       "      <th>2011 Q2</th>\n",
       "      <td>66.666667</td>\n",
       "      <td>16.666667</td>\n",
       "    </tr>\n",
       "    <tr>\n",
       "      <th>2011 Q3</th>\n",
       "      <td>51.333333</td>\n",
       "      <td>16.666667</td>\n",
       "    </tr>\n",
       "    <tr>\n",
       "      <th>2011 Q4</th>\n",
       "      <td>63.333333</td>\n",
       "      <td>16.666667</td>\n",
       "    </tr>\n",
       "    <tr>\n",
       "      <th>2012 Q1</th>\n",
       "      <td>57.333333</td>\n",
       "      <td>12.666667</td>\n",
       "    </tr>\n",
       "    <tr>\n",
       "      <th>2012 Q2</th>\n",
       "      <td>68.666667</td>\n",
       "      <td>16.666667</td>\n",
       "    </tr>\n",
       "    <tr>\n",
       "      <th>2012 Q3</th>\n",
       "      <td>62.666667</td>\n",
       "      <td>12.666667</td>\n",
       "    </tr>\n",
       "    <tr>\n",
       "      <th>2012 Q4</th>\n",
       "      <td>55.333333</td>\n",
       "      <td>12.666667</td>\n",
       "    </tr>\n",
       "    <tr>\n",
       "      <th>2013 Q1</th>\n",
       "      <td>62.666667</td>\n",
       "      <td>17.333333</td>\n",
       "    </tr>\n",
       "    <tr>\n",
       "      <th>2013 Q2</th>\n",
       "      <td>80.666667</td>\n",
       "      <td>12.666667</td>\n",
       "    </tr>\n",
       "    <tr>\n",
       "      <th>2013 Q3</th>\n",
       "      <td>91.333333</td>\n",
       "      <td>11.333333</td>\n",
       "    </tr>\n",
       "    <tr>\n",
       "      <th>2013 Q4</th>\n",
       "      <td>88.000000</td>\n",
       "      <td>16.000000</td>\n",
       "    </tr>\n",
       "    <tr>\n",
       "      <th>2014 Q1</th>\n",
       "      <td>82.000000</td>\n",
       "      <td>17.333333</td>\n",
       "    </tr>\n",
       "    <tr>\n",
       "      <th>2014 Q2</th>\n",
       "      <td>106.000000</td>\n",
       "      <td>13.333333</td>\n",
       "    </tr>\n",
       "    <tr>\n",
       "      <th>2014 Q3</th>\n",
       "      <td>87.333333</td>\n",
       "      <td>20.666667</td>\n",
       "    </tr>\n",
       "    <tr>\n",
       "      <th>2014 Q4</th>\n",
       "      <td>92.666667</td>\n",
       "      <td>16.000000</td>\n",
       "    </tr>\n",
       "    <tr>\n",
       "      <th>2015 Q1</th>\n",
       "      <td>98.666667</td>\n",
       "      <td>14.000000</td>\n",
       "    </tr>\n",
       "    <tr>\n",
       "      <th>2015 Q2</th>\n",
       "      <td>95.333333</td>\n",
       "      <td>21.333333</td>\n",
       "    </tr>\n",
       "    <tr>\n",
       "      <th>2015 Q3</th>\n",
       "      <td>104.666667</td>\n",
       "      <td>19.333333</td>\n",
       "    </tr>\n",
       "    <tr>\n",
       "      <th>2015 Q4</th>\n",
       "      <td>76.666667</td>\n",
       "      <td>32.666667</td>\n",
       "    </tr>\n",
       "    <tr>\n",
       "      <th>2016 Q1</th>\n",
       "      <td>95.333333</td>\n",
       "      <td>39.333333</td>\n",
       "    </tr>\n",
       "    <tr>\n",
       "      <th>2016 Q2</th>\n",
       "      <td>93.333333</td>\n",
       "      <td>40.000000</td>\n",
       "    </tr>\n",
       "    <tr>\n",
       "      <th>2016 Q3</th>\n",
       "      <td>97.333333</td>\n",
       "      <td>36.000000</td>\n",
       "    </tr>\n",
       "    <tr>\n",
       "      <th>2016 Q4</th>\n",
       "      <td>98.000000</td>\n",
       "      <td>42.666667</td>\n",
       "    </tr>\n",
       "    <tr>\n",
       "      <th>2017 Q1</th>\n",
       "      <td>97.333333</td>\n",
       "      <td>59.333333</td>\n",
       "    </tr>\n",
       "    <tr>\n",
       "      <th>2017 Q2</th>\n",
       "      <td>110.000000</td>\n",
       "      <td>68.666667</td>\n",
       "    </tr>\n",
       "    <tr>\n",
       "      <th>2017 Q3</th>\n",
       "      <td>128.666667</td>\n",
       "      <td>73.333333</td>\n",
       "    </tr>\n",
       "    <tr>\n",
       "      <th>2017 Q4</th>\n",
       "      <td>117.333333</td>\n",
       "      <td>80.666667</td>\n",
       "    </tr>\n",
       "    <tr>\n",
       "      <th>2018 Q1</th>\n",
       "      <td>105.333333</td>\n",
       "      <td>116.666667</td>\n",
       "    </tr>\n",
       "    <tr>\n",
       "      <th>2018 Q2</th>\n",
       "      <td>108.666667</td>\n",
       "      <td>106.000000</td>\n",
       "    </tr>\n",
       "    <tr>\n",
       "      <th>2018 Q3</th>\n",
       "      <td>136.000000</td>\n",
       "      <td>160.666667</td>\n",
       "    </tr>\n",
       "    <tr>\n",
       "      <th>2018 Q4</th>\n",
       "      <td>153.333333</td>\n",
       "      <td>137.333333</td>\n",
       "    </tr>\n",
       "    <tr>\n",
       "      <th>2019 Q1</th>\n",
       "      <td>150.666667</td>\n",
       "      <td>196.666667</td>\n",
       "    </tr>\n",
       "    <tr>\n",
       "      <th>2019 Q2</th>\n",
       "      <td>166.666667</td>\n",
       "      <td>221.333333</td>\n",
       "    </tr>\n",
       "    <tr>\n",
       "      <th>2019 Q3</th>\n",
       "      <td>168.000000</td>\n",
       "      <td>306.000000</td>\n",
       "    </tr>\n",
       "    <tr>\n",
       "      <th>2019 Q4</th>\n",
       "      <td>141.333333</td>\n",
       "      <td>344.666667</td>\n",
       "    </tr>\n",
       "    <tr>\n",
       "      <th>2020 Q1</th>\n",
       "      <td>150.000000</td>\n",
       "      <td>441.333333</td>\n",
       "    </tr>\n",
       "    <tr>\n",
       "      <th>2020 Q2</th>\n",
       "      <td>153.333333</td>\n",
       "      <td>594.666667</td>\n",
       "    </tr>\n",
       "  </tbody>\n",
       "</table>\n",
       "</div>"
      ],
      "text/plain": [
       "             heroin    fentanyl\n",
       "Quarter                        \n",
       "2006 Q1   47.333333    0.000000\n",
       "2006 Q2   56.666667    0.000000\n",
       "2006 Q3   46.666667    0.000000\n",
       "2006 Q4   46.000000    0.000000\n",
       "2007 Q1   46.000000    0.000000\n",
       "2007 Q2   52.666667    0.000000\n",
       "2007 Q3   56.000000    0.000000\n",
       "2007 Q4   54.666667    0.000000\n",
       "2008 Q1   58.000000    0.000000\n",
       "2008 Q2   55.333333    0.000000\n",
       "2008 Q3   62.000000    0.000000\n",
       "2008 Q4   54.666667    0.000000\n",
       "2009 Q1   54.666667    0.000000\n",
       "2009 Q2   75.333333    0.000000\n",
       "2009 Q3   67.333333    0.000000\n",
       "2009 Q4   52.666667    0.000000\n",
       "2010 Q1   51.333333    0.000000\n",
       "2010 Q2   61.333333    0.000000\n",
       "2010 Q3   54.666667    0.000000\n",
       "2010 Q4   56.000000    0.000000\n",
       "2011 Q1   60.000000   19.333333\n",
       "2011 Q2   66.666667   16.666667\n",
       "2011 Q3   51.333333   16.666667\n",
       "2011 Q4   63.333333   16.666667\n",
       "2012 Q1   57.333333   12.666667\n",
       "2012 Q2   68.666667   16.666667\n",
       "2012 Q3   62.666667   12.666667\n",
       "2012 Q4   55.333333   12.666667\n",
       "2013 Q1   62.666667   17.333333\n",
       "2013 Q2   80.666667   12.666667\n",
       "2013 Q3   91.333333   11.333333\n",
       "2013 Q4   88.000000   16.000000\n",
       "2014 Q1   82.000000   17.333333\n",
       "2014 Q2  106.000000   13.333333\n",
       "2014 Q3   87.333333   20.666667\n",
       "2014 Q4   92.666667   16.000000\n",
       "2015 Q1   98.666667   14.000000\n",
       "2015 Q2   95.333333   21.333333\n",
       "2015 Q3  104.666667   19.333333\n",
       "2015 Q4   76.666667   32.666667\n",
       "2016 Q1   95.333333   39.333333\n",
       "2016 Q2   93.333333   40.000000\n",
       "2016 Q3   97.333333   36.000000\n",
       "2016 Q4   98.000000   42.666667\n",
       "2017 Q1   97.333333   59.333333\n",
       "2017 Q2  110.000000   68.666667\n",
       "2017 Q3  128.666667   73.333333\n",
       "2017 Q4  117.333333   80.666667\n",
       "2018 Q1  105.333333  116.666667\n",
       "2018 Q2  108.666667  106.000000\n",
       "2018 Q3  136.000000  160.666667\n",
       "2018 Q4  153.333333  137.333333\n",
       "2019 Q1  150.666667  196.666667\n",
       "2019 Q2  166.666667  221.333333\n",
       "2019 Q3  168.000000  306.000000\n",
       "2019 Q4  141.333333  344.666667\n",
       "2020 Q1  150.000000  441.333333\n",
       "2020 Q2  153.333333  594.666667"
      ]
     },
     "execution_count": 273,
     "metadata": {},
     "output_type": "execute_result"
    }
   ],
   "source": [
    "current_users_california"
   ]
  },
  {
   "cell_type": "code",
   "execution_count": 274,
   "id": "8a12dcf9",
   "metadata": {
    "executionInfo": {
     "elapsed": 5,
     "status": "ok",
     "timestamp": 1623165257467,
     "user": {
      "displayName": "Elio Gruttadauria",
      "photoUrl": "https://lh3.googleusercontent.com/a-/AOh14Ghd29dFmwRrOMapQt64cEJbRKsM7h1QtIfd0OLG5g=s64",
      "userId": "16216760321278748076"
     },
     "user_tz": -120
    },
    "id": "Y4Hf7-KMKzBJ"
   },
   "outputs": [],
   "source": [
    "'''\n",
    "1. Create time and starting variables\n",
    "'''\n",
    "\n",
    "t, y0 = compute_starting_variables(data)"
   ]
  },
  {
   "cell_type": "code",
   "execution_count": 275,
   "id": "13486cd9",
   "metadata": {
    "colab": {
     "base_uri": "https://localhost:8080/"
    },
    "executionInfo": {
     "elapsed": 238,
     "status": "ok",
     "timestamp": 1623164999744,
     "user": {
      "displayName": "Elio Gruttadauria",
      "photoUrl": "https://lh3.googleusercontent.com/a-/AOh14Ghd29dFmwRrOMapQt64cEJbRKsM7h1QtIfd0OLG5g=s64",
      "userId": "16216760321278748076"
     },
     "user_tz": -120
    },
    "id": "8eMvkxesLE2C",
    "outputId": "7c2e411a-f382-4894-ee88-fce93fc38258"
   },
   "outputs": [
    {
     "data": {
      "text/plain": [
       "(9952.666666666666, 47.333333333333336, 0.0, 0)"
      ]
     },
     "execution_count": 275,
     "metadata": {},
     "output_type": "execute_result"
    }
   ],
   "source": [
    "y0"
   ]
  },
  {
   "cell_type": "code",
   "execution_count": 276,
   "id": "f4676411",
   "metadata": {
    "executionInfo": {
     "elapsed": 354,
     "status": "ok",
     "timestamp": 1623165495356,
     "user": {
      "displayName": "Elio Gruttadauria",
      "photoUrl": "https://lh3.googleusercontent.com/a-/AOh14Ghd29dFmwRrOMapQt64cEJbRKsM7h1QtIfd0OLG5g=s64",
      "userId": "16216760321278748076"
     },
     "user_tz": -120
    },
    "id": "qsbFNsn-MNrd"
   },
   "outputs": [],
   "source": [
    "# Fentanyl needs to contain at least 1 obs\n",
    "\n",
    "y0 = (y0[0], y0[1], 5.0, y0[3])"
   ]
  },
  {
   "cell_type": "code",
   "execution_count": 277,
   "id": "af5d38b9",
   "metadata": {
    "colab": {
     "base_uri": "https://localhost:8080/"
    },
    "executionInfo": {
     "elapsed": 224,
     "status": "ok",
     "timestamp": 1623165496548,
     "user": {
      "displayName": "Elio Gruttadauria",
      "photoUrl": "https://lh3.googleusercontent.com/a-/AOh14Ghd29dFmwRrOMapQt64cEJbRKsM7h1QtIfd0OLG5g=s64",
      "userId": "16216760321278748076"
     },
     "user_tz": -120
    },
    "id": "E8ErPVpWM3Af",
    "outputId": "97bafce6-c002-4a07-e872-759d5e54709d"
   },
   "outputs": [
    {
     "data": {
      "text/plain": [
       "(9952.666666666666, 47.333333333333336, 5.0, 0)"
      ]
     },
     "execution_count": 277,
     "metadata": {},
     "output_type": "execute_result"
    }
   ],
   "source": [
    "y0"
   ]
  },
  {
   "cell_type": "code",
   "execution_count": 182,
   "id": "607c6c76",
   "metadata": {
    "executionInfo": {
     "elapsed": 234,
     "status": "ok",
     "timestamp": 1623165498297,
     "user": {
      "displayName": "Elio Gruttadauria",
      "photoUrl": "https://lh3.googleusercontent.com/a-/AOh14Ghd29dFmwRrOMapQt64cEJbRKsM7h1QtIfd0OLG5g=s64",
      "userId": "16216760321278748076"
     },
     "user_tz": -120
    },
    "id": "2Nl6dM0aKzFB"
   },
   "outputs": [],
   "source": [
    "'''\n",
    "2. List of possibile values to try for the conversion rate.\n",
    "   Compute RSS for each value and pick the best one.\n",
    "'''\n",
    "\n",
    "net_conversion_values = list(np.arange(0, 20, 0.5))"
   ]
  },
  {
   "cell_type": "code",
   "execution_count": 183,
   "id": "07a7c2dc",
   "metadata": {
    "executionInfo": {
     "elapsed": 214,
     "status": "ok",
     "timestamp": 1623165596837,
     "user": {
      "displayName": "Elio Gruttadauria",
      "photoUrl": "https://lh3.googleusercontent.com/a-/AOh14Ghd29dFmwRrOMapQt64cEJbRKsM7h1QtIfd0OLG5g=s64",
      "userId": "16216760321278748076"
     },
     "user_tz": -120
    },
    "id": "LaCCC6UhKzJ6"
   },
   "outputs": [],
   "source": [
    "av = 30"
   ]
  },
  {
   "cell_type": "code",
   "execution_count": 191,
   "id": "1caa70ac",
   "metadata": {},
   "outputs": [
    {
     "data": {
      "text/plain": [
       "[0.0,\n",
       " 0.5,\n",
       " 1.0,\n",
       " 1.5,\n",
       " 2.0,\n",
       " 2.5,\n",
       " 3.0,\n",
       " 3.5,\n",
       " 4.0,\n",
       " 4.5,\n",
       " 5.0,\n",
       " 5.5,\n",
       " 6.0,\n",
       " 6.5,\n",
       " 7.0,\n",
       " 7.5,\n",
       " 8.0,\n",
       " 8.5,\n",
       " 9.0,\n",
       " 9.5,\n",
       " 10.0,\n",
       " 10.5,\n",
       " 11.0,\n",
       " 11.5,\n",
       " 12.0,\n",
       " 12.5,\n",
       " 13.0,\n",
       " 13.5,\n",
       " 14.0,\n",
       " 14.5,\n",
       " 15.0,\n",
       " 15.5,\n",
       " 16.0,\n",
       " 16.5,\n",
       " 17.0,\n",
       " 17.5,\n",
       " 18.0,\n",
       " 18.5,\n",
       " 19.0,\n",
       " 19.5]"
      ]
     },
     "execution_count": 191,
     "metadata": {},
     "output_type": "execute_result"
    }
   ],
   "source": [
    "net_conversion_values"
   ]
  },
  {
   "cell_type": "code",
   "execution_count": 192,
   "id": "466ee831",
   "metadata": {},
   "outputs": [
    {
     "data": {
      "text/plain": [
       "30"
      ]
     },
     "execution_count": 192,
     "metadata": {},
     "output_type": "execute_result"
    }
   ],
   "source": [
    "av"
   ]
  },
  {
   "cell_type": "code",
   "execution_count": 184,
   "id": "58464dd5",
   "metadata": {
    "colab": {
     "base_uri": "https://localhost:8080/"
    },
    "executionInfo": {
     "elapsed": 1209,
     "status": "ok",
     "timestamp": 1623165598942,
     "user": {
      "displayName": "Elio Gruttadauria",
      "photoUrl": "https://lh3.googleusercontent.com/a-/AOh14Ghd29dFmwRrOMapQt64cEJbRKsM7h1QtIfd0OLG5g=s64",
      "userId": "16216760321278748076"
     },
     "user_tz": -120
    },
    "id": "raAsW7eGK3Iu",
    "outputId": "645e8719-d46c-4928-ee60-d9e39505f225"
   },
   "outputs": [
    {
     "name": "stderr",
     "output_type": "stream",
     "text": [
      "C:\\Users\\Sandro\\anaconda3.3\\lib\\site-packages\\scipy\\integrate\\odepack.py:247: ODEintWarning: Excess work done on this call (perhaps wrong Dfun type). Run with full_output = 1 to get quantitative information.\n",
      "  warnings.warn(warning_msg, ODEintWarning)\n"
     ]
    },
    {
     "name": "stdout",
     "output_type": "stream",
     "text": [
      "Fitting the model 40 times\n",
      "The best value to minimize heroin RSS is at index 36: 325609.289308182\n",
      "The best value to minimize fentanyl RSS is at index 2: 36572.742312116156\n",
      "The best value to minimize both RSS (i.e. global solution) is at index 23: 1117577.7366019776\n",
      "The best net conversion rate is 11.5\n"
     ]
    }
   ],
   "source": [
    "'''\n",
    "3. Run model and find best net conversion value\n",
    "'''\n",
    "\n",
    "best_net_conversion = model_tuning(data, y0, t, net_conversion_values, av)"
   ]
  },
  {
   "cell_type": "code",
   "execution_count": 185,
   "id": "62d3a611",
   "metadata": {
    "colab": {
     "base_uri": "https://localhost:8080/",
     "height": 1000
    },
    "executionInfo": {
     "elapsed": 247,
     "status": "ok",
     "timestamp": 1623165601349,
     "user": {
      "displayName": "Elio Gruttadauria",
      "photoUrl": "https://lh3.googleusercontent.com/a-/AOh14Ghd29dFmwRrOMapQt64cEJbRKsM7h1QtIfd0OLG5g=s64",
      "userId": "16216760321278748076"
     },
     "user_tz": -120
    },
    "id": "2J4Ts8yrK3OP",
    "outputId": "f71d7d5f-d89d-4a42-ddab-a9f0b227b044"
   },
   "outputs": [
    {
     "data": {
      "text/html": [
       "<div>\n",
       "<style scoped>\n",
       "    .dataframe tbody tr th:only-of-type {\n",
       "        vertical-align: middle;\n",
       "    }\n",
       "\n",
       "    .dataframe tbody tr th {\n",
       "        vertical-align: top;\n",
       "    }\n",
       "\n",
       "    .dataframe thead th {\n",
       "        text-align: right;\n",
       "    }\n",
       "</style>\n",
       "<table border=\"1\" class=\"dataframe\">\n",
       "  <thead>\n",
       "    <tr style=\"text-align: right;\">\n",
       "      <th></th>\n",
       "      <th>s</th>\n",
       "      <th>h</th>\n",
       "      <th>f</th>\n",
       "      <th>r</th>\n",
       "    </tr>\n",
       "  </thead>\n",
       "  <tbody>\n",
       "    <tr>\n",
       "      <th>0</th>\n",
       "      <td>9938.528139</td>\n",
       "      <td>6.147186e+01</td>\n",
       "      <td>5.000000</td>\n",
       "      <td>0.000000</td>\n",
       "    </tr>\n",
       "    <tr>\n",
       "      <th>1</th>\n",
       "      <td>9920.188126</td>\n",
       "      <td>7.130858e+01</td>\n",
       "      <td>5.630736</td>\n",
       "      <td>5.720995</td>\n",
       "    </tr>\n",
       "    <tr>\n",
       "      <th>2</th>\n",
       "      <td>9900.825930</td>\n",
       "      <td>8.091627e+01</td>\n",
       "      <td>6.394873</td>\n",
       "      <td>9.385858</td>\n",
       "    </tr>\n",
       "    <tr>\n",
       "      <th>3</th>\n",
       "      <td>9880.458269</td>\n",
       "      <td>9.025127e+01</td>\n",
       "      <td>7.327453</td>\n",
       "      <td>12.021722</td>\n",
       "    </tr>\n",
       "    <tr>\n",
       "      <th>4</th>\n",
       "      <td>9859.103819</td>\n",
       "      <td>9.926196e+01</td>\n",
       "      <td>8.472407</td>\n",
       "      <td>14.138010</td>\n",
       "    </tr>\n",
       "    <tr>\n",
       "      <th>5</th>\n",
       "      <td>9836.783279</td>\n",
       "      <td>1.078851e+02</td>\n",
       "      <td>9.885349</td>\n",
       "      <td>15.987095</td>\n",
       "    </tr>\n",
       "    <tr>\n",
       "      <th>6</th>\n",
       "      <td>9813.519622</td>\n",
       "      <td>1.160416e+02</td>\n",
       "      <td>11.636949</td>\n",
       "      <td>17.693669</td>\n",
       "    </tr>\n",
       "    <tr>\n",
       "      <th>7</th>\n",
       "      <td>9789.338536</td>\n",
       "      <td>1.236320e+02</td>\n",
       "      <td>13.816980</td>\n",
       "      <td>19.318935</td>\n",
       "    </tr>\n",
       "    <tr>\n",
       "      <th>8</th>\n",
       "      <td>9764.269046</td>\n",
       "      <td>1.305311e+02</td>\n",
       "      <td>16.539025</td>\n",
       "      <td>20.892433</td>\n",
       "    </tr>\n",
       "    <tr>\n",
       "      <th>9</th>\n",
       "      <td>9738.344326</td>\n",
       "      <td>1.365818e+02</td>\n",
       "      <td>19.945656</td>\n",
       "      <td>22.427792</td>\n",
       "    </tr>\n",
       "    <tr>\n",
       "      <th>10</th>\n",
       "      <td>9711.602709</td>\n",
       "      <td>1.415896e+02</td>\n",
       "      <td>24.213525</td>\n",
       "      <td>23.930493</td>\n",
       "    </tr>\n",
       "    <tr>\n",
       "      <th>11</th>\n",
       "      <td>9684.088879</td>\n",
       "      <td>1.453178e+02</td>\n",
       "      <td>29.557277</td>\n",
       "      <td>25.401666</td>\n",
       "    </tr>\n",
       "    <tr>\n",
       "      <th>12</th>\n",
       "      <td>9655.855211</td>\n",
       "      <td>1.474858e+02</td>\n",
       "      <td>36.230350</td>\n",
       "      <td>26.839900</td>\n",
       "    </tr>\n",
       "    <tr>\n",
       "      <th>13</th>\n",
       "      <td>9626.963137</td>\n",
       "      <td>1.477732e+02</td>\n",
       "      <td>44.519774</td>\n",
       "      <td>28.242081</td>\n",
       "    </tr>\n",
       "    <tr>\n",
       "      <th>14</th>\n",
       "      <td>9597.484355</td>\n",
       "      <td>1.458347e+02</td>\n",
       "      <td>54.731251</td>\n",
       "      <td>29.603753</td>\n",
       "    </tr>\n",
       "    <tr>\n",
       "      <th>15</th>\n",
       "      <td>9567.501576</td>\n",
       "      <td>1.413277e+02</td>\n",
       "      <td>67.161151</td>\n",
       "      <td>30.919270</td>\n",
       "    </tr>\n",
       "    <tr>\n",
       "      <th>16</th>\n",
       "      <td>9537.108426</td>\n",
       "      <td>1.339541e+02</td>\n",
       "      <td>82.055205</td>\n",
       "      <td>32.181900</td>\n",
       "    </tr>\n",
       "    <tr>\n",
       "      <th>17</th>\n",
       "      <td>9506.408188</td>\n",
       "      <td>1.235096e+02</td>\n",
       "      <td>99.561731</td>\n",
       "      <td>33.383979</td>\n",
       "    </tr>\n",
       "    <tr>\n",
       "      <th>18</th>\n",
       "      <td>9475.511375</td>\n",
       "      <td>1.099141e+02</td>\n",
       "      <td>119.703059</td>\n",
       "      <td>34.517172</td>\n",
       "    </tr>\n",
       "    <tr>\n",
       "      <th>19</th>\n",
       "      <td>9444.533055</td>\n",
       "      <td>9.317269e+01</td>\n",
       "      <td>142.417780</td>\n",
       "      <td>35.572820</td>\n",
       "    </tr>\n",
       "    <tr>\n",
       "      <th>20</th>\n",
       "      <td>9413.592945</td>\n",
       "      <td>7.312793e+01</td>\n",
       "      <td>167.807759</td>\n",
       "      <td>36.542229</td>\n",
       "    </tr>\n",
       "    <tr>\n",
       "      <th>21</th>\n",
       "      <td>9382.828788</td>\n",
       "      <td>4.835310e+01</td>\n",
       "      <td>197.232234</td>\n",
       "      <td>37.416341</td>\n",
       "    </tr>\n",
       "    <tr>\n",
       "      <th>22</th>\n",
       "      <td>9355.388683</td>\n",
       "      <td>-2.100687e-09</td>\n",
       "      <td>249.034610</td>\n",
       "      <td>38.113814</td>\n",
       "    </tr>\n",
       "    <tr>\n",
       "      <th>23</th>\n",
       "      <td>9312.846686</td>\n",
       "      <td>4.489226e+01</td>\n",
       "      <td>214.127781</td>\n",
       "      <td>39.645275</td>\n",
       "    </tr>\n",
       "    <tr>\n",
       "      <th>24</th>\n",
       "      <td>9290.121803</td>\n",
       "      <td>4.299081e-09</td>\n",
       "      <td>261.426615</td>\n",
       "      <td>40.153602</td>\n",
       "    </tr>\n",
       "    <tr>\n",
       "      <th>25</th>\n",
       "      <td>9242.302915</td>\n",
       "      <td>2.266643e+01</td>\n",
       "      <td>247.863454</td>\n",
       "      <td>41.619118</td>\n",
       "    </tr>\n",
       "    <tr>\n",
       "      <th>26</th>\n",
       "      <td>9236.616480</td>\n",
       "      <td>4.283578e-09</td>\n",
       "      <td>270.995192</td>\n",
       "      <td>41.729518</td>\n",
       "    </tr>\n",
       "    <tr>\n",
       "      <th>27</th>\n",
       "      <td>9139.958853</td>\n",
       "      <td>1.867845e+02</td>\n",
       "      <td>114.158304</td>\n",
       "      <td>45.929390</td>\n",
       "    </tr>\n",
       "    <tr>\n",
       "      <th>28</th>\n",
       "      <td>9102.317032</td>\n",
       "      <td>1.756891e+02</td>\n",
       "      <td>130.538136</td>\n",
       "      <td>46.851057</td>\n",
       "    </tr>\n",
       "    <tr>\n",
       "      <th>29</th>\n",
       "      <td>9064.638321</td>\n",
       "      <td>1.622682e+02</td>\n",
       "      <td>148.766245</td>\n",
       "      <td>47.705978</td>\n",
       "    </tr>\n",
       "    <tr>\n",
       "      <th>30</th>\n",
       "      <td>9027.014721</td>\n",
       "      <td>1.464115e+02</td>\n",
       "      <td>168.913034</td>\n",
       "      <td>48.488251</td>\n",
       "    </tr>\n",
       "    <tr>\n",
       "      <th>31</th>\n",
       "      <td>8989.543853</td>\n",
       "      <td>1.279530e+02</td>\n",
       "      <td>191.103270</td>\n",
       "      <td>49.191737</td>\n",
       "    </tr>\n",
       "    <tr>\n",
       "      <th>32</th>\n",
       "      <td>8952.331955</td>\n",
       "      <td>1.065116e+02</td>\n",
       "      <td>215.672326</td>\n",
       "      <td>49.809956</td>\n",
       "    </tr>\n",
       "    <tr>\n",
       "      <th>33</th>\n",
       "      <td>8915.504125</td>\n",
       "      <td>8.097376e+01</td>\n",
       "      <td>243.674193</td>\n",
       "      <td>50.335569</td>\n",
       "    </tr>\n",
       "    <tr>\n",
       "      <th>34</th>\n",
       "      <td>8879.245250</td>\n",
       "      <td>4.666338e+01</td>\n",
       "      <td>279.673706</td>\n",
       "      <td>50.758438</td>\n",
       "    </tr>\n",
       "    <tr>\n",
       "      <th>35</th>\n",
       "      <td>8859.996609</td>\n",
       "      <td>-2.184424e-09</td>\n",
       "      <td>326.793037</td>\n",
       "      <td>50.937660</td>\n",
       "    </tr>\n",
       "    <tr>\n",
       "      <th>36</th>\n",
       "      <td>8728.338229</td>\n",
       "      <td>3.435971e+02</td>\n",
       "      <td>32.527807</td>\n",
       "      <td>57.629760</td>\n",
       "    </tr>\n",
       "    <tr>\n",
       "      <th>37</th>\n",
       "      <td>8682.013156</td>\n",
       "      <td>3.477178e+02</td>\n",
       "      <td>34.699514</td>\n",
       "      <td>58.651265</td>\n",
       "    </tr>\n",
       "    <tr>\n",
       "      <th>38</th>\n",
       "      <td>8635.221018</td>\n",
       "      <td>3.515162e+02</td>\n",
       "      <td>37.041777</td>\n",
       "      <td>59.649633</td>\n",
       "    </tr>\n",
       "    <tr>\n",
       "      <th>39</th>\n",
       "      <td>8587.982561</td>\n",
       "      <td>3.549744e+02</td>\n",
       "      <td>39.568759</td>\n",
       "      <td>60.624347</td>\n",
       "    </tr>\n",
       "    <tr>\n",
       "      <th>40</th>\n",
       "      <td>8540.319130</td>\n",
       "      <td>3.580734e+02</td>\n",
       "      <td>42.295761</td>\n",
       "      <td>61.574855</td>\n",
       "    </tr>\n",
       "    <tr>\n",
       "      <th>41</th>\n",
       "      <td>8492.252727</td>\n",
       "      <td>3.607924e+02</td>\n",
       "      <td>45.239293</td>\n",
       "      <td>62.500560</td>\n",
       "    </tr>\n",
       "    <tr>\n",
       "      <th>42</th>\n",
       "      <td>8443.806054</td>\n",
       "      <td>3.631091e+02</td>\n",
       "      <td>48.417145</td>\n",
       "      <td>63.400820</td>\n",
       "    </tr>\n",
       "    <tr>\n",
       "      <th>43</th>\n",
       "      <td>8395.002583</td>\n",
       "      <td>3.649995e+02</td>\n",
       "      <td>51.848458</td>\n",
       "      <td>64.274944</td>\n",
       "    </tr>\n",
       "    <tr>\n",
       "      <th>44</th>\n",
       "      <td>8345.866605</td>\n",
       "      <td>3.664377e+02</td>\n",
       "      <td>55.553796</td>\n",
       "      <td>65.122185</td>\n",
       "    </tr>\n",
       "    <tr>\n",
       "      <th>45</th>\n",
       "      <td>8296.423306</td>\n",
       "      <td>3.673961e+02</td>\n",
       "      <td>59.555208</td>\n",
       "      <td>65.941739</td>\n",
       "    </tr>\n",
       "    <tr>\n",
       "      <th>46</th>\n",
       "      <td>8246.698826</td>\n",
       "      <td>3.678450e+02</td>\n",
       "      <td>63.876286</td>\n",
       "      <td>66.732740</td>\n",
       "    </tr>\n",
       "    <tr>\n",
       "      <th>47</th>\n",
       "      <td>8196.720341</td>\n",
       "      <td>3.677525e+02</td>\n",
       "      <td>68.542220</td>\n",
       "      <td>67.494254</td>\n",
       "    </tr>\n",
       "    <tr>\n",
       "      <th>48</th>\n",
       "      <td>8146.516130</td>\n",
       "      <td>3.670848e+02</td>\n",
       "      <td>73.579840</td>\n",
       "      <td>68.225275</td>\n",
       "    </tr>\n",
       "    <tr>\n",
       "      <th>49</th>\n",
       "      <td>8096.115660</td>\n",
       "      <td>3.658058e+02</td>\n",
       "      <td>79.017647</td>\n",
       "      <td>68.924720</td>\n",
       "    </tr>\n",
       "    <tr>\n",
       "      <th>50</th>\n",
       "      <td>8045.549666</td>\n",
       "      <td>3.638771e+02</td>\n",
       "      <td>84.885837</td>\n",
       "      <td>69.591426</td>\n",
       "    </tr>\n",
       "    <tr>\n",
       "      <th>51</th>\n",
       "      <td>7994.850239</td>\n",
       "      <td>3.612580e+02</td>\n",
       "      <td>91.216308</td>\n",
       "      <td>70.224139</td>\n",
       "    </tr>\n",
       "    <tr>\n",
       "      <th>52</th>\n",
       "      <td>7944.050910</td>\n",
       "      <td>3.579055e+02</td>\n",
       "      <td>98.042669</td>\n",
       "      <td>70.821519</td>\n",
       "    </tr>\n",
       "    <tr>\n",
       "      <th>53</th>\n",
       "      <td>7893.186745</td>\n",
       "      <td>3.537743e+02</td>\n",
       "      <td>105.400233</td>\n",
       "      <td>71.382123</td>\n",
       "    </tr>\n",
       "    <tr>\n",
       "      <th>54</th>\n",
       "      <td>7842.294433</td>\n",
       "      <td>3.488165e+02</td>\n",
       "      <td>113.326030</td>\n",
       "      <td>71.904411</td>\n",
       "    </tr>\n",
       "    <tr>\n",
       "      <th>55</th>\n",
       "      <td>7791.412389</td>\n",
       "      <td>3.429818e+02</td>\n",
       "      <td>121.858833</td>\n",
       "      <td>72.386732</td>\n",
       "    </tr>\n",
       "    <tr>\n",
       "      <th>56</th>\n",
       "      <td>7740.580846</td>\n",
       "      <td>3.362175e+02</td>\n",
       "      <td>131.039247</td>\n",
       "      <td>72.827327</td>\n",
       "    </tr>\n",
       "    <tr>\n",
       "      <th>57</th>\n",
       "      <td>7689.841971</td>\n",
       "      <td>3.284678e+02</td>\n",
       "      <td>140.909898</td>\n",
       "      <td>73.224316</td>\n",
       "    </tr>\n",
       "  </tbody>\n",
       "</table>\n",
       "</div>"
      ],
      "text/plain": [
       "              s             h           f          r\n",
       "0   9938.528139  6.147186e+01    5.000000   0.000000\n",
       "1   9920.188126  7.130858e+01    5.630736   5.720995\n",
       "2   9900.825930  8.091627e+01    6.394873   9.385858\n",
       "3   9880.458269  9.025127e+01    7.327453  12.021722\n",
       "4   9859.103819  9.926196e+01    8.472407  14.138010\n",
       "5   9836.783279  1.078851e+02    9.885349  15.987095\n",
       "6   9813.519622  1.160416e+02   11.636949  17.693669\n",
       "7   9789.338536  1.236320e+02   13.816980  19.318935\n",
       "8   9764.269046  1.305311e+02   16.539025  20.892433\n",
       "9   9738.344326  1.365818e+02   19.945656  22.427792\n",
       "10  9711.602709  1.415896e+02   24.213525  23.930493\n",
       "11  9684.088879  1.453178e+02   29.557277  25.401666\n",
       "12  9655.855211  1.474858e+02   36.230350  26.839900\n",
       "13  9626.963137  1.477732e+02   44.519774  28.242081\n",
       "14  9597.484355  1.458347e+02   54.731251  29.603753\n",
       "15  9567.501576  1.413277e+02   67.161151  30.919270\n",
       "16  9537.108426  1.339541e+02   82.055205  32.181900\n",
       "17  9506.408188  1.235096e+02   99.561731  33.383979\n",
       "18  9475.511375  1.099141e+02  119.703059  34.517172\n",
       "19  9444.533055  9.317269e+01  142.417780  35.572820\n",
       "20  9413.592945  7.312793e+01  167.807759  36.542229\n",
       "21  9382.828788  4.835310e+01  197.232234  37.416341\n",
       "22  9355.388683 -2.100687e-09  249.034610  38.113814\n",
       "23  9312.846686  4.489226e+01  214.127781  39.645275\n",
       "24  9290.121803  4.299081e-09  261.426615  40.153602\n",
       "25  9242.302915  2.266643e+01  247.863454  41.619118\n",
       "26  9236.616480  4.283578e-09  270.995192  41.729518\n",
       "27  9139.958853  1.867845e+02  114.158304  45.929390\n",
       "28  9102.317032  1.756891e+02  130.538136  46.851057\n",
       "29  9064.638321  1.622682e+02  148.766245  47.705978\n",
       "30  9027.014721  1.464115e+02  168.913034  48.488251\n",
       "31  8989.543853  1.279530e+02  191.103270  49.191737\n",
       "32  8952.331955  1.065116e+02  215.672326  49.809956\n",
       "33  8915.504125  8.097376e+01  243.674193  50.335569\n",
       "34  8879.245250  4.666338e+01  279.673706  50.758438\n",
       "35  8859.996609 -2.184424e-09  326.793037  50.937660\n",
       "36  8728.338229  3.435971e+02   32.527807  57.629760\n",
       "37  8682.013156  3.477178e+02   34.699514  58.651265\n",
       "38  8635.221018  3.515162e+02   37.041777  59.649633\n",
       "39  8587.982561  3.549744e+02   39.568759  60.624347\n",
       "40  8540.319130  3.580734e+02   42.295761  61.574855\n",
       "41  8492.252727  3.607924e+02   45.239293  62.500560\n",
       "42  8443.806054  3.631091e+02   48.417145  63.400820\n",
       "43  8395.002583  3.649995e+02   51.848458  64.274944\n",
       "44  8345.866605  3.664377e+02   55.553796  65.122185\n",
       "45  8296.423306  3.673961e+02   59.555208  65.941739\n",
       "46  8246.698826  3.678450e+02   63.876286  66.732740\n",
       "47  8196.720341  3.677525e+02   68.542220  67.494254\n",
       "48  8146.516130  3.670848e+02   73.579840  68.225275\n",
       "49  8096.115660  3.658058e+02   79.017647  68.924720\n",
       "50  8045.549666  3.638771e+02   84.885837  69.591426\n",
       "51  7994.850239  3.612580e+02   91.216308  70.224139\n",
       "52  7944.050910  3.579055e+02   98.042669  70.821519\n",
       "53  7893.186745  3.537743e+02  105.400233  71.382123\n",
       "54  7842.294433  3.488165e+02  113.326030  71.904411\n",
       "55  7791.412389  3.429818e+02  121.858833  72.386732\n",
       "56  7740.580846  3.362175e+02  131.039247  72.827327\n",
       "57  7689.841971  3.284678e+02  140.909898  73.224316"
      ]
     },
     "execution_count": 185,
     "metadata": {},
     "output_type": "execute_result"
    }
   ],
   "source": [
    "best_model(best_net_conversion, data, y0, t, av, df=True)"
   ]
  },
  {
   "cell_type": "code",
   "execution_count": 186,
   "id": "79c83a07",
   "metadata": {
    "colab": {
     "base_uri": "https://localhost:8080/",
     "height": 527
    },
    "executionInfo": {
     "elapsed": 796,
     "status": "ok",
     "timestamp": 1623165605566,
     "user": {
      "displayName": "Elio Gruttadauria",
      "photoUrl": "https://lh3.googleusercontent.com/a-/AOh14Ghd29dFmwRrOMapQt64cEJbRKsM7h1QtIfd0OLG5g=s64",
      "userId": "16216760321278748076"
     },
     "user_tz": -120
    },
    "id": "d8Yvx6K9K3Uz",
    "outputId": "deaf5ee6-1655-4e42-fec0-60a9f58f536b"
   },
   "outputs": [
    {
     "name": "stderr",
     "output_type": "stream",
     "text": [
      "C:\\Users\\Sandro\\anaconda3.3\\lib\\site-packages\\scipy\\integrate\\odepack.py:247: ODEintWarning: Excess work done on this call (perhaps wrong Dfun type). Run with full_output = 1 to get quantitative information.\n",
      "  warnings.warn(warning_msg, ODEintWarning)\n"
     ]
    },
    {
     "data": {
      "image/png": "[encoded data removed]",
      "text/plain": [
       "<Figure size 432x288 with 1 Axes>"
      ]
     },
     "metadata": {
      "needs_background": "light"
     },
     "output_type": "display_data"
    },
    {
     "data": {
      "image/png": "[encoded data removed]",
      "text/plain": [
       "<Figure size 432x288 with 1 Axes>"
      ]
     },
     "metadata": {
      "needs_background": "light"
     },
     "output_type": "display_data"
    }
   ],
   "source": [
    "'''\n",
    "4. Compute the best model using the best net conversion value.\n",
    "   Plot the simulated values and the real values.\n",
    "'''\n",
    "\n",
    "best_model(best_net_conversion, data, y0, t, av)"
   ]
  },
  {
   "cell_type": "code",
   "execution_count": 187,
   "id": "abf10600",
   "metadata": {},
   "outputs": [
    {
     "name": "stderr",
     "output_type": "stream",
     "text": [
      "C:\\Users\\Sandro\\anaconda3.3\\lib\\site-packages\\scipy\\integrate\\odepack.py:247: ODEintWarning: Excess work done on this call (perhaps wrong Dfun type). Run with full_output = 1 to get quantitative information.\n",
      "  warnings.warn(warning_msg, ODEintWarning)\n"
     ]
    },
    {
     "name": "stdout",
     "output_type": "stream",
     "text": [
      "Fitting the model 40 times\n",
      "The best value to minimize heroin RSS is at index 34: 222402.72721400877\n",
      "The best value to minimize fentanyl RSS is at index 2: 36572.742312116156\n",
      "The best value to minimize both RSS (i.e. global solution) is at index 25: 1103838.819189677\n",
      "The best net conversion rate is 12.5\n"
     ]
    },
    {
     "data": {
      "image/png": "[encoded data removed]",
      "text/plain": [
       "<Figure size 432x288 with 1 Axes>"
      ]
     },
     "metadata": {
      "needs_background": "light"
     },
     "output_type": "display_data"
    },
    {
     "data": {
      "image/png": "[encoded data removed]",
      "text/plain": [
       "<Figure size 432x288 with 1 Axes>"
      ]
     },
     "metadata": {
      "needs_background": "light"
     },
     "output_type": "display_data"
    }
   ],
   "source": [
    "data = current_users_california\n",
    "\n",
    "'''\n",
    "1. Create time and starting variables\n",
    "'''\n",
    "\n",
    "t, y0 = compute_starting_variables(data)\n",
    "\n",
    "y0\n",
    "\n",
    "# Fentanyl needs to contain at least 1 obs\n",
    "\n",
    "y0 = (y0[0], y0[1], 5.0, y0[3])\n",
    "\n",
    "y0\n",
    "\n",
    "'''\n",
    "2. List of possibile values to try for the conversion rate.\n",
    "   Compute RSS for each value and pick the best one.\n",
    "'''\n",
    "\n",
    "net_conversion_values = list(np.arange(0, 20, 0.5))\n",
    "\n",
    "av = 30\n",
    "\n",
    "'''\n",
    "3. Run model and find best net conversion value\n",
    "'''\n",
    "\n",
    "best_net_conversion = model_tuning(data, y0, t, net_conversion_values, av)\n",
    "\n",
    "best_model(best_net_conversion, data, y0, t, av, df=True)\n",
    "\n",
    "'''\n",
    "4. Compute the best model using the best net conversion value.\n",
    "   Plot the simulated values and the real values.\n",
    "'''\n",
    "\n",
    "best_model(best_net_conversion, data, y0, t, av)"
   ]
  },
  {
   "cell_type": "code",
   "execution_count": 257,
   "id": "11c25043",
   "metadata": {},
   "outputs": [
    {
     "data": {
      "text/plain": [
       "(9930.735930735931, 60.6060606060606, 8.658008658008658, 0)"
      ]
     },
     "execution_count": 257,
     "metadata": {},
     "output_type": "execute_result"
    }
   ],
   "source": [
    "y0"
   ]
  },
  {
   "cell_type": "markdown",
   "id": "28732dfb",
   "metadata": {},
   "source": [
    "## S"
   ]
  },
  {
   "cell_type": "code",
   "execution_count": 278,
   "id": "02de1cac",
   "metadata": {},
   "outputs": [],
   "source": [
    "def sensitivity_analysis_cal(prescription_addiction,illegal_addiction_rate,f_laced_rate,recovery_rate,\n",
    "           relapse_rate,death_rate_heroin,death_rate_fentanyl,net_conversion, av):\n",
    "    import uncertainpy as un\n",
    "    import chaospy as cp # To create distributions\n",
    "    import numpy as np # For the time array\n",
    "    from scipy.integrate import odeint\n",
    "    ndays = 21\n",
    "    \n",
    "    S, H, F, R = (9952.666666666666, 47.333333333333336, 5.0, 0)\n",
    "    N = S+H+F+R\n",
    "    t = range(1, ndays+1, 1) \n",
    "    \n",
    "    def opioids_model(INPUT, t, prescription_addiction,illegal_addiction_rate,f_laced_rate,recovery_rate,\n",
    "           relapse_rate,death_rate_heroin,death_rate_fentanyl,net_conversion, av):\n",
    "\n",
    "        S, H, F, R = INPUT[0], INPUT[1], INPUT[2], INPUT[3]\n",
    "\n",
    "\n",
    "        S_d_t = -(prescription_addiction + illegal_addiction_rate*av*(H+F)/N)*S + death_rate_heroin*H + death_rate_fentanyl*F\n",
    "        H_d_t = (prescription_addiction + illegal_addiction_rate*av*(H+F)/N)*S*(1-f_laced_rate) - f_laced_rate*H - net_conversion*H*F/N - recovery_rate*H + relapse_rate*H*R/N - death_rate_heroin*H\n",
    "        F_d_t = (prescription_addiction + illegal_addiction_rate*av*(H+F)/N)*S*f_laced_rate + f_laced_rate*H + net_conversion*H*F/N - recovery_rate*F + relapse_rate*F*R/N - death_rate_fentanyl*F\n",
    "        R_d_t = recovery_rate*(H+F) - relapse_rate*R\n",
    "\n",
    "        return S_d_t, H_d_t, F_d_t, R_d_t\n",
    "    cases = odeint(opioids_model, (S, H, F, R) , t, args=(prescription_addiction,illegal_addiction_rate,f_laced_rate,recovery_rate,\n",
    "           relapse_rate,death_rate_heroin,death_rate_fentanyl, net_conversion,av) )\n",
    "    return t,cases[:,0]\n",
    "    \n",
    "    \n",
    "    "
   ]
  },
  {
   "cell_type": "code",
   "execution_count": 279,
   "id": "da3d687f",
   "metadata": {},
   "outputs": [],
   "source": [
    "model = un.Model(run = sensitivity_analysis_cal,labels=[\"Time\",\"S\"])"
   ]
  },
  {
   "cell_type": "code",
   "execution_count": 280,
   "id": "4a3d309a",
   "metadata": {},
   "outputs": [],
   "source": [
    "# Normale --> calcolato\n",
    "# Uniforme --> assunto\n",
    "prescription_addiction = cp.Normal(0.001116, 0.001) \n",
    "illegal_addiction_rate = cp.Normal(0.0036, 0.001) \n",
    "f_laced_rate =cp.Uniform(0.05,0.2)\n",
    "recovery_rate =cp.Normal(0.11,0.01)\n",
    "relapse_rate = cp.Normal(0.7,0.01) \n",
    "net_conversion = 5.5\n",
    "av = cp.Normal(30,1)\n",
    "death_rate_heroin = 0.015 #cp.Uniform(0.01,0.02)\n",
    "death_rate_fentanyl = 0.015 #cp.Uniform(0.01,0.02)"
   ]
  },
  {
   "cell_type": "code",
   "execution_count": 281,
   "id": "98eef4fe",
   "metadata": {},
   "outputs": [],
   "source": [
    "parameters = {'prescription_addiction':prescription_addiction,\n",
    " 'illegal_addiction_rate':illegal_addiction_rate,\n",
    " 'f_laced_rate':f_laced_rate,\n",
    " 'recovery_rate':recovery_rate,\n",
    " 'relapse_rate':relapse_rate,\n",
    " 'death_rate_heroin':death_rate_heroin,\n",
    " 'death_rate_fentanyl':death_rate_fentanyl,\n",
    "    'net_conversion':net_conversion,\n",
    "             'av': av}"
   ]
  },
  {
   "cell_type": "code",
   "execution_count": 282,
   "id": "ff32589a",
   "metadata": {},
   "outputs": [],
   "source": [
    "parameters = un.Parameters(parameters)"
   ]
  },
  {
   "cell_type": "code",
   "execution_count": 283,
   "id": "3e14c587",
   "metadata": {},
   "outputs": [
    {
     "name": "stdout",
     "output_type": "stream",
     "text": [
      "On Windows machines everything in your script must be inside of an if __name__ == '__main__': block in order for multiprocess to work.\n"
     ]
    }
   ],
   "source": [
    "UQ_S_cal=un.UncertaintyQuantification(model=model,parameters=parameters)"
   ]
  },
  {
   "cell_type": "code",
   "execution_count": 284,
   "id": "a3678cf9",
   "metadata": {
    "scrolled": true
   },
   "outputs": [
    {
     "name": "stderr",
     "output_type": "stream",
     "text": [
      "chaospy.orth_ttr name is to be deprecated; Use chaospy.expansion.stieltjes instead\n",
      "Running model: 100%|█████████████████████████████████████████████████████████████████| 422/422 [00:10<00:00, 41.22it/s]\n",
      "Calculating PC for each feature: 100%|███████████████████████████████████████████████████| 1/1 [00:00<00:00,  1.97it/s]\n",
      "Calculating statistics from PCE: 100%|█████████████████████████████████████████████████| 1/1 [24:05<00:00, 1445.98s/it]\n"
     ]
    },
    {
     "name": "stdout",
     "output_type": "stream",
     "text": [
      "Saving data as: data\\sensitivity_analysis_cal.h5\n"
     ]
    }
   ],
   "source": [
    "data_S_cal = UQ_S_cal.quantify()"
   ]
  },
  {
   "cell_type": "code",
   "execution_count": 285,
   "id": "e7f3b6e1",
   "metadata": {},
   "outputs": [
    {
     "data": {
      "text/plain": [
       "'In summary, first‐order sensitivity indices as the main effect are used to measure the fractional contribution of\\na single parameter to the output variance. \\nSecond‐order sensitivity indices are used to measure the fractional contribution of parameter interactions \\nto the output variance.'"
      ]
     },
     "execution_count": 285,
     "metadata": {},
     "output_type": "execute_result"
    }
   ],
   "source": [
    "UQ_S_cal.plot(folder='S_cal')\n",
    "\"\"\"In summary, first‐order sensitivity indices as the main effect are used to measure the fractional contribution of\n",
    "a single parameter to the output variance. \n",
    "Second‐order sensitivity indices are used to measure the fractional contribution of parameter interactions \n",
    "to the output variance.\"\"\"\n",
    "\n",
    "#https://www.ncbi.nlm.nih.gov/pmc/articles/PMC5006244/#:~:text=In%20summary%2C%20first%E2%80%90order%20sensitivity,interactions%20to%20the%20output%20variance."
   ]
  },
  {
   "cell_type": "markdown",
   "id": "94f8821c",
   "metadata": {},
   "source": [
    "UQ.plotting.sensitivity_1d(feature=\"sensitivity_analysis\")"
   ]
  },
  {
   "cell_type": "markdown",
   "id": "46698054",
   "metadata": {},
   "source": [
    "UQ.plotting.average_sensitivity_all()"
   ]
  },
  {
   "cell_type": "markdown",
   "id": "5a3d7a40",
   "metadata": {},
   "source": [
    "UQ.plotting.plot_all_sensitivities()"
   ]
  },
  {
   "cell_type": "markdown",
   "id": "6ad00256",
   "metadata": {},
   "source": [
    "UQ.plotting.plot_condensed()"
   ]
  },
  {
   "cell_type": "markdown",
   "id": "c6b5d850",
   "metadata": {},
   "source": [
    "## H"
   ]
  },
  {
   "cell_type": "code",
   "execution_count": 286,
   "id": "c5a1c47f",
   "metadata": {},
   "outputs": [],
   "source": [
    "def sensitivity_analysis_cal(prescription_addiction,illegal_addiction_rate,f_laced_rate,recovery_rate,\n",
    "           relapse_rate,death_rate_heroin,death_rate_fentanyl,net_conversion , av):\n",
    "    import uncertainpy as un\n",
    "    import chaospy as cp # To create distributions\n",
    "    import numpy as np # For the time array\n",
    "    from scipy.integrate import odeint\n",
    "    ndays = 21\n",
    "    \n",
    "    S, H, F, R = (9952.666666666666, 47.333333333333336, 5.0, 0)\n",
    "    N = S+H+F+R\n",
    "    t = range(1, ndays+1, 1) \n",
    "    \n",
    "    def opioids_model(INPUT, t, prescription_addiction,illegal_addiction_rate,f_laced_rate,recovery_rate,\n",
    "           relapse_rate,death_rate_heroin,death_rate_fentanyl,net_conversion, av):\n",
    "\n",
    "        S, H, F, R = INPUT[0], INPUT[1], INPUT[2], INPUT[3]\n",
    "\n",
    "\n",
    "        S_d_t = -(prescription_addiction + illegal_addiction_rate*av*(H+F)/N)*S + death_rate_heroin*H + death_rate_fentanyl*F\n",
    "        H_d_t = (prescription_addiction + illegal_addiction_rate*av*(H+F)/N)*S*(1-f_laced_rate) - f_laced_rate*H - net_conversion*H*F/N - recovery_rate*H + relapse_rate*H*R/N - death_rate_heroin*H\n",
    "        F_d_t = (prescription_addiction + illegal_addiction_rate*av*(H+F)/N)*S*f_laced_rate + f_laced_rate*H + net_conversion*H*F/N - recovery_rate*F + relapse_rate*F*R/N - death_rate_fentanyl*F\n",
    "        R_d_t = recovery_rate*(H+F) - relapse_rate*R\n",
    "\n",
    "        return S_d_t, H_d_t, F_d_t, R_d_t\n",
    "    cases = odeint(opioids_model, (S, H, F, R) , t, args=(prescription_addiction,illegal_addiction_rate,f_laced_rate,recovery_rate,\n",
    "           relapse_rate,death_rate_heroin,death_rate_fentanyl, net_conversion,av) )\n",
    "    return t,cases[:,1]\n",
    "    \n",
    "    "
   ]
  },
  {
   "cell_type": "code",
   "execution_count": 287,
   "id": "a713b4ce",
   "metadata": {},
   "outputs": [],
   "source": [
    "model = un.Model(run = sensitivity_analysis_cal,labels=[\"Time\",\"H\"])"
   ]
  },
  {
   "cell_type": "code",
   "execution_count": 288,
   "id": "db468d0a",
   "metadata": {},
   "outputs": [],
   "source": [
    "# Normale --> calcolato\n",
    "# Uniforme --> assunto\n",
    "prescription_addiction = cp.Normal(0.001116, 0.001) \n",
    "illegal_addiction_rate = cp.Normal(0.0036, 0.001) \n",
    "f_laced_rate =cp.Uniform(0.05,0.2)\n",
    "recovery_rate =cp.Normal(0.11,0.01)\n",
    "relapse_rate = cp.Normal(0.7,0.01) \n",
    "net_conversion = 5.5\n",
    "av = cp.Normal(30,1)\n",
    "death_rate_heroin = 0.015 #cp.Uniform(0.01,0.02)\n",
    "death_rate_fentanyl = 0.015 #cp.Uniform(0.01,0.02)"
   ]
  },
  {
   "cell_type": "code",
   "execution_count": 289,
   "id": "65580f21",
   "metadata": {},
   "outputs": [],
   "source": [
    "parameters = {'prescription_addiction':prescription_addiction,\n",
    " 'illegal_addiction_rate':illegal_addiction_rate,\n",
    " 'f_laced_rate':f_laced_rate,\n",
    " 'recovery_rate':recovery_rate,\n",
    " 'relapse_rate':relapse_rate,\n",
    " 'death_rate_heroin':death_rate_heroin,\n",
    " 'death_rate_fentanyl':death_rate_fentanyl,\n",
    "    'net_conversion':net_conversion,\n",
    "             'av': av}"
   ]
  },
  {
   "cell_type": "code",
   "execution_count": 290,
   "id": "3d6d3dd8",
   "metadata": {},
   "outputs": [],
   "source": [
    "parameters = un.Parameters(parameters)"
   ]
  },
  {
   "cell_type": "code",
   "execution_count": 291,
   "id": "6795ab9f",
   "metadata": {},
   "outputs": [
    {
     "name": "stdout",
     "output_type": "stream",
     "text": [
      "On Windows machines everything in your script must be inside of an if __name__ == '__main__': block in order for multiprocess to work.\n"
     ]
    }
   ],
   "source": [
    "UQ_H_cal = un.UncertaintyQuantification(model=model,parameters=parameters)"
   ]
  },
  {
   "cell_type": "code",
   "execution_count": 292,
   "id": "00c69c04",
   "metadata": {},
   "outputs": [
    {
     "name": "stderr",
     "output_type": "stream",
     "text": [
      "chaospy.orth_ttr name is to be deprecated; Use chaospy.expansion.stieltjes instead\n",
      "Running model: 100%|█████████████████████████████████████████████████████████████████| 422/422 [00:08<00:00, 50.77it/s]\n",
      "Calculating PC for each feature: 100%|███████████████████████████████████████████████████| 1/1 [00:00<00:00,  2.38it/s]\n",
      "Calculating statistics from PCE: 100%|█████████████████████████████████████████████████| 1/1 [24:04<00:00, 1444.60s/it]\n"
     ]
    },
    {
     "name": "stdout",
     "output_type": "stream",
     "text": [
      "Saving data as: data\\sensitivity_analysis_cal.h5\n"
     ]
    }
   ],
   "source": [
    "data_H_cal = UQ_H_cal.quantify()"
   ]
  },
  {
   "cell_type": "code",
   "execution_count": 293,
   "id": "3fa012df",
   "metadata": {},
   "outputs": [
    {
     "data": {
      "text/plain": [
       "'In summary, first‐order sensitivity indices as the main effect are used to measure the fractional contribution of\\na single parameter to the output variance. \\nSecond‐order sensitivity indices are used to measure the fractional contribution of parameter interactions \\nto the output variance.'"
      ]
     },
     "execution_count": 293,
     "metadata": {},
     "output_type": "execute_result"
    }
   ],
   "source": [
    "UQ_H_cal.plot(folder='H_cal')\n",
    "\"\"\"In summary, first‐order sensitivity indices as the main effect are used to measure the fractional contribution of\n",
    "a single parameter to the output variance. \n",
    "Second‐order sensitivity indices are used to measure the fractional contribution of parameter interactions \n",
    "to the output variance.\"\"\"\n",
    "\n",
    "#https://www.ncbi.nlm.nih.gov/pmc/articles/PMC5006244/#:~:text=In%20summary%2C%20first%E2%80%90order%20sensitivity,interactions%20to%20the%20output%20variance."
   ]
  },
  {
   "cell_type": "markdown",
   "id": "091a9fda",
   "metadata": {},
   "source": [
    "UQ.plotting.sensitivity_1d(feature=\"sensitivity_analysis\")"
   ]
  },
  {
   "cell_type": "markdown",
   "id": "64b2bdb5",
   "metadata": {},
   "source": [
    "UQ.plotting.average_sensitivity_all()"
   ]
  },
  {
   "cell_type": "markdown",
   "id": "a00d2098",
   "metadata": {},
   "source": [
    "UQ.plotting.plot_all_sensitivities()"
   ]
  },
  {
   "cell_type": "markdown",
   "id": "3ff31f4c",
   "metadata": {},
   "source": [
    "UQ.plotting.plot_condensed()"
   ]
  },
  {
   "cell_type": "markdown",
   "id": "be557673",
   "metadata": {},
   "source": [
    "## F"
   ]
  },
  {
   "cell_type": "code",
   "execution_count": 294,
   "id": "f9a5acdc",
   "metadata": {},
   "outputs": [],
   "source": [
    "def sensitivity_analysis_cal(prescription_addiction,illegal_addiction_rate,f_laced_rate,recovery_rate,\n",
    "           relapse_rate,death_rate_heroin,death_rate_fentanyl,net_conversion , av):\n",
    "    import uncertainpy as un\n",
    "    import chaospy as cp # To create distributions\n",
    "    import numpy as np # For the time array\n",
    "    from scipy.integrate import odeint\n",
    "    ndays = 21\n",
    "    \n",
    "    S, H, F, R = (9952.666666666666, 47.333333333333336, 5.0, 0)\n",
    "    N = S+H+F+R\n",
    "    t = range(1, ndays+1, 1) \n",
    "    \n",
    "    def opioids_model(INPUT, t, prescription_addiction,illegal_addiction_rate,f_laced_rate,recovery_rate,\n",
    "           relapse_rate,death_rate_heroin,death_rate_fentanyl,net_conversion, av):\n",
    "\n",
    "        S, H, F, R = INPUT[0], INPUT[1], INPUT[2], INPUT[3]\n",
    "\n",
    "\n",
    "        S_d_t = -(prescription_addiction + illegal_addiction_rate*av*(H+F)/N)*S + death_rate_heroin*H + death_rate_fentanyl*F\n",
    "        H_d_t = (prescription_addiction + illegal_addiction_rate*av*(H+F)/N)*S*(1-f_laced_rate) - f_laced_rate*H - net_conversion*H*F/N - recovery_rate*H + relapse_rate*H*R/N - death_rate_heroin*H\n",
    "        F_d_t = (prescription_addiction + illegal_addiction_rate*av*(H+F)/N)*S*f_laced_rate + f_laced_rate*H + net_conversion*H*F/N - recovery_rate*F + relapse_rate*F*R/N - death_rate_fentanyl*F\n",
    "        R_d_t = recovery_rate*(H+F) - relapse_rate*R\n",
    "\n",
    "        return S_d_t, H_d_t, F_d_t, R_d_t\n",
    "    cases = odeint(opioids_model, (S, H, F, R) , t, args=(prescription_addiction,illegal_addiction_rate,f_laced_rate,recovery_rate,\n",
    "           relapse_rate,death_rate_heroin,death_rate_fentanyl, net_conversion,av) )\n",
    "    return t,cases[:,2]\n",
    "    \n",
    "    \n",
    "    "
   ]
  },
  {
   "cell_type": "code",
   "execution_count": 295,
   "id": "525fe455",
   "metadata": {},
   "outputs": [],
   "source": [
    "model = un.Model(run = sensitivity_analysis_cal,labels=[\"Time\",\"F\"])"
   ]
  },
  {
   "cell_type": "code",
   "execution_count": 296,
   "id": "62ee501e",
   "metadata": {},
   "outputs": [],
   "source": [
    "# Normale --> calcolato\n",
    "# Uniforme --> assunto\n",
    "prescription_addiction = cp.Normal(0.001116, 0.001) \n",
    "illegal_addiction_rate = cp.Normal(0.0036, 0.001) \n",
    "f_laced_rate =cp.Uniform(0.05,0.2)\n",
    "recovery_rate =cp.Normal(0.11,0.01)\n",
    "relapse_rate = cp.Normal(0.7,0.01) \n",
    "net_conversion = 5.5\n",
    "av = cp.Normal(30,1)\n",
    "death_rate_heroin = 0.015 #cp.Uniform(0.01,0.02)\n",
    "death_rate_fentanyl = 0.015 #cp.Uniform(0.01,0.02)"
   ]
  },
  {
   "cell_type": "code",
   "execution_count": 297,
   "id": "4ba5442a",
   "metadata": {},
   "outputs": [],
   "source": [
    "parameters = {'prescription_addiction':prescription_addiction,\n",
    " 'illegal_addiction_rate':illegal_addiction_rate,\n",
    " 'f_laced_rate':f_laced_rate,\n",
    " 'recovery_rate':recovery_rate,\n",
    " 'relapse_rate':relapse_rate,\n",
    " 'death_rate_heroin':death_rate_heroin,\n",
    " 'death_rate_fentanyl':death_rate_fentanyl,\n",
    "    'net_conversion':net_conversion,\n",
    "             'av': av}"
   ]
  },
  {
   "cell_type": "code",
   "execution_count": 298,
   "id": "9676905e",
   "metadata": {},
   "outputs": [],
   "source": [
    "parameters = un.Parameters(parameters)"
   ]
  },
  {
   "cell_type": "code",
   "execution_count": 299,
   "id": "b5d04347",
   "metadata": {},
   "outputs": [
    {
     "name": "stdout",
     "output_type": "stream",
     "text": [
      "On Windows machines everything in your script must be inside of an if __name__ == '__main__': block in order for multiprocess to work.\n"
     ]
    }
   ],
   "source": [
    "UQ_F_cal=un.UncertaintyQuantification(model=model,parameters=parameters)"
   ]
  },
  {
   "cell_type": "code",
   "execution_count": 300,
   "id": "7c8f0fb7",
   "metadata": {},
   "outputs": [
    {
     "name": "stderr",
     "output_type": "stream",
     "text": [
      "chaospy.orth_ttr name is to be deprecated; Use chaospy.expansion.stieltjes instead\n",
      "Running model: 100%|█████████████████████████████████████████████████████████████████| 422/422 [00:06<00:00, 62.93it/s]\n",
      "Calculating PC for each feature: 100%|███████████████████████████████████████████████████| 1/1 [00:00<00:00,  2.11it/s]\n",
      "Calculating statistics from PCE: 100%|█████████████████████████████████████████████████| 1/1 [24:32<00:00, 1472.66s/it]\n"
     ]
    },
    {
     "name": "stdout",
     "output_type": "stream",
     "text": [
      "Saving data as: data\\sensitivity_analysis_cal.h5\n"
     ]
    }
   ],
   "source": [
    "data_F_cal = UQ_F_cal.quantify()"
   ]
  },
  {
   "cell_type": "code",
   "execution_count": 301,
   "id": "3e4ff373",
   "metadata": {},
   "outputs": [
    {
     "data": {
      "text/plain": [
       "'In summary, first‐order sensitivity indices as the main effect are used to measure the fractional contribution of\\na single parameter to the output variance. \\nSecond‐order sensitivity indices are used to measure the fractional contribution of parameter interactions \\nto the output variance.'"
      ]
     },
     "execution_count": 301,
     "metadata": {},
     "output_type": "execute_result"
    }
   ],
   "source": [
    "UQ_F_cal.plot(folder='F_cal')\n",
    "\"\"\"In summary, first‐order sensitivity indices as the main effect are used to measure the fractional contribution of\n",
    "a single parameter to the output variance. \n",
    "Second‐order sensitivity indices are used to measure the fractional contribution of parameter interactions \n",
    "to the output variance.\"\"\"\n",
    "\n",
    "#https://www.ncbi.nlm.nih.gov/pmc/articles/PMC5006244/#:~:text=In%20summary%2C%20first%E2%80%90order%20sensitivity,interactions%20to%20the%20output%20variance."
   ]
  },
  {
   "cell_type": "markdown",
   "id": "505d1571",
   "metadata": {},
   "source": [
    "UQ.plotting.sensitivity_1d(feature=\"sensitivity_analysis\")"
   ]
  },
  {
   "cell_type": "markdown",
   "id": "647f6ab2",
   "metadata": {},
   "source": [
    "UQ.plotting.average_sensitivity_all()"
   ]
  },
  {
   "cell_type": "markdown",
   "id": "c4dc75a1",
   "metadata": {},
   "source": [
    "UQ.plotting.plot_all_sensitivities()"
   ]
  },
  {
   "cell_type": "markdown",
   "id": "eec6f6ee",
   "metadata": {},
   "source": [
    "UQ.plotting.plot_condensed()"
   ]
  },
  {
   "cell_type": "markdown",
   "id": "298ef45b",
   "metadata": {},
   "source": [
    "## R"
   ]
  },
  {
   "cell_type": "code",
   "execution_count": 302,
   "id": "59af44eb",
   "metadata": {},
   "outputs": [],
   "source": [
    "def sensitivity_analysis_cal(prescription_addiction,illegal_addiction_rate,f_laced_rate,recovery_rate,\n",
    "           relapse_rate,death_rate_heroin,death_rate_fentanyl,net_conversion, av):\n",
    "    import uncertainpy as un\n",
    "    import chaospy as cp # To create distributions\n",
    "    import numpy as np # For the time array\n",
    "    from scipy.integrate import odeint\n",
    "    ndays = 21\n",
    "    \n",
    "    S, H, F, R = (9952.666666666666, 47.333333333333336, 5.0, 0)\n",
    "    N = S+H+F+R\n",
    "    t = range(1, ndays+1, 1) \n",
    "    \n",
    "    def opioids_model(INPUT, t, prescription_addiction,illegal_addiction_rate,f_laced_rate,recovery_rate,\n",
    "           relapse_rate,death_rate_heroin,death_rate_fentanyl,net_conversion, av):\n",
    "\n",
    "        S, H, F, R = INPUT[0], INPUT[1], INPUT[2], INPUT[3]\n",
    "\n",
    "\n",
    "        S_d_t = -(prescription_addiction + illegal_addiction_rate*av*(H+F)/N)*S + death_rate_heroin*H + death_rate_fentanyl*F\n",
    "        H_d_t = (prescription_addiction + illegal_addiction_rate*av*(H+F)/N)*S*(1-f_laced_rate) - f_laced_rate*H - net_conversion*H*F/N - recovery_rate*H + relapse_rate*H*R/N - death_rate_heroin*H\n",
    "        F_d_t = (prescription_addiction + illegal_addiction_rate*av*(H+F)/N)*S*f_laced_rate + f_laced_rate*H + net_conversion*H*F/N - recovery_rate*F + relapse_rate*F*R/N - death_rate_fentanyl*F\n",
    "        R_d_t = recovery_rate*(H+F) - relapse_rate*R\n",
    "\n",
    "        return S_d_t, H_d_t, F_d_t, R_d_t\n",
    "    cases = odeint(opioids_model, (S, H, F, R) , t, args=(prescription_addiction,illegal_addiction_rate,f_laced_rate,recovery_rate,\n",
    "           relapse_rate,death_rate_heroin,death_rate_fentanyl, net_conversion,av) )\n",
    "    return t,cases[:,3]\n",
    "    \n",
    "    "
   ]
  },
  {
   "cell_type": "code",
   "execution_count": 303,
   "id": "86899635",
   "metadata": {},
   "outputs": [],
   "source": [
    "model = un.Model(run = sensitivity_analysis_cal,labels=[\"Time\",\"R\"])"
   ]
  },
  {
   "cell_type": "code",
   "execution_count": 304,
   "id": "130bbcab",
   "metadata": {},
   "outputs": [],
   "source": [
    "# Normale --> calcolato\n",
    "# Uniforme --> assunto\n",
    "prescription_addiction = cp.Normal(0.001116, 0.001) \n",
    "illegal_addiction_rate = cp.Normal(0.0036, 0.001) \n",
    "f_laced_rate =cp.Uniform(0.05,0.2)\n",
    "recovery_rate =cp.Normal(0.11,0.01)\n",
    "relapse_rate = cp.Normal(0.7,0.01) \n",
    "net_conversion = 5.5\n",
    "av = cp.Normal(30,1)\n",
    "death_rate_heroin = 0.015 #cp.Uniform(0.01,0.02)\n",
    "death_rate_fentanyl = 0.015 #cp.Uniform(0.01,0.02)"
   ]
  },
  {
   "cell_type": "code",
   "execution_count": 305,
   "id": "67c947c9",
   "metadata": {},
   "outputs": [],
   "source": [
    "parameters = {'prescription_addiction':prescription_addiction,\n",
    " 'illegal_addiction_rate':illegal_addiction_rate,\n",
    " 'f_laced_rate':f_laced_rate,\n",
    " 'recovery_rate':recovery_rate,\n",
    " 'relapse_rate':relapse_rate,\n",
    " 'death_rate_heroin':death_rate_heroin,\n",
    " 'death_rate_fentanyl':death_rate_fentanyl,\n",
    "    'net_conversion':net_conversion,\n",
    "             'av': av}"
   ]
  },
  {
   "cell_type": "code",
   "execution_count": 306,
   "id": "4ba16ccd",
   "metadata": {},
   "outputs": [],
   "source": [
    "parameters = un.Parameters(parameters)"
   ]
  },
  {
   "cell_type": "code",
   "execution_count": 307,
   "id": "98180d90",
   "metadata": {},
   "outputs": [
    {
     "name": "stdout",
     "output_type": "stream",
     "text": [
      "On Windows machines everything in your script must be inside of an if __name__ == '__main__': block in order for multiprocess to work.\n"
     ]
    }
   ],
   "source": [
    "UQ_R_cal=un.UncertaintyQuantification(model=model,parameters=parameters)"
   ]
  },
  {
   "cell_type": "code",
   "execution_count": 308,
   "id": "76ea1e4e",
   "metadata": {},
   "outputs": [
    {
     "name": "stderr",
     "output_type": "stream",
     "text": [
      "chaospy.orth_ttr name is to be deprecated; Use chaospy.expansion.stieltjes instead\n",
      "Running model: 100%|█████████████████████████████████████████████████████████████████| 422/422 [00:06<00:00, 62.02it/s]\n",
      "Calculating PC for each feature: 100%|███████████████████████████████████████████████████| 1/1 [00:00<00:00,  2.24it/s]\n",
      "Calculating statistics from PCE: 100%|█████████████████████████████████████████████████| 1/1 [20:55<00:00, 1255.70s/it]\n"
     ]
    },
    {
     "name": "stdout",
     "output_type": "stream",
     "text": [
      "Saving data as: data\\sensitivity_analysis_cal.h5\n"
     ]
    }
   ],
   "source": [
    "data_R_cal = UQ_R_cal.quantify()"
   ]
  },
  {
   "cell_type": "code",
   "execution_count": 309,
   "id": "7a74d859",
   "metadata": {},
   "outputs": [
    {
     "data": {
      "text/plain": [
       "'In summary, first‐order sensitivity indices as the main effect are used to measure the fractional contribution of\\na single parameter to the output variance. \\nSecond‐order sensitivity indices are used to measure the fractional contribution of parameter interactions \\nto the output variance.'"
      ]
     },
     "execution_count": 309,
     "metadata": {},
     "output_type": "execute_result"
    }
   ],
   "source": [
    "UQ_R_cal.plot(folder='R')\n",
    "\"\"\"In summary, first‐order sensitivity indices as the main effect are used to measure the fractional contribution of\n",
    "a single parameter to the output variance. \n",
    "Second‐order sensitivity indices are used to measure the fractional contribution of parameter interactions \n",
    "to the output variance.\"\"\"\n",
    "\n",
    "#https://www.ncbi.nlm.nih.gov/pmc/articles/PMC5006244/#:~:text=In%20summary%2C%20first%E2%80%90order%20sensitivity,interactions%20to%20the%20output%20variance."
   ]
  },
  {
   "cell_type": "markdown",
   "id": "b0ae8a69",
   "metadata": {},
   "source": [
    "UQ.plotting.sensitivity_1d(feature=\"sensitivity_analysis\")"
   ]
  },
  {
   "cell_type": "markdown",
   "id": "4df60e9f",
   "metadata": {},
   "source": [
    "UQ.plotting.average_sensitivity_all()"
   ]
  },
  {
   "cell_type": "markdown",
   "id": "54d81103",
   "metadata": {},
   "source": [
    "UQ.plotting.plot_all_sensitivities()"
   ]
  },
  {
   "cell_type": "markdown",
   "id": "89d89143",
   "metadata": {},
   "source": [
    "UQ.plotting.plot_condensed()"
   ]
  },
  {
   "cell_type": "code",
   "execution_count": 68,
   "id": "737c1a51",
   "metadata": {},
   "outputs": [],
   "source": [
    "def opioids_model(INPUT, t, prescription_addiction,illegal_addiction_rate,f_laced_rate,recovery_rate,\n",
    "           relapse_rate,death_rate_heroin,death_rate_fentanyl, net_conversion,availability, death_rate_natural):\n",
    "    \n",
    "    S, H, F, R = INPUT[0], INPUT[1], INPUT[2], INPUT[3]\n",
    "    \n",
    "    S_d_t = -(prescription_addiction + illegal_addiction_rate*availability*(H+F)/N)*S + death_rate_heroin*H + death_rate_fentanyl*F\n",
    "    H_d_t = (prescription_addiction + illegal_addiction_rate*availability*(H+F)/N)*S*(1-f_laced_rate) - f_laced_rate*H - net_conversion*H*F/N - recovery_rate*H + relapse_rate*H*R/N - death_rate_heroin*H\n",
    "    F_d_t = (prescription_addiction + illegal_addiction_rate*availability*(H+F)/N)*S*f_laced_rate + f_laced_rate*H + net_conversion*H*F/N - recovery_rate*F + relapse_rate*F*R/N - death_rate_fentanyl*F\n",
    "    R_d_t = recovery_rate*(H+F) - relapse_rate*R\n",
    "    \n",
    "    return S_d_t, H_d_t, F_d_t, R_d_t"
   ]
  },
  {
   "cell_type": "code",
   "execution_count": 64,
   "id": "f43ec7d2",
   "metadata": {},
   "outputs": [
    {
     "data": {
      "text/plain": [
       "array(0.)"
      ]
     },
     "execution_count": 64,
     "metadata": {},
     "output_type": "execute_result"
    }
   ],
   "source": [
    "cp.Normal(0.1,0.005)"
   ]
  },
  {
   "cell_type": "code",
   "execution_count": 97,
   "id": "3b33b2f5",
   "metadata": {},
   "outputs": [],
   "source": [
    "def variability(parametro):\n",
    "    \n",
    "    ndays = 21\n",
    "    S, H, F, R = (99960.64333519242, 36.356664807585055, 2.9999999999999996, 0)\n",
    "    N = S+H+F+R\n",
    "    t = range(1, ndays+1, 1)\n",
    "    \n",
    "    # Normale --> calcolato\n",
    "    # Uniforme --> assunto\n",
    "    prescription_addiction = 0.0036\n",
    "    illegal_addiction_rate = 0.5 \n",
    "    f_laced_rate = 0.5\n",
    "    recovery_rate = 0.11 #[0.09,0.11] 0.04\n",
    "    relapse_rate = 0.7 #[0.6,0.8] 0.05\n",
    "    net_conversion = best_net_conversion\n",
    "    availability = global_availability_ratio\n",
    "    death_rate_heroin = 0.015 \n",
    "    #death_rate_fentanyl = parametro #[0.09,0.11]\n",
    "    death_rate_natural = death_rate_prescription_opioids\n",
    "    \n",
    "    \n",
    "    laced_exponent = -24.52*(F/H - 0.3)\n",
    "    f_laced_rate = f_laced_rate/ (1 + np.exp(laced_exponent))\n",
    "    \n",
    "    \n",
    "    \n",
    "    #_______________\n",
    "    death_rate_heroin = death_rate_heroin - death_rate_natural\n",
    "    #death_rate_fentanyl = death_rate_fentanyl - death_rate_natural\n",
    "    \n",
    "    i = 0\n",
    "    for death_rate_fentanyl in parametro:\n",
    "        cases = odeint(opioids_model, (S, H, F, R) , t, args=(prescription_addiction,illegal_addiction_rate,f_laced_rate,recovery_rate,\n",
    "               relapse_rate,death_rate_heroin,death_rate_fentanyl, net_conversion,availability, death_rate_natural) )\n",
    "        death_rate_fentanyl = death_rate_fentanyl - death_rate_natural\n",
    "        if i ==0:\n",
    "            a = pd.DataFrame(cases[:,3])\n",
    "            i=i+1\n",
    "        else:\n",
    "            a = pd.concat([a,pd.DataFrame(cases[:,3])],axis=1)\n",
    "    #a[\"mean\"] = a.mean(axis=0)\n",
    "    return t,a"
   ]
  },
  {
   "cell_type": "code",
   "execution_count": 126,
   "id": "7d93a0cd",
   "metadata": {},
   "outputs": [],
   "source": [
    "paramatro = np.linspace(0,1,1000)"
   ]
  },
  {
   "cell_type": "code",
   "execution_count": 127,
   "id": "6bf60152",
   "metadata": {},
   "outputs": [],
   "source": [
    "t,df = variability(paramatro)"
   ]
  },
  {
   "cell_type": "code",
   "execution_count": 128,
   "id": "1afb89f8",
   "metadata": {},
   "outputs": [
    {
     "data": {
      "text/html": [
       "<div>\n",
       "<style scoped>\n",
       "    .dataframe tbody tr th:only-of-type {\n",
       "        vertical-align: middle;\n",
       "    }\n",
       "\n",
       "    .dataframe tbody tr th {\n",
       "        vertical-align: top;\n",
       "    }\n",
       "\n",
       "    .dataframe thead th {\n",
       "        text-align: right;\n",
       "    }\n",
       "</style>\n",
       "<table border=\"1\" class=\"dataframe\">\n",
       "  <thead>\n",
       "    <tr style=\"text-align: right;\">\n",
       "      <th></th>\n",
       "      <th>0</th>\n",
       "      <th>0</th>\n",
       "      <th>0</th>\n",
       "      <th>0</th>\n",
       "      <th>0</th>\n",
       "      <th>0</th>\n",
       "      <th>0</th>\n",
       "      <th>0</th>\n",
       "      <th>0</th>\n",
       "      <th>0</th>\n",
       "      <th>...</th>\n",
       "      <th>0</th>\n",
       "      <th>0</th>\n",
       "      <th>0</th>\n",
       "      <th>0</th>\n",
       "      <th>0</th>\n",
       "      <th>0</th>\n",
       "      <th>0</th>\n",
       "      <th>0</th>\n",
       "      <th>0</th>\n",
       "      <th>0</th>\n",
       "    </tr>\n",
       "  </thead>\n",
       "  <tbody>\n",
       "    <tr>\n",
       "      <th>0</th>\n",
       "      <td>0.000000</td>\n",
       "      <td>0.000000</td>\n",
       "      <td>0.000000</td>\n",
       "      <td>0.000000</td>\n",
       "      <td>0.000000</td>\n",
       "      <td>0.000000</td>\n",
       "      <td>0.000000</td>\n",
       "      <td>0.000000</td>\n",
       "      <td>0.000000</td>\n",
       "      <td>0.000000</td>\n",
       "      <td>...</td>\n",
       "      <td>0.000000</td>\n",
       "      <td>0.000000</td>\n",
       "      <td>0.000000</td>\n",
       "      <td>0.000000</td>\n",
       "      <td>0.000000</td>\n",
       "      <td>0.000000</td>\n",
       "      <td>0.000000</td>\n",
       "      <td>0.000000</td>\n",
       "      <td>0.000000</td>\n",
       "      <td>0.000000</td>\n",
       "    </tr>\n",
       "    <tr>\n",
       "      <th>1</th>\n",
       "      <td>5596.326388</td>\n",
       "      <td>5596.090115</td>\n",
       "      <td>5595.853846</td>\n",
       "      <td>5595.617583</td>\n",
       "      <td>5595.381324</td>\n",
       "      <td>5595.145070</td>\n",
       "      <td>5594.908820</td>\n",
       "      <td>5594.672575</td>\n",
       "      <td>5594.436335</td>\n",
       "      <td>5594.200100</td>\n",
       "      <td>...</td>\n",
       "      <td>5364.753431</td>\n",
       "      <td>5364.521933</td>\n",
       "      <td>5364.290441</td>\n",
       "      <td>5364.058963</td>\n",
       "      <td>5363.827481</td>\n",
       "      <td>5363.595985</td>\n",
       "      <td>5363.364512</td>\n",
       "      <td>5363.133054</td>\n",
       "      <td>5362.901591</td>\n",
       "      <td>5362.670130</td>\n",
       "    </tr>\n",
       "    <tr>\n",
       "      <th>2</th>\n",
       "      <td>10004.895981</td>\n",
       "      <td>10004.435862</td>\n",
       "      <td>10003.975796</td>\n",
       "      <td>10003.515745</td>\n",
       "      <td>10003.055547</td>\n",
       "      <td>10002.595604</td>\n",
       "      <td>10002.135413</td>\n",
       "      <td>10001.675480</td>\n",
       "      <td>10001.215096</td>\n",
       "      <td>10000.755469</td>\n",
       "      <td>...</td>\n",
       "      <td>9553.257824</td>\n",
       "      <td>9552.805799</td>\n",
       "      <td>9552.353499</td>\n",
       "      <td>9551.901478</td>\n",
       "      <td>9551.449158</td>\n",
       "      <td>9550.997158</td>\n",
       "      <td>9550.544878</td>\n",
       "      <td>9550.092951</td>\n",
       "      <td>9549.640276</td>\n",
       "      <td>9549.188774</td>\n",
       "    </tr>\n",
       "    <tr>\n",
       "      <th>3</th>\n",
       "      <td>11908.963876</td>\n",
       "      <td>11908.383716</td>\n",
       "      <td>11907.803518</td>\n",
       "      <td>11907.223451</td>\n",
       "      <td>11906.643308</td>\n",
       "      <td>11906.063260</td>\n",
       "      <td>11905.483143</td>\n",
       "      <td>11904.903119</td>\n",
       "      <td>11904.323256</td>\n",
       "      <td>11903.743045</td>\n",
       "      <td>...</td>\n",
       "      <td>11340.497492</td>\n",
       "      <td>11339.929612</td>\n",
       "      <td>11339.361286</td>\n",
       "      <td>11338.793158</td>\n",
       "      <td>11338.225022</td>\n",
       "      <td>11337.656981</td>\n",
       "      <td>11337.088920</td>\n",
       "      <td>11336.520937</td>\n",
       "      <td>11335.952954</td>\n",
       "      <td>11335.384849</td>\n",
       "    </tr>\n",
       "    <tr>\n",
       "      <th>4</th>\n",
       "      <td>12670.931374</td>\n",
       "      <td>12670.273360</td>\n",
       "      <td>12669.615315</td>\n",
       "      <td>12668.957533</td>\n",
       "      <td>12668.299477</td>\n",
       "      <td>12667.641621</td>\n",
       "      <td>12666.983671</td>\n",
       "      <td>12666.325561</td>\n",
       "      <td>12665.668643</td>\n",
       "      <td>12665.010100</td>\n",
       "      <td>...</td>\n",
       "      <td>12028.032040</td>\n",
       "      <td>12027.391524</td>\n",
       "      <td>12026.750782</td>\n",
       "      <td>12026.110344</td>\n",
       "      <td>12025.469808</td>\n",
       "      <td>12024.829328</td>\n",
       "      <td>12024.188493</td>\n",
       "      <td>12023.547967</td>\n",
       "      <td>12022.907407</td>\n",
       "      <td>12022.267229</td>\n",
       "    </tr>\n",
       "    <tr>\n",
       "      <th>5</th>\n",
       "      <td>12906.088957</td>\n",
       "      <td>12905.369596</td>\n",
       "      <td>12904.650171</td>\n",
       "      <td>12903.931209</td>\n",
       "      <td>12903.211578</td>\n",
       "      <td>12902.492616</td>\n",
       "      <td>12901.773024</td>\n",
       "      <td>12901.053955</td>\n",
       "      <td>12900.335312</td>\n",
       "      <td>12899.615651</td>\n",
       "      <td>...</td>\n",
       "      <td>12205.718971</td>\n",
       "      <td>12205.023411</td>\n",
       "      <td>12204.327993</td>\n",
       "      <td>12203.633000</td>\n",
       "      <td>12202.937537</td>\n",
       "      <td>12202.242451</td>\n",
       "      <td>12201.546889</td>\n",
       "      <td>12200.851656</td>\n",
       "      <td>12200.156717</td>\n",
       "      <td>12199.461456</td>\n",
       "    </tr>\n",
       "    <tr>\n",
       "      <th>6</th>\n",
       "      <td>12893.442652</td>\n",
       "      <td>12892.667745</td>\n",
       "      <td>12891.892772</td>\n",
       "      <td>12891.117875</td>\n",
       "      <td>12890.342953</td>\n",
       "      <td>12889.568145</td>\n",
       "      <td>12888.793302</td>\n",
       "      <td>12888.018533</td>\n",
       "      <td>12887.244114</td>\n",
       "      <td>12886.469088</td>\n",
       "      <td>...</td>\n",
       "      <td>12142.061416</td>\n",
       "      <td>12141.318454</td>\n",
       "      <td>12140.575476</td>\n",
       "      <td>12139.832888</td>\n",
       "      <td>12139.089913</td>\n",
       "      <td>12138.347169</td>\n",
       "      <td>12137.604408</td>\n",
       "      <td>12136.861667</td>\n",
       "      <td>12136.119172</td>\n",
       "      <td>12135.376347</td>\n",
       "    </tr>\n",
       "    <tr>\n",
       "      <th>7</th>\n",
       "      <td>12759.732728</td>\n",
       "      <td>12758.904084</td>\n",
       "      <td>12758.074930</td>\n",
       "      <td>12757.245890</td>\n",
       "      <td>12756.417151</td>\n",
       "      <td>12755.588242</td>\n",
       "      <td>12754.759478</td>\n",
       "      <td>12753.930741</td>\n",
       "      <td>12753.102085</td>\n",
       "      <td>12752.273722</td>\n",
       "      <td>...</td>\n",
       "      <td>11959.637839</td>\n",
       "      <td>11958.850536</td>\n",
       "      <td>11958.063096</td>\n",
       "      <td>11957.275837</td>\n",
       "      <td>11956.488639</td>\n",
       "      <td>11955.701237</td>\n",
       "      <td>11954.914001</td>\n",
       "      <td>11954.126824</td>\n",
       "      <td>11953.339666</td>\n",
       "      <td>11952.552616</td>\n",
       "    </tr>\n",
       "    <tr>\n",
       "      <th>8</th>\n",
       "      <td>12562.568039</td>\n",
       "      <td>12561.685576</td>\n",
       "      <td>12560.802340</td>\n",
       "      <td>12559.919408</td>\n",
       "      <td>12559.036841</td>\n",
       "      <td>12558.153974</td>\n",
       "      <td>12557.271340</td>\n",
       "      <td>12556.388728</td>\n",
       "      <td>12555.506242</td>\n",
       "      <td>12554.623906</td>\n",
       "      <td>...</td>\n",
       "      <td>11714.594798</td>\n",
       "      <td>11713.764832</td>\n",
       "      <td>11712.934234</td>\n",
       "      <td>11712.103967</td>\n",
       "      <td>11711.273819</td>\n",
       "      <td>11710.443738</td>\n",
       "      <td>11709.613352</td>\n",
       "      <td>11708.783271</td>\n",
       "      <td>11707.953262</td>\n",
       "      <td>11707.123387</td>\n",
       "    </tr>\n",
       "    <tr>\n",
       "      <th>9</th>\n",
       "      <td>12328.148222</td>\n",
       "      <td>12327.211753</td>\n",
       "      <td>12326.274249</td>\n",
       "      <td>12325.336984</td>\n",
       "      <td>12324.400220</td>\n",
       "      <td>12323.463227</td>\n",
       "      <td>12322.526627</td>\n",
       "      <td>12321.589723</td>\n",
       "      <td>12320.653262</td>\n",
       "      <td>12319.716491</td>\n",
       "      <td>...</td>\n",
       "      <td>11432.826538</td>\n",
       "      <td>11431.954727</td>\n",
       "      <td>11431.082520</td>\n",
       "      <td>11430.210550</td>\n",
       "      <td>11429.338550</td>\n",
       "      <td>11428.467204</td>\n",
       "      <td>11427.595103</td>\n",
       "      <td>11426.723372</td>\n",
       "      <td>11425.851849</td>\n",
       "      <td>11424.980218</td>\n",
       "    </tr>\n",
       "    <tr>\n",
       "      <th>10</th>\n",
       "      <td>12068.426251</td>\n",
       "      <td>12067.435176</td>\n",
       "      <td>12066.443694</td>\n",
       "      <td>12065.452139</td>\n",
       "      <td>12064.461436</td>\n",
       "      <td>12063.469859</td>\n",
       "      <td>12062.479228</td>\n",
       "      <td>12061.487913</td>\n",
       "      <td>12060.497488</td>\n",
       "      <td>12059.506325</td>\n",
       "      <td>...</td>\n",
       "      <td>11126.486143</td>\n",
       "      <td>11125.573832</td>\n",
       "      <td>11124.661535</td>\n",
       "      <td>11123.749480</td>\n",
       "      <td>11122.837297</td>\n",
       "      <td>11121.925527</td>\n",
       "      <td>11121.013596</td>\n",
       "      <td>11120.101687</td>\n",
       "      <td>11119.190185</td>\n",
       "      <td>11118.278269</td>\n",
       "    </tr>\n",
       "    <tr>\n",
       "      <th>11</th>\n",
       "      <td>11788.935056</td>\n",
       "      <td>11787.889738</td>\n",
       "      <td>11786.844427</td>\n",
       "      <td>11785.799034</td>\n",
       "      <td>11784.754313</td>\n",
       "      <td>11783.708855</td>\n",
       "      <td>11782.664168</td>\n",
       "      <td>11781.619116</td>\n",
       "      <td>11780.574805</td>\n",
       "      <td>11779.529954</td>\n",
       "      <td>...</td>\n",
       "      <td>10801.536969</td>\n",
       "      <td>10800.586188</td>\n",
       "      <td>10799.636002</td>\n",
       "      <td>10798.685364</td>\n",
       "      <td>10797.734875</td>\n",
       "      <td>10796.784700</td>\n",
       "      <td>10795.834851</td>\n",
       "      <td>10794.884730</td>\n",
       "      <td>10793.934687</td>\n",
       "      <td>10792.984640</td>\n",
       "    </tr>\n",
       "    <tr>\n",
       "      <th>12</th>\n",
       "      <td>11492.365368</td>\n",
       "      <td>11491.266721</td>\n",
       "      <td>11490.168444</td>\n",
       "      <td>11489.070063</td>\n",
       "      <td>11487.972099</td>\n",
       "      <td>11486.873775</td>\n",
       "      <td>11485.775787</td>\n",
       "      <td>11484.677999</td>\n",
       "      <td>11483.580482</td>\n",
       "      <td>11482.483028</td>\n",
       "      <td>...</td>\n",
       "      <td>10461.212007</td>\n",
       "      <td>10460.225139</td>\n",
       "      <td>10459.239030</td>\n",
       "      <td>10458.252661</td>\n",
       "      <td>10457.266395</td>\n",
       "      <td>10456.280246</td>\n",
       "      <td>10455.294783</td>\n",
       "      <td>10454.308881</td>\n",
       "      <td>10453.322857</td>\n",
       "      <td>10452.337110</td>\n",
       "    </tr>\n",
       "    <tr>\n",
       "      <th>13</th>\n",
       "      <td>11180.207516</td>\n",
       "      <td>11179.057237</td>\n",
       "      <td>11177.907318</td>\n",
       "      <td>11176.757401</td>\n",
       "      <td>11175.607787</td>\n",
       "      <td>11174.458037</td>\n",
       "      <td>11173.308599</td>\n",
       "      <td>11172.159302</td>\n",
       "      <td>11171.010154</td>\n",
       "      <td>11169.861495</td>\n",
       "      <td>...</td>\n",
       "      <td>10107.599799</td>\n",
       "      <td>10106.580114</td>\n",
       "      <td>10105.561040</td>\n",
       "      <td>10104.541836</td>\n",
       "      <td>10103.522869</td>\n",
       "      <td>10102.503867</td>\n",
       "      <td>10101.485592</td>\n",
       "      <td>10100.466902</td>\n",
       "      <td>10099.448066</td>\n",
       "      <td>10098.429542</td>\n",
       "    </tr>\n",
       "    <tr>\n",
       "      <th>14</th>\n",
       "      <td>10853.507959</td>\n",
       "      <td>10852.308258</td>\n",
       "      <td>10851.108894</td>\n",
       "      <td>10849.909639</td>\n",
       "      <td>10848.710898</td>\n",
       "      <td>10847.511594</td>\n",
       "      <td>10846.312868</td>\n",
       "      <td>10845.114229</td>\n",
       "      <td>10843.915744</td>\n",
       "      <td>10842.717733</td>\n",
       "      <td>...</td>\n",
       "      <td>9742.371066</td>\n",
       "      <td>9741.322179</td>\n",
       "      <td>9740.273731</td>\n",
       "      <td>9739.225245</td>\n",
       "      <td>9738.177030</td>\n",
       "      <td>9737.128770</td>\n",
       "      <td>9736.081196</td>\n",
       "      <td>9735.033289</td>\n",
       "      <td>9733.985165</td>\n",
       "      <td>9732.937614</td>\n",
       "    </tr>\n",
       "    <tr>\n",
       "      <th>15</th>\n",
       "      <td>10513.219434</td>\n",
       "      <td>10511.973273</td>\n",
       "      <td>10510.727362</td>\n",
       "      <td>10509.481578</td>\n",
       "      <td>10508.236455</td>\n",
       "      <td>10506.990697</td>\n",
       "      <td>10505.745566</td>\n",
       "      <td>10504.500569</td>\n",
       "      <td>10503.255649</td>\n",
       "      <td>10502.011289</td>\n",
       "      <td>...</td>\n",
       "      <td>9367.105778</td>\n",
       "      <td>9366.031751</td>\n",
       "      <td>9364.958025</td>\n",
       "      <td>9363.884390</td>\n",
       "      <td>9362.811189</td>\n",
       "      <td>9361.737651</td>\n",
       "      <td>9360.664864</td>\n",
       "      <td>9359.591841</td>\n",
       "      <td>9358.518675</td>\n",
       "      <td>9357.446025</td>\n",
       "    </tr>\n",
       "    <tr>\n",
       "      <th>16</th>\n",
       "      <td>10160.362771</td>\n",
       "      <td>10159.073690</td>\n",
       "      <td>10157.784949</td>\n",
       "      <td>10156.496303</td>\n",
       "      <td>10155.208317</td>\n",
       "      <td>10153.919777</td>\n",
       "      <td>10152.631847</td>\n",
       "      <td>10151.344086</td>\n",
       "      <td>10150.056465</td>\n",
       "      <td>10148.769329</td>\n",
       "      <td>...</td>\n",
       "      <td>8983.435009</td>\n",
       "      <td>8982.340365</td>\n",
       "      <td>8981.246021</td>\n",
       "      <td>8980.151794</td>\n",
       "      <td>8979.058059</td>\n",
       "      <td>8977.963866</td>\n",
       "      <td>8976.870450</td>\n",
       "      <td>8975.776899</td>\n",
       "      <td>8974.683326</td>\n",
       "      <td>8973.590230</td>\n",
       "    </tr>\n",
       "    <tr>\n",
       "      <th>17</th>\n",
       "      <td>9796.099067</td>\n",
       "      <td>9794.771446</td>\n",
       "      <td>9793.444169</td>\n",
       "      <td>9792.116961</td>\n",
       "      <td>9790.790488</td>\n",
       "      <td>9789.463481</td>\n",
       "      <td>9788.137179</td>\n",
       "      <td>9786.810990</td>\n",
       "      <td>9785.484964</td>\n",
       "      <td>9784.159517</td>\n",
       "      <td>...</td>\n",
       "      <td>8593.092770</td>\n",
       "      <td>8591.982604</td>\n",
       "      <td>8590.872622</td>\n",
       "      <td>8589.762860</td>\n",
       "      <td>8588.653497</td>\n",
       "      <td>8587.543860</td>\n",
       "      <td>8586.434736</td>\n",
       "      <td>8585.325690</td>\n",
       "      <td>8584.216843</td>\n",
       "      <td>8583.108239</td>\n",
       "    </tr>\n",
       "    <tr>\n",
       "      <th>18</th>\n",
       "      <td>9421.757637</td>\n",
       "      <td>9420.396516</td>\n",
       "      <td>9419.035755</td>\n",
       "      <td>9417.675059</td>\n",
       "      <td>9416.315030</td>\n",
       "      <td>9414.954711</td>\n",
       "      <td>9413.595012</td>\n",
       "      <td>9412.235469</td>\n",
       "      <td>9410.876106</td>\n",
       "      <td>9409.517257</td>\n",
       "      <td>...</td>\n",
       "      <td>8197.924617</td>\n",
       "      <td>8196.804237</td>\n",
       "      <td>8195.684046</td>\n",
       "      <td>8194.564005</td>\n",
       "      <td>8193.444475</td>\n",
       "      <td>8192.324793</td>\n",
       "      <td>8191.205319</td>\n",
       "      <td>8190.086150</td>\n",
       "      <td>8188.967428</td>\n",
       "      <td>8187.848749</td>\n",
       "    </tr>\n",
       "    <tr>\n",
       "      <th>19</th>\n",
       "      <td>9038.840119</td>\n",
       "      <td>9037.451117</td>\n",
       "      <td>9036.062532</td>\n",
       "      <td>9034.674010</td>\n",
       "      <td>9033.286123</td>\n",
       "      <td>9031.898143</td>\n",
       "      <td>9030.510726</td>\n",
       "      <td>9029.123492</td>\n",
       "      <td>9027.736439</td>\n",
       "      <td>9026.349955</td>\n",
       "      <td>...</td>\n",
       "      <td>7799.871912</td>\n",
       "      <td>7798.746940</td>\n",
       "      <td>7797.622205</td>\n",
       "      <td>7796.497457</td>\n",
       "      <td>7795.373427</td>\n",
       "      <td>7794.249364</td>\n",
       "      <td>7793.125231</td>\n",
       "      <td>7792.001570</td>\n",
       "      <td>7790.878576</td>\n",
       "      <td>7789.755494</td>\n",
       "    </tr>\n",
       "    <tr>\n",
       "      <th>20</th>\n",
       "      <td>8649.009543</td>\n",
       "      <td>8647.598903</td>\n",
       "      <td>8646.188709</td>\n",
       "      <td>8644.778564</td>\n",
       "      <td>8643.369144</td>\n",
       "      <td>8641.959678</td>\n",
       "      <td>8640.550750</td>\n",
       "      <td>8639.142077</td>\n",
       "      <td>8637.733558</td>\n",
       "      <td>8636.325692</td>\n",
       "      <td>...</td>\n",
       "      <td>7400.943859</td>\n",
       "      <td>7399.820146</td>\n",
       "      <td>7398.696636</td>\n",
       "      <td>7397.573162</td>\n",
       "      <td>7396.450449</td>\n",
       "      <td>7395.327634</td>\n",
       "      <td>7394.204845</td>\n",
       "      <td>7393.082504</td>\n",
       "      <td>7391.960859</td>\n",
       "      <td>7390.839119</td>\n",
       "    </tr>\n",
       "  </tbody>\n",
       "</table>\n",
       "<p>21 rows × 1000 columns</p>\n",
       "</div>"
      ],
      "text/plain": [
       "               0             0             0             0             0  \\\n",
       "0       0.000000      0.000000      0.000000      0.000000      0.000000   \n",
       "1    5596.326388   5596.090115   5595.853846   5595.617583   5595.381324   \n",
       "2   10004.895981  10004.435862  10003.975796  10003.515745  10003.055547   \n",
       "3   11908.963876  11908.383716  11907.803518  11907.223451  11906.643308   \n",
       "4   12670.931374  12670.273360  12669.615315  12668.957533  12668.299477   \n",
       "5   12906.088957  12905.369596  12904.650171  12903.931209  12903.211578   \n",
       "6   12893.442652  12892.667745  12891.892772  12891.117875  12890.342953   \n",
       "7   12759.732728  12758.904084  12758.074930  12757.245890  12756.417151   \n",
       "8   12562.568039  12561.685576  12560.802340  12559.919408  12559.036841   \n",
       "9   12328.148222  12327.211753  12326.274249  12325.336984  12324.400220   \n",
       "10  12068.426251  12067.435176  12066.443694  12065.452139  12064.461436   \n",
       "11  11788.935056  11787.889738  11786.844427  11785.799034  11784.754313   \n",
       "12  11492.365368  11491.266721  11490.168444  11489.070063  11487.972099   \n",
       "13  11180.207516  11179.057237  11177.907318  11176.757401  11175.607787   \n",
       "14  10853.507959  10852.308258  10851.108894  10849.909639  10848.710898   \n",
       "15  10513.219434  10511.973273  10510.727362  10509.481578  10508.236455   \n",
       "16  10160.362771  10159.073690  10157.784949  10156.496303  10155.208317   \n",
       "17   9796.099067   9794.771446   9793.444169   9792.116961   9790.790488   \n",
       "18   9421.757637   9420.396516   9419.035755   9417.675059   9416.315030   \n",
       "19   9038.840119   9037.451117   9036.062532   9034.674010   9033.286123   \n",
       "20   8649.009543   8647.598903   8646.188709   8644.778564   8643.369144   \n",
       "\n",
       "               0             0             0             0             0  ...  \\\n",
       "0       0.000000      0.000000      0.000000      0.000000      0.000000  ...   \n",
       "1    5595.145070   5594.908820   5594.672575   5594.436335   5594.200100  ...   \n",
       "2   10002.595604  10002.135413  10001.675480  10001.215096  10000.755469  ...   \n",
       "3   11906.063260  11905.483143  11904.903119  11904.323256  11903.743045  ...   \n",
       "4   12667.641621  12666.983671  12666.325561  12665.668643  12665.010100  ...   \n",
       "5   12902.492616  12901.773024  12901.053955  12900.335312  12899.615651  ...   \n",
       "6   12889.568145  12888.793302  12888.018533  12887.244114  12886.469088  ...   \n",
       "7   12755.588242  12754.759478  12753.930741  12753.102085  12752.273722  ...   \n",
       "8   12558.153974  12557.271340  12556.388728  12555.506242  12554.623906  ...   \n",
       "9   12323.463227  12322.526627  12321.589723  12320.653262  12319.716491  ...   \n",
       "10  12063.469859  12062.479228  12061.487913  12060.497488  12059.506325  ...   \n",
       "11  11783.708855  11782.664168  11781.619116  11780.574805  11779.529954  ...   \n",
       "12  11486.873775  11485.775787  11484.677999  11483.580482  11482.483028  ...   \n",
       "13  11174.458037  11173.308599  11172.159302  11171.010154  11169.861495  ...   \n",
       "14  10847.511594  10846.312868  10845.114229  10843.915744  10842.717733  ...   \n",
       "15  10506.990697  10505.745566  10504.500569  10503.255649  10502.011289  ...   \n",
       "16  10153.919777  10152.631847  10151.344086  10150.056465  10148.769329  ...   \n",
       "17   9789.463481   9788.137179   9786.810990   9785.484964   9784.159517  ...   \n",
       "18   9414.954711   9413.595012   9412.235469   9410.876106   9409.517257  ...   \n",
       "19   9031.898143   9030.510726   9029.123492   9027.736439   9026.349955  ...   \n",
       "20   8641.959678   8640.550750   8639.142077   8637.733558   8636.325692  ...   \n",
       "\n",
       "               0             0             0             0             0  \\\n",
       "0       0.000000      0.000000      0.000000      0.000000      0.000000   \n",
       "1    5364.753431   5364.521933   5364.290441   5364.058963   5363.827481   \n",
       "2    9553.257824   9552.805799   9552.353499   9551.901478   9551.449158   \n",
       "3   11340.497492  11339.929612  11339.361286  11338.793158  11338.225022   \n",
       "4   12028.032040  12027.391524  12026.750782  12026.110344  12025.469808   \n",
       "5   12205.718971  12205.023411  12204.327993  12203.633000  12202.937537   \n",
       "6   12142.061416  12141.318454  12140.575476  12139.832888  12139.089913   \n",
       "7   11959.637839  11958.850536  11958.063096  11957.275837  11956.488639   \n",
       "8   11714.594798  11713.764832  11712.934234  11712.103967  11711.273819   \n",
       "9   11432.826538  11431.954727  11431.082520  11430.210550  11429.338550   \n",
       "10  11126.486143  11125.573832  11124.661535  11123.749480  11122.837297   \n",
       "11  10801.536969  10800.586188  10799.636002  10798.685364  10797.734875   \n",
       "12  10461.212007  10460.225139  10459.239030  10458.252661  10457.266395   \n",
       "13  10107.599799  10106.580114  10105.561040  10104.541836  10103.522869   \n",
       "14   9742.371066   9741.322179   9740.273731   9739.225245   9738.177030   \n",
       "15   9367.105778   9366.031751   9364.958025   9363.884390   9362.811189   \n",
       "16   8983.435009   8982.340365   8981.246021   8980.151794   8979.058059   \n",
       "17   8593.092770   8591.982604   8590.872622   8589.762860   8588.653497   \n",
       "18   8197.924617   8196.804237   8195.684046   8194.564005   8193.444475   \n",
       "19   7799.871912   7798.746940   7797.622205   7796.497457   7795.373427   \n",
       "20   7400.943859   7399.820146   7398.696636   7397.573162   7396.450449   \n",
       "\n",
       "               0             0             0             0             0  \n",
       "0       0.000000      0.000000      0.000000      0.000000      0.000000  \n",
       "1    5363.595985   5363.364512   5363.133054   5362.901591   5362.670130  \n",
       "2    9550.997158   9550.544878   9550.092951   9549.640276   9549.188774  \n",
       "3   11337.656981  11337.088920  11336.520937  11335.952954  11335.384849  \n",
       "4   12024.829328  12024.188493  12023.547967  12022.907407  12022.267229  \n",
       "5   12202.242451  12201.546889  12200.851656  12200.156717  12199.461456  \n",
       "6   12138.347169  12137.604408  12136.861667  12136.119172  12135.376347  \n",
       "7   11955.701237  11954.914001  11954.126824  11953.339666  11952.552616  \n",
       "8   11710.443738  11709.613352  11708.783271  11707.953262  11707.123387  \n",
       "9   11428.467204  11427.595103  11426.723372  11425.851849  11424.980218  \n",
       "10  11121.925527  11121.013596  11120.101687  11119.190185  11118.278269  \n",
       "11  10796.784700  10795.834851  10794.884730  10793.934687  10792.984640  \n",
       "12  10456.280246  10455.294783  10454.308881  10453.322857  10452.337110  \n",
       "13  10102.503867  10101.485592  10100.466902  10099.448066  10098.429542  \n",
       "14   9737.128770   9736.081196   9735.033289   9733.985165   9732.937614  \n",
       "15   9361.737651   9360.664864   9359.591841   9358.518675   9357.446025  \n",
       "16   8977.963866   8976.870450   8975.776899   8974.683326   8973.590230  \n",
       "17   8587.543860   8586.434736   8585.325690   8584.216843   8583.108239  \n",
       "18   8192.324793   8191.205319   8190.086150   8188.967428   8187.848749  \n",
       "19   7794.249364   7793.125231   7792.001570   7790.878576   7789.755494  \n",
       "20   7395.327634   7394.204845   7393.082504   7391.960859   7390.839119  \n",
       "\n",
       "[21 rows x 1000 columns]"
      ]
     },
     "execution_count": 128,
     "metadata": {},
     "output_type": "execute_result"
    }
   ],
   "source": [
    "df"
   ]
  },
  {
   "cell_type": "code",
   "execution_count": 131,
   "id": "b10e98d7",
   "metadata": {},
   "outputs": [],
   "source": [
    "def plotting_param (df,t):\n",
    "    n,p = df.shape\n",
    "    for col in range(p):\n",
    "        plt.plot(t,df.iloc[:,col],alpha=0.002, color=\"red\")\n",
    "        #plt.ylim((12000))"
   ]
  },
  {
   "cell_type": "code",
   "execution_count": 4,
   "id": "1e6ed4ad",
   "metadata": {},
   "outputs": [],
   "source": [
    "def opioids_model(INPUT, t, prescription_addiction,illegal_addiction_rate,f_laced_rate,recovery_rate,\n",
    "           relapse_rate,death_rate_heroin,death_rate_fentanyl,net_conversion, availability):\n",
    "    \n",
    "    S, H, F, R = INPUT[0], INPUT[1], INPUT[2], INPUT[3]\n",
    "    N = S + H + F + R\n",
    "\n",
    "    laced_exponent = -24.52*(F/H - 0.3)\n",
    "    f_laced_rate = f_laced_rate / (1 + np.exp(laced_exponent))\n",
    "\n",
    "    #if params['lower_bound_f_laced_rate']:\n",
    "    #    if not f_laced_rate > 0.01:\n",
    "    #        f_laced_rate = 0.01\n",
    "#\n",
    "    \n",
    "\n",
    "    death_rate_heroin = death_rate_heroin - death_rate_natural\n",
    "    death_rate_fentanyl = death_rate_fentanyl - death_rate_natural\n",
    "    \n",
    "    S_d_t = -(prescription_addiction + illegal_addiction_rate*availability*(H+F)/N)*S + death_rate_heroin*H + death_rate_fentanyl*F\n",
    "    H_d_t = (prescription_addiction + illegal_addiction_rate*availability*(H+F)/N)*S*(1-f_laced_rate) - f_laced_rate*H - net_conversion*H*F/N - recovery_rate*H + relapse_rate*H*R/N - death_rate_heroin*H\n",
    "    F_d_t = (prescription_addiction + illegal_addiction_rate*availability*(H+F)/N)*S*f_laced_rate + f_laced_rate*H + net_conversion*H*F/N - recovery_rate*F + relapse_rate*F*R/N - death_rate_fentanyl*F\n",
    "    R_d_t = recovery_rate*(H+F) - relapse_rate*R\n",
    "    \n",
    "    \n",
    "    return S_d_t, H_d_t, F_d_t, R_d_t"
   ]
  },
  {
   "cell_type": "code",
   "execution_count": 132,
   "id": "fdcf79a6",
   "metadata": {},
   "outputs": [
    {
     "data": {
      "image/png": "[encoded data removed]",
      "text/plain": [
       "<Figure size 432x288 with 1 Axes>"
      ]
     },
     "metadata": {
      "needs_background": "light"
     },
     "output_type": "display_data"
    }
   ],
   "source": [
    "plotting_param(df,t)"
   ]
  },
  {
   "cell_type": "code",
   "execution_count": 5,
   "id": "4c7381b1",
   "metadata": {},
   "outputs": [],
   "source": [
    "#def opioids_model(INPUT, t, prescription_addiction,illegal_addiction_rate,f_laced_rate,recovery_rate,\n",
    "#           relapse_rate,death_rate_heroin,death_rate_fentanyl,net_conversion, av):\n",
    "#\n",
    "#        S, H, F, R = INPUT[0], INPUT[1], INPUT[2], INPUT[3]\n",
    "#\n",
    "#\n",
    "#        S_d_t = -(prescription_addiction + illegal_addiction_rate*av*(H+F)/N)*S + death_rate_heroin*H + death_rate_fentanyl*F\n",
    "#        H_d_t = (prescription_addiction + illegal_addiction_rate*av*(H+F)/N)*S*(1-f_laced_rate) - f_laced_rate*H - net_conversion*H*F/N - recovery_rate*H + relapse_rate*H*R/N - death_rate_heroin*H\n",
    "#        F_d_t = (prescription_addiction + illegal_addiction_rate*av*(H+F)/N)*S*f_laced_rate + f_laced_rate*H + net_conversion*H*F/N - recovery_rate*F + relapse_rate*F*R/N - death_rate_fentanyl*F\n",
    "#        R_d_t = recovery_rate*(H+F) - relapse_rate*R\n",
    "#\n",
    "#        return S_d_t, H_d_t, F_d_t, R_d_t"
   ]
  },
  {
   "cell_type": "markdown",
   "id": "30b69968",
   "metadata": {},
   "source": [
    "_________________________"
   ]
  },
  {
   "cell_type": "code",
   "execution_count": 166,
   "id": "1580b1c3",
   "metadata": {},
   "outputs": [],
   "source": [
    "def opioids_model(INPUT, t, params,other):\n",
    "    \n",
    "    S, H, F, R = INPUT[0], INPUT[1], INPUT[2], INPUT[3]\n",
    "    N = S + H + F + R\n",
    "    \n",
    "    prescription_addiction = params['prescription_addiction']\n",
    "    illegal_addiction_rate = params['illegal_addiction_rate']\n",
    "\n",
    "    laced_exponent = -24.52*(F/H - 0.3)\n",
    "    f_laced_rate = params['f_laced_rate'] / (1 + np.exp(laced_exponent))\n",
    "\n",
    "    #if params['lower_bound_f_laced_rate']:\n",
    "    #    if not f_laced_rate > 0.01:\n",
    "    #        f_laced_rate = 0.01\n",
    "    net_conversion = params[\"net_conversion\"]\n",
    "\n",
    "    availability = params['availability']\n",
    "\n",
    "    recovery_rate = params['recovery_rate']\n",
    "    relapse_rate = params['relapse_rate']\n",
    "\n",
    "    death_rate_heroin = params['death_rate_heroin'] - params['death_rate_natural']\n",
    "    death_rate_fentanyl = params['death_rate_fentanyl'] - params['death_rate_natural']\n",
    "    \n",
    "    S_d_t = -(prescription_addiction + illegal_addiction_rate*availability*(H+F)/N)*S + death_rate_heroin*H + death_rate_fentanyl*F\n",
    "    H_d_t = (prescription_addiction + illegal_addiction_rate*availability*(H+F)/N)*S*(1-f_laced_rate) - f_laced_rate*H - net_conversion*H*F/N - recovery_rate*H + relapse_rate*H*R/N - death_rate_heroin*H\n",
    "    F_d_t = (prescription_addiction + illegal_addiction_rate*availability*(H+F)/N)*S*f_laced_rate + f_laced_rate*H + net_conversion*H*F/N - recovery_rate*F + relapse_rate*F*R/N - death_rate_fentanyl*F\n",
    "    R_d_t = recovery_rate*(H+F) - relapse_rate*R\n",
    "    \n",
    "    return S_d_t, H_d_t, F_d_t, R_d_t"
   ]
  },
  {
   "cell_type": "code",
   "execution_count": 364,
   "id": "60ad39ad",
   "metadata": {},
   "outputs": [],
   "source": [
    "def policy_analisis(parameter, changed_value,year_analysis):\n",
    "    # Normale --> calcolato\n",
    "    # Uniforme --> assunto\n",
    "    diff = year_analysis - 2020\n",
    "    \n",
    "    other = 0\n",
    "    S, H , F , R = y0\n",
    "    N =  S+H+F+R\n",
    "    \n",
    "    prescription_addiction = 0.1*0.001116#moltiplicazione\n",
    "    illegal_addiction_rate = 0.0036\n",
    "    f_laced_rate = 0.5\n",
    "    recovery_rate = 0.1 #[0.09,0.11] 0.04\n",
    "    relapse_rate = 0.7 #[0.6,0.8] 0.05\n",
    "    net_conversion = best_net_conversion\n",
    "    availability = global_availability_ratio\n",
    "    death_rate_heroin = 0.015 \n",
    "    death_rate_fentanyl = 0.1 #[0.09,0.11]\n",
    "    death_rate_natural = death_rate_prescription_opioids\n",
    "    \n",
    "    parameters = {'prescription_addiction':prescription_addiction,\n",
    "     'illegal_addiction_rate':illegal_addiction_rate,\n",
    "     'f_laced_rate':f_laced_rate,\n",
    "     'recovery_rate':recovery_rate,\n",
    "     'relapse_rate':relapse_rate,\n",
    "     'death_rate_heroin':death_rate_heroin,\n",
    "     'death_rate_fentanyl':death_rate_fentanyl,\n",
    "        'net_conversion':net_conversion,\n",
    "        'availability': availability,\n",
    "        \"death_rate_natural\":death_rate_natural }\n",
    "    \n",
    "    if parameter == \"prescription_addiction\":\n",
    "        old = prescription_addiction\n",
    "        print(f\"The old value: {old}\\nThe new value is: {changed_value}\")\n",
    "        parameters_new = parameters.copy()\n",
    "        parameters_new[parameter] = changed_value\n",
    "        \n",
    "    elif parameter == \"recovery_rate\":\n",
    "        old = recovery_rate\n",
    "        print(f\"The old value: {old}\\nThe new value is: {changed_value}\")\n",
    "        parameters_new = parameters.copy()\n",
    "        parameters_new[parameter] = changed_value\n",
    "        \n",
    "    elif parameter == \"relapse_rate\":\n",
    "        old = relapse_rate\n",
    "        print(f\"The old value: {old}\\nThe new value is: {changed_value}\")\n",
    "        parameters_new = parameters.copy()\n",
    "        parameters_new[parameter] = changed_value\n",
    "        \n",
    "    elif parameter == \"death_rate_fentanyl\":\n",
    "        old = death_rate_fentanyl\n",
    "        print(f\"The old value: {old}\\nThe new value is: {changed_value}\")\n",
    "        parameters_new = parameters.copy()\n",
    "        parameters_new[parameter] = changed_value\n",
    "        \n",
    "    elif parameter == \"illegal_addiction_rate\":\n",
    "        old = illegal_addiction_rate\n",
    "        print(f\"The old value: {old}\\nThe new value is: {changed_value}\")\n",
    "        parameters_new = parameters.copy()\n",
    "        parameters_new[parameter] = changed_value\n",
    "        \n",
    "    elif parameter == \"f_laced_rate\":\n",
    "        old = f_laced_rate\n",
    "        print(f\"The old value: {old}\\nThe new value is: {changed_value}\")\n",
    "        parameters_new = parameters.copy()\n",
    "        parameters_new[parameter] = changed_value\n",
    "        \n",
    "    elif parameter == \"net_conversion\":\n",
    "        old = net_conversion\n",
    "        print(f\"The old value: {old}\\nThe new value is: {changed_value}\")\n",
    "        parameters_new = parameters.copy()\n",
    "        parameters_new[parameter] = changed_value\n",
    "        \n",
    "    elif parameter == \"availability\":\n",
    "        old = availability\n",
    "        print(f\"The old value: {old}\\nThe new value is: {changed_value}\")\n",
    "        parameters_new = parameters.copy()\n",
    "        parameters_new[parameter] = changed_value\n",
    "        \n",
    "    elif parameter == \"death_rate_heroin\":\n",
    "        old = death_rate_heroin\n",
    "        print(f\"The old value: {old}\\nThe new value is: {changed_value}\")\n",
    "        parameters_new = parameters.copy()\n",
    "        parameters_new[parameter] = changed_value\n",
    "        \n",
    "    elif parameter == \"death_rate_natural\":\n",
    "        old = death_rate_natural\n",
    "        print(f\"The old value: {old}\\nThe new value is: {changed_value}\")\n",
    "        parameters_new = parameters.copy()\n",
    "        parameters_new[parameter] = changed_value\n",
    "        \n",
    "    \n",
    "    cases_old = odeint(opioids_model, y0 , np.arange(1999,2020), args=(parameters,other))\n",
    "    \n",
    "    S_L = cases_old[-1,0]\n",
    "    H_L = cases_old[-1,1]\n",
    "    F_L = cases_old[-1,2]\n",
    "    R_L = cases_old[-1,3]\n",
    "    \n",
    "    \n",
    "    \n",
    "    cases_constant = odeint(opioids_model, (S_L,H_L,F_L,R_L)  , np.arange(2019,year_analysis), args=(parameters,other))\n",
    "    cases_new = odeint(opioids_model, (S_L,H_L,F_L,R_L)  , np.arange(2019,year_analysis), args=(parameters_new,other))\n",
    "\n",
    "    plot_policy(parameter,cases_old, cases_new, cases_constant , year_analysis)\n",
    "    return cases_old , cases_new, cases_constant\n",
    "   \n",
    "    "
   ]
  },
  {
   "cell_type": "code",
   "execution_count": 365,
   "id": "201c9837",
   "metadata": {},
   "outputs": [
    {
     "data": {
      "text/plain": [
       "array([1999, 2000, 2001, 2002, 2003, 2004, 2005, 2006, 2007, 2008, 2009,\n",
       "       2010, 2011, 2012, 2013, 2014, 2015, 2016, 2017, 2018, 2019, 2020,\n",
       "       2021, 2022, 2023, 2024, 2025, 2026, 2027, 2028, 2029, 2030, 2031,\n",
       "       2032, 2033, 2034, 2035, 2036, 2037, 2038, 2039, 2040, 2041, 2042,\n",
       "       2043, 2044, 2045, 2046, 2047, 2048, 2049, 2050, 2051, 2052, 2053,\n",
       "       2054, 2055, 2056, 2057, 2058, 2059, 2060, 2061, 2062, 2063, 2064,\n",
       "       2065, 2066, 2067, 2068, 2069, 2070, 2071, 2072, 2073, 2074, 2075,\n",
       "       2076, 2077, 2078, 2079, 2080, 2081, 2082, 2083, 2084, 2085, 2086,\n",
       "       2087, 2088, 2089, 2090, 2091, 2092, 2093, 2094, 2095, 2096, 2097,\n",
       "       2098])"
      ]
     },
     "execution_count": 365,
     "metadata": {},
     "output_type": "execute_result"
    }
   ],
   "source": [
    "np.arange(1999,1999+100)"
   ]
  },
  {
   "cell_type": "code",
   "execution_count": 366,
   "id": "30ac4a11",
   "metadata": {},
   "outputs": [
    {
     "ename": "TypeError",
     "evalue": "vlines() missing 3 required positional arguments: 'x', 'ymin', and 'ymax'",
     "output_type": "error",
     "traceback": [
      "\u001b[1;31m---------------------------------------------------------------------------\u001b[0m",
      "\u001b[1;31mTypeError\u001b[0m                                 Traceback (most recent call last)",
      "\u001b[1;32m<ipython-input-366-434085a90c97>\u001b[0m in \u001b[0;36m<module>\u001b[1;34m\u001b[0m\n\u001b[1;32m----> 1\u001b[1;33m \u001b[0mplt\u001b[0m\u001b[1;33m.\u001b[0m\u001b[0mvlines\u001b[0m\u001b[1;33m(\u001b[0m\u001b[1;33m)\u001b[0m\u001b[1;33m\u001b[0m\u001b[1;33m\u001b[0m\u001b[0m\n\u001b[0m",
      "\u001b[1;31mTypeError\u001b[0m: vlines() missing 3 required positional arguments: 'x', 'ymin', and 'ymax'"
     ]
    }
   ],
   "source": [
    "plt.vlines()"
   ]
  },
  {
   "cell_type": "code",
   "execution_count": 462,
   "id": "4a853f20",
   "metadata": {},
   "outputs": [],
   "source": [
    "def plot_policy(param, case_old,case_new,cases_constant,t_fin):\n",
    "    font = font_manager.FontProperties(family='Times New Roman')\n",
    "    t = np.arange(1999,2020)\n",
    "    t_new = np.arange(2019,t_fin)\n",
    "    t_total = np.arange(1999,t_fin)\n",
    "    \n",
    "    S_d_t_old = case_old[:,0]\n",
    "    H_d_t_old = case_old[:,1]\n",
    "    F_d_t_old = case_old[:,2]\n",
    "    R_d_t_old = case_old[:,3]\n",
    "    \n",
    "    S_d_t_new = case_new[:,0]\n",
    "    H_d_t_new = case_new[:,1]\n",
    "    F_d_t_new = case_new[:,2]\n",
    "    R_d_t_new = case_new[:,3]\n",
    "    \n",
    "    S_d_t_cos = cases_constant[:,0]\n",
    "    H_d_t_cos = cases_constant[:,1]\n",
    "    F_d_t_cos = cases_constant[:,2]\n",
    "    R_d_t_cos = cases_constant[:,3]\n",
    "    \n",
    "    max_value=np.array([H_d_t_old.max(),F_d_t_old.max(),R_d_t_old.max(),H_d_t_new.max(),F_d_t_new.max(),R_d_t_new.max(),H_d_t_cos.max(),F_d_t_cos.max(),R_d_t_cos.max()])\n",
    "    i = max(max_value)\n",
    "    \n",
    "    \n",
    "    plt.style.use(\"seaborn\")\n",
    "    csfont = {'fontname':'Times New Roman'}\n",
    "    \n",
    "    fig, ax = plt.subplots(1,2,figsize=(14,5))\n",
    "    #ax[0].plot(t,S_d_t_old,label = \"S\")\n",
    "    ax[0].plot(t,H_d_t_old,label = \"H\", color=\"blue\")\n",
    "    ax[0].plot(t,F_d_t_old,label = \"F\", color=\"green\")\n",
    "    ax[0].plot(t,R_d_t_old,label = \"R\", color=\"red\")\n",
    "    #ax[0].set_xticks(t, rotation=45,fontsize=10, **csfont)\n",
    "    \n",
    "    \n",
    "    ax[0].set_title(\"Old differential equations\", **csfont)\n",
    "    #ax[0].legend(frameon=True, prop=font, loc='upper left')\n",
    "    \n",
    "    \n",
    "     #ax[1].plot(t_new,S_d_t_cos,label = \"S\", linestyle=\"dashed\")\n",
    "    ax[0].plot(t_new,H_d_t_cos,label = \"H_pred\", linestyle=\"dashed\",color=\"blue\")\n",
    "    ax[0].plot(t_new,F_d_t_cos,label = \"F_pred\", linestyle=\"dashed\",color=\"green\")\n",
    "    ax[0].plot(t_new,R_d_t_cos,label = \"R_pred\", linestyle=\"dashed\",color=\"red\")\n",
    "    ax[0].axvline(2019, label = \"Interruption\", color =\"black\", alpha=0.5)\n",
    "    ax[0].set_xlabel(\"Year\\n\",**csfont)\n",
    "    ax[0].set_ylim(-100,abs(i)+100)\n",
    "    plt.setp(ax[0].xaxis.get_majorticklabels(), rotation=45, **csfont)\n",
    "    plt.setp(ax[0].yaxis.get_majorticklabels(), **csfont)\n",
    "    ax[0].set_ylabel(\"Number over 100,000 individuals\",**csfont)\n",
    "    #ax[0].set_yticks(np.arange(-200,abs(i)+100,200))\n",
    "    ax[0].legend(frameon=True, prop=font,loc='upper left')\n",
    "    \n",
    "    \n",
    "    \n",
    "    #ax[0].plot(t,S_d_t_old)\n",
    "    ax[1].plot(t,H_d_t_old, color=\"blue\", label =\"H\")\n",
    "    ax[1].plot(t,F_d_t_old, color=\"green\",label =\"F\")\n",
    "    ax[1].plot(t,R_d_t_old, color=\"red\",label =\"R\")\n",
    "    #ax[1].set_xticks(t, rotation=45,fontsize=10, **csfont)\n",
    "    plt.setp(ax[1].xaxis.get_majorticklabels(), rotation=45, **csfont)\n",
    "    plt.setp(ax[1].yaxis.get_majorticklabels(), **csfont)\n",
    "    #ax[1].set_ylabel(\"Year\",**csfont)\n",
    "    \n",
    "    \n",
    "    #ax[1].plot(t_new,S_d_t_new,label = \"S\")\n",
    "    ax[1].plot(t_new,H_d_t_new,label = \"H pred\", linestyle=\"dashed\",color=\"blue\")\n",
    "    ax[1].plot(t_new,F_d_t_new,label = \"F pred\", linestyle=\"dashed\",color=\"green\")\n",
    "    ax[1].plot(t_new,R_d_t_new,label = \"R pred\", linestyle=\"dashed\",color=\"red\")\n",
    "    ax[1].axvline(2019, label = \"Interruption\", color =\"black\", alpha=0.5)\n",
    "    #ax[1].set_xticks(t_total, **csfont)\n",
    "    #ax[1].set_yticks(np.arange(-200,abs(i)+100,200))\n",
    "    ax[1].set_ylabel(\"Number over 100,000 individuals\",**csfont)\n",
    "    ax[1].set_ylim(-100,abs(i)+100)\n",
    "    ax[1].set_xlabel(\"Year\\n\",**csfont)\n",
    "    ax[1].set_title(f\"New differential equations changing {param}\", **csfont)\n",
    "    ax[1].legend(frameon=True, prop=font,loc='upper left')\n",
    "    #print(i)"
   ]
  },
  {
   "cell_type": "code",
   "execution_count": 463,
   "id": "9ee5a134",
   "metadata": {},
   "outputs": [
    {
     "ename": "IndentationError",
     "evalue": "unexpected indent (<ipython-input-463-be0ed579f248>, line 2)",
     "output_type": "error",
     "traceback": [
      "\u001b[1;36m  File \u001b[1;32m\"<ipython-input-463-be0ed579f248>\"\u001b[1;36m, line \u001b[1;32m2\u001b[0m\n\u001b[1;33m    illegal_addiction_rate = 0.0036\u001b[0m\n\u001b[1;37m    ^\u001b[0m\n\u001b[1;31mIndentationError\u001b[0m\u001b[1;31m:\u001b[0m unexpected indent\n"
     ]
    }
   ],
   "source": [
    "prescription_addiction = 0.1*0.001116#moltiplicazione\n",
    "    illegal_addiction_rate = 0.0036\n",
    "    f_laced_rate = 0.5\n",
    "    recovery_rate = 0.1 #[0.09,0.11] 0.04\n",
    "    relapse_rate = 0.7 #[0.6,0.8] 0.05\n",
    "    net_conversion = best_net_conversion\n",
    "    availability = global_availability_ratio\n",
    "    death_rate_heroin = 0.015 \n",
    "    death_rate_fentanyl = 0.1 #[0.09,0.11]\n",
    "    death_rate_natural = death_rate_prescription_opioids"
   ]
  },
  {
   "cell_type": "code",
   "execution_count": 464,
   "id": "3427348a",
   "metadata": {},
   "outputs": [
    {
     "data": {
      "application/javascript": [
       "IPython.OutputArea.prototype._should_scroll = function(lines) {\n",
       "    return false;\n",
       "}\n"
      ],
      "text/plain": [
       "<IPython.core.display.Javascript object>"
      ]
     },
     "metadata": {},
     "output_type": "display_data"
    }
   ],
   "source": [
    "%%javascript\n",
    "IPython.OutputArea.prototype._should_scroll = function(lines) {\n",
    "    return false;\n",
    "}"
   ]
  },
  {
   "cell_type": "code",
   "execution_count": 469,
   "id": "f546a19e",
   "metadata": {
    "scrolled": true
   },
   "outputs": [
    {
     "name": "stdout",
     "output_type": "stream",
     "text": [
      "The old value: 0.0001116\n",
      "The new value is: 5.58e-05\n"
     ]
    },
    {
     "data": {
      "image/png": "[encoded data removed]",
      "text/plain": [
       "<Figure size 1400x500 with 2 Axes>"
      ]
     },
     "metadata": {},
     "output_type": "display_data"
    }
   ],
   "source": [
    "old ,new, cost = policy_analisis(\"prescription_addiction\",0.1*0.001116*(1-0.5),2060)\n",
    "plt.savefig(\"prescription_addiction - 50%\")"
   ]
  },
  {
   "cell_type": "code",
   "execution_count": 468,
   "id": "63b8497f",
   "metadata": {},
   "outputs": [
    {
     "name": "stdout",
     "output_type": "stream",
     "text": [
      "The old value: 0.1\n",
      "The new value is: 0.2\n"
     ]
    },
    {
     "data": {
      "image/png": "[encoded data removed]",
      "text/plain": [
       "<Figure size 1400x500 with 2 Axes>"
      ]
     },
     "metadata": {},
     "output_type": "display_data"
    }
   ],
   "source": [
    "old ,new, cost = policy_analisis(\"recovery_rate\",0.1*2,2060)\n",
    "plt.savefig(\"recovery_rate + 100%\")"
   ]
  },
  {
   "cell_type": "code",
   "execution_count": null,
   "id": "80b11042",
   "metadata": {},
   "outputs": [],
   "source": [
    "len(old[:,0])"
   ]
  },
  {
   "cell_type": "code",
   "execution_count": 123,
   "id": "57b1e7d1",
   "metadata": {},
   "outputs": [
    {
     "data": {
      "text/plain": [
       "(99960.64333519242, 36.356664807585055, 2.9999999999999996, 0)"
      ]
     },
     "execution_count": 123,
     "metadata": {},
     "output_type": "execute_result"
    }
   ],
   "source": [
    "y0"
   ]
  },
  {
   "cell_type": "code",
   "execution_count": 217,
   "id": "7ba8d556",
   "metadata": {},
   "outputs": [
    {
     "data": {
      "image/png": "[encoded data removed]",
      "text/plain": [
       "<Figure size 576x396 with 1 Axes>"
      ]
     },
     "metadata": {},
     "output_type": "display_data"
    }
   ],
   "source": [
    "font = font_manager.FontProperties(family='Times New Roman')\n",
    "#ax.legend(prop=font)\n",
    "plt.style.use('seaborn')\n",
    "\n",
    "#sns.color_palette(\"YlOrRd\", as_cmap=True)\n",
    "csfont = {'fontname':'Times New Roman'}\n",
    "plt.plot(df_deaths.index, df_deaths['prescription_opioids'], color=\"mediumturquoise\",label =\"Prescription opioids\")\n",
    "plt.plot(df_deaths.index, df_deaths['heroin'], color=\"dodgerblue\",label =\"Heroin\")\n",
    "plt.plot(df_deaths.index, df_deaths['fentanyl'],color=\"navy\"  ,label =\"Fentanyl\")\n",
    "\n",
    "plt.title(\"Deaths by overdose over 100,000 individuals\",fontsize=15, **csfont)\n",
    "plt.ylabel(\"Number of deaths\",fontsize=11, **csfont)\n",
    "plt.xlabel(\"Year\",**csfont)\n",
    "plt.xticks(df_deaths.index, rotation=45,fontsize=10, **csfont)\n",
    "plt.legend(frameon=True,prop=font )\n",
    "plt.show();"
   ]
  },
  {
   "cell_type": "code",
   "execution_count": 124,
   "id": "36830b24",
   "metadata": {},
   "outputs": [
    {
     "data": {
      "text/plain": [
       "(-35.684921280134645,\n",
       " 31.958180214368415,\n",
       " -0.20892541499226525,\n",
       " 3.935666480758506)"
      ]
     },
     "execution_count": 124,
     "metadata": {},
     "output_type": "execute_result"
    }
   ],
   "source": [
    "opioids_model(y0,t,parameters)"
   ]
  },
  {
   "cell_type": "code",
   "execution_count": 168,
   "id": "482c3b71",
   "metadata": {},
   "outputs": [],
   "source": [
    "other =1"
   ]
  },
  {
   "cell_type": "code",
   "execution_count": 169,
   "id": "28d70df3",
   "metadata": {},
   "outputs": [],
   "source": [
    "cases_old = odeint(func=opioids_model, y0=y0 , t=t, args=(parameters,other))"
   ]
  },
  {
   "cell_type": "code",
   "execution_count": 106,
   "id": "621b0682",
   "metadata": {},
   "outputs": [
    {
     "data": {
      "text/plain": [
       "{'prescription_addiction': Uniform(lower=5.58e-05, upper=0.0002232),\n",
       " 'illegal_addiction_rate': 0.0036,\n",
       " 'f_laced_rate': 0.5,\n",
       " 'recovery_rate': Normal(mu=0.1, sigma=0.04),\n",
       " 'relapse_rate': Normal(mu=0.7, sigma=0.05),\n",
       " 'death_rate_heroin': 0.015,\n",
       " 'death_rate_fentanyl': Normal(mu=0.1, sigma=0.005),\n",
       " 'net_conversion': 178.5,\n",
       " 'availability': 44.166666666666664,\n",
       " 'death_rate_natural': 0.007288}"
      ]
     },
     "execution_count": 106,
     "metadata": {},
     "output_type": "execute_result"
    }
   ],
   "source": [
    "parameters"
   ]
  },
  {
   "cell_type": "code",
   "execution_count": null,
   "id": "c0ad71c2",
   "metadata": {},
   "outputs": [],
   "source": []
  }
 ],
 "metadata": {
  "kernelspec": {
   "display_name": "Python 3",
   "language": "python",
   "name": "python3"
  },
  "language_info": {
   "codemirror_mode": {
    "name": "ipython",
    "version": 3
   },
   "file_extension": ".py",
   "mimetype": "text/x-python",
   "name": "python",
   "nbconvert_exporter": "python",
   "pygments_lexer": "ipython3",
   "version": "3.8.3"
  }
 },
 "nbformat": 4,
 "nbformat_minor": 5
}
